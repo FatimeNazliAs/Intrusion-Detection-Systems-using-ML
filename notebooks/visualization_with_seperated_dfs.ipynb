{
 "cells": [
  {
   "cell_type": "code",
   "execution_count": 24,
   "metadata": {},
   "outputs": [],
   "source": [
    "import polars as pl\n",
    "import pandas as pd\n",
    "import matplotlib.pyplot as plt\n",
    "import seaborn as sns\n",
    "from collections import Counter\n",
    "%run utils.ipynb"
   ]
  },
  {
   "cell_type": "code",
   "execution_count": 25,
   "metadata": {},
   "outputs": [],
   "source": [
    "dos_df_path,fuzzy_df_path,attack_free_df_path=load_data_paths_from_config_to_notebooks(\"out_paths\")"
   ]
  },
  {
   "cell_type": "code",
   "execution_count": 26,
   "metadata": {},
   "outputs": [],
   "source": [
    "dos_df_pl = pl.read_csv(dos_df_path)\n",
    "fuzzy_df_pl= pl.read_csv(fuzzy_df_path)\n",
    "attack_free_df_pl= pl.read_csv(attack_free_df_path)"
   ]
  },
  {
   "cell_type": "code",
   "execution_count": 27,
   "metadata": {},
   "outputs": [],
   "source": [
    "dos_df_pd = dos_df_pl.to_pandas()\n",
    "fuzzy_df_pd=fuzzy_df_pl.to_pandas()\n",
    "attack_free_df_pd=attack_free_df_pl.to_pandas()"
   ]
  },
  {
   "cell_type": "code",
   "execution_count": 28,
   "metadata": {},
   "outputs": [],
   "source": [
    "attack_free_in_dos=dos_df_pd[dos_df_pd[\"updatedFlag\"]=='R']\n",
    "attack_free_in_fuzzy=fuzzy_df_pd[fuzzy_df_pd[\"updatedFlag\"]=='R']\n",
    "\n",
    "dos_df=dos_df_pd[dos_df_pd[\"updatedFlag\"]=='T']\n",
    "fuzzy_df=fuzzy_df_pd[fuzzy_df_pd[\"updatedFlag\"]=='T']\n",
    "attack_free_df=pd.concat([attack_free_df_pd,attack_free_in_dos,attack_free_in_fuzzy])"
   ]
  },
  {
   "cell_type": "code",
   "execution_count": 29,
   "metadata": {},
   "outputs": [
    {
     "name": "stderr",
     "output_type": "stream",
     "text": [
      "C:\\Users\\Naz\\AppData\\Local\\Temp\\ipykernel_26796\\2067426196.py:1: SettingWithCopyWarning: \n",
      "A value is trying to be set on a copy of a slice from a DataFrame.\n",
      "Try using .loc[row_indexer,col_indexer] = value instead\n",
      "\n",
      "See the caveats in the documentation: https://pandas.pydata.org/pandas-docs/stable/user_guide/indexing.html#returning-a-view-versus-a-copy\n",
      "  dos_df[\"attackType\"]=1\n",
      "C:\\Users\\Naz\\AppData\\Local\\Temp\\ipykernel_26796\\2067426196.py:2: SettingWithCopyWarning: \n",
      "A value is trying to be set on a copy of a slice from a DataFrame.\n",
      "Try using .loc[row_indexer,col_indexer] = value instead\n",
      "\n",
      "See the caveats in the documentation: https://pandas.pydata.org/pandas-docs/stable/user_guide/indexing.html#returning-a-view-versus-a-copy\n",
      "  fuzzy_df[\"attackType\"]=2\n"
     ]
    }
   ],
   "source": [
    "dos_df[\"attackType\"]=1\n",
    "fuzzy_df[\"attackType\"]=2\n",
    "attack_free_df[\"attackType\"]=0\n"
   ]
  },
  {
   "cell_type": "code",
   "execution_count": 30,
   "metadata": {},
   "outputs": [
    {
     "data": {
      "text/html": [
       "<div>\n",
       "<style scoped>\n",
       "    .dataframe tbody tr th:only-of-type {\n",
       "        vertical-align: middle;\n",
       "    }\n",
       "\n",
       "    .dataframe tbody tr th {\n",
       "        vertical-align: top;\n",
       "    }\n",
       "\n",
       "    .dataframe thead th {\n",
       "        text-align: right;\n",
       "    }\n",
       "</style>\n",
       "<table border=\"1\" class=\"dataframe\">\n",
       "  <thead>\n",
       "    <tr style=\"text-align: right;\">\n",
       "      <th></th>\n",
       "      <th>updatedCanId</th>\n",
       "      <th>dlc</th>\n",
       "      <th>attackType</th>\n",
       "    </tr>\n",
       "  </thead>\n",
       "  <tbody>\n",
       "    <tr>\n",
       "      <th>count</th>\n",
       "      <td>587521.0</td>\n",
       "      <td>587521.0</td>\n",
       "      <td>587521.0</td>\n",
       "    </tr>\n",
       "    <tr>\n",
       "      <th>mean</th>\n",
       "      <td>0.0</td>\n",
       "      <td>8.0</td>\n",
       "      <td>1.0</td>\n",
       "    </tr>\n",
       "    <tr>\n",
       "      <th>std</th>\n",
       "      <td>0.0</td>\n",
       "      <td>0.0</td>\n",
       "      <td>0.0</td>\n",
       "    </tr>\n",
       "    <tr>\n",
       "      <th>min</th>\n",
       "      <td>0.0</td>\n",
       "      <td>8.0</td>\n",
       "      <td>1.0</td>\n",
       "    </tr>\n",
       "    <tr>\n",
       "      <th>25%</th>\n",
       "      <td>0.0</td>\n",
       "      <td>8.0</td>\n",
       "      <td>1.0</td>\n",
       "    </tr>\n",
       "    <tr>\n",
       "      <th>50%</th>\n",
       "      <td>0.0</td>\n",
       "      <td>8.0</td>\n",
       "      <td>1.0</td>\n",
       "    </tr>\n",
       "    <tr>\n",
       "      <th>75%</th>\n",
       "      <td>0.0</td>\n",
       "      <td>8.0</td>\n",
       "      <td>1.0</td>\n",
       "    </tr>\n",
       "    <tr>\n",
       "      <th>max</th>\n",
       "      <td>0.0</td>\n",
       "      <td>8.0</td>\n",
       "      <td>1.0</td>\n",
       "    </tr>\n",
       "  </tbody>\n",
       "</table>\n",
       "</div>"
      ],
      "text/plain": [
       "       updatedCanId       dlc  attackType\n",
       "count      587521.0  587521.0    587521.0\n",
       "mean            0.0       8.0         1.0\n",
       "std             0.0       0.0         0.0\n",
       "min             0.0       8.0         1.0\n",
       "25%             0.0       8.0         1.0\n",
       "50%             0.0       8.0         1.0\n",
       "75%             0.0       8.0         1.0\n",
       "max             0.0       8.0         1.0"
      ]
     },
     "execution_count": 30,
     "metadata": {},
     "output_type": "execute_result"
    }
   ],
   "source": [
    "dos_df.describe()"
   ]
  },
  {
   "cell_type": "markdown",
   "metadata": {},
   "source": [
    "## Common Methods"
   ]
  },
  {
   "cell_type": "code",
   "execution_count": null,
   "metadata": {},
   "outputs": [],
   "source": [
    "\n",
    "top_20 = fuzzy_df[\"updatedCanId\"].value_counts().nlargest(100).reset_index()\n",
    "top_20.columns = [\"updatedCanId\", \"count\"]\n",
    "\n",
    "plt.figure(figsize=(12, 6)) \n",
    "sns.barplot(x=\"updatedCanId\", y=\"count\", data=top_20, palette=\"viridis\")\n",
    "\n",
    "plt.xlabel(\"Updated Can ID\", fontsize=14)\n",
    "plt.ylabel(\"Count\", fontsize=14)\n",
    "plt.title(\"Top 20 Updated Can IDs by Count\", fontsize=16)\n",
    "plt.xticks(rotation=45, fontsize=12)\n",
    "plt.yticks(fontsize=12)\n",
    "\n",
    "plt.tight_layout()\n",
    "plt.show()"
   ]
  },
  {
   "cell_type": "code",
   "execution_count": 31,
   "metadata": {},
   "outputs": [],
   "source": [
    "def plot_count_chart(df,column_name):\n",
    "    plt.figure(figsize=(6, 4))\n",
    "    \n",
    "    sns.countplot(x=column_name, data=df, palette='viridis')\n",
    "    \n",
    "    plt.title(f'Distribution of {column_name}')\n",
    "    plt.xlabel(column_name)\n",
    "    plt.ylabel('Frequency')\n",
    "    plt.xticks(rotation=45)\n",
    "    plt.tight_layout()\n",
    "    plt.show()"
   ]
  },
  {
   "cell_type": "code",
   "execution_count": 32,
   "metadata": {},
   "outputs": [],
   "source": [
    "def plot_bar_chart_of_percentages(df,column_name):\n",
    "    counts = Counter(df[column_name])\n",
    "    categories = list(counts.keys())\n",
    "    values = list(counts.values())\n",
    "    \n",
    "    total = sum(values)\n",
    "    percentages = [value / total * 100 for value in values]\n",
    "    \n",
    "    plt.bar(categories, values)\n",
    "    plt.xlabel('Category')\n",
    "    plt.ylabel('Count')\n",
    "    plt.title('Bar Chart with Percentages')\n",
    "\n",
    "    for i, (value, pct) in enumerate(zip(values, percentages)):\n",
    "        plt.text(i, value, f'{pct:.1f}%', ha='center', fontsize=15)\n",
    "\n",
    "    plt.show()"
   ]
  },
  {
   "cell_type": "code",
   "execution_count": 33,
   "metadata": {},
   "outputs": [],
   "source": [
    "def plot_pie_chart(df, column_name):\n",
    "    data = Counter(df[column_name])\n",
    "    key_list = list(data.keys())\n",
    "    val_list = list(data.values())\n",
    "\n",
    "    fig1, ax1 = plt.subplots(10,14)\n",
    "    wedges, texts, autotexts = ax1.pie(val_list, autopct='%1.1f%%',\n",
    "                                       shadow=True, startangle=90)\n",
    "    ax1.legend(wedges, key_list, title=\"Categories\", loc=\"center left\",\n",
    "               bbox_to_anchor=(1, 0, 0.5, 1))\n",
    "    plt.show()"
   ]
  },
  {
   "cell_type": "markdown",
   "metadata": {},
   "source": [
    "### Univariate Analysis"
   ]
  },
  {
   "cell_type": "markdown",
   "metadata": {},
   "source": [
    "#### Quick Analysis"
   ]
  },
  {
   "cell_type": "code",
   "execution_count": 34,
   "metadata": {},
   "outputs": [
    {
     "name": "stdout",
     "output_type": "stream",
     "text": [
      "(587521, 6)\n",
      "(491847, 6)\n",
      "(7414132, 6)\n"
     ]
    }
   ],
   "source": [
    "print(dos_df.shape)\n",
    "print(fuzzy_df.shape)\n",
    "print(attack_free_df.shape)"
   ]
  },
  {
   "cell_type": "code",
   "execution_count": 35,
   "metadata": {},
   "outputs": [
    {
     "data": {
      "text/html": [
       "<div>\n",
       "<style scoped>\n",
       "    .dataframe tbody tr th:only-of-type {\n",
       "        vertical-align: middle;\n",
       "    }\n",
       "\n",
       "    .dataframe tbody tr th {\n",
       "        vertical-align: top;\n",
       "    }\n",
       "\n",
       "    .dataframe thead th {\n",
       "        text-align: right;\n",
       "    }\n",
       "</style>\n",
       "<table border=\"1\" class=\"dataframe\">\n",
       "  <thead>\n",
       "    <tr style=\"text-align: right;\">\n",
       "      <th></th>\n",
       "      <th>datetime</th>\n",
       "      <th>updatedCanId</th>\n",
       "      <th>dlc</th>\n",
       "      <th>message</th>\n",
       "      <th>updatedFlag</th>\n",
       "      <th>attackType</th>\n",
       "    </tr>\n",
       "  </thead>\n",
       "  <tbody>\n",
       "    <tr>\n",
       "      <th>1475</th>\n",
       "      <td>2016-11-03T18:39:37.000000</td>\n",
       "      <td>0</td>\n",
       "      <td>8</td>\n",
       "      <td>0000000000000000</td>\n",
       "      <td>T</td>\n",
       "      <td>1</td>\n",
       "    </tr>\n",
       "    <tr>\n",
       "      <th>1477</th>\n",
       "      <td>2016-11-03T18:39:37.000000</td>\n",
       "      <td>0</td>\n",
       "      <td>8</td>\n",
       "      <td>0000000000000000</td>\n",
       "      <td>T</td>\n",
       "      <td>1</td>\n",
       "    </tr>\n",
       "    <tr>\n",
       "      <th>1479</th>\n",
       "      <td>2016-11-03T18:39:37.000000</td>\n",
       "      <td>0</td>\n",
       "      <td>8</td>\n",
       "      <td>0000000000000000</td>\n",
       "      <td>T</td>\n",
       "      <td>1</td>\n",
       "    </tr>\n",
       "    <tr>\n",
       "      <th>1481</th>\n",
       "      <td>2016-11-03T18:39:37.000000</td>\n",
       "      <td>0</td>\n",
       "      <td>8</td>\n",
       "      <td>0000000000000000</td>\n",
       "      <td>T</td>\n",
       "      <td>1</td>\n",
       "    </tr>\n",
       "    <tr>\n",
       "      <th>1483</th>\n",
       "      <td>2016-11-03T18:39:37.000000</td>\n",
       "      <td>0</td>\n",
       "      <td>8</td>\n",
       "      <td>0000000000000000</td>\n",
       "      <td>T</td>\n",
       "      <td>1</td>\n",
       "    </tr>\n",
       "  </tbody>\n",
       "</table>\n",
       "</div>"
      ],
      "text/plain": [
       "                        datetime  updatedCanId  dlc           message  \\\n",
       "1475  2016-11-03T18:39:37.000000             0    8  0000000000000000   \n",
       "1477  2016-11-03T18:39:37.000000             0    8  0000000000000000   \n",
       "1479  2016-11-03T18:39:37.000000             0    8  0000000000000000   \n",
       "1481  2016-11-03T18:39:37.000000             0    8  0000000000000000   \n",
       "1483  2016-11-03T18:39:37.000000             0    8  0000000000000000   \n",
       "\n",
       "     updatedFlag  attackType  \n",
       "1475           T           1  \n",
       "1477           T           1  \n",
       "1479           T           1  \n",
       "1481           T           1  \n",
       "1483           T           1  "
      ]
     },
     "execution_count": 35,
     "metadata": {},
     "output_type": "execute_result"
    }
   ],
   "source": [
    "dos_df.head()"
   ]
  },
  {
   "cell_type": "code",
   "execution_count": 36,
   "metadata": {},
   "outputs": [
    {
     "data": {
      "text/html": [
       "<div>\n",
       "<style scoped>\n",
       "    .dataframe tbody tr th:only-of-type {\n",
       "        vertical-align: middle;\n",
       "    }\n",
       "\n",
       "    .dataframe tbody tr th {\n",
       "        vertical-align: top;\n",
       "    }\n",
       "\n",
       "    .dataframe thead th {\n",
       "        text-align: right;\n",
       "    }\n",
       "</style>\n",
       "<table border=\"1\" class=\"dataframe\">\n",
       "  <thead>\n",
       "    <tr style=\"text-align: right;\">\n",
       "      <th></th>\n",
       "      <th>datetime</th>\n",
       "      <th>updatedCanId</th>\n",
       "      <th>dlc</th>\n",
       "      <th>message</th>\n",
       "      <th>updatedFlag</th>\n",
       "      <th>attackType</th>\n",
       "    </tr>\n",
       "  </thead>\n",
       "  <tbody>\n",
       "    <tr>\n",
       "      <th>1566</th>\n",
       "      <td>2016-11-03T17:55:22.000000</td>\n",
       "      <td>223</td>\n",
       "      <td>8</td>\n",
       "      <td>8cabf2267a291a0c</td>\n",
       "      <td>T</td>\n",
       "      <td>2</td>\n",
       "    </tr>\n",
       "    <tr>\n",
       "      <th>1567</th>\n",
       "      <td>2016-11-03T17:55:22.000000</td>\n",
       "      <td>1770</td>\n",
       "      <td>8</td>\n",
       "      <td>25109ced5b162c18</td>\n",
       "      <td>T</td>\n",
       "      <td>2</td>\n",
       "    </tr>\n",
       "    <tr>\n",
       "      <th>1568</th>\n",
       "      <td>2016-11-03T17:55:22.000000</td>\n",
       "      <td>765</td>\n",
       "      <td>8</td>\n",
       "      <td>3fbd68f3c34f28d4</td>\n",
       "      <td>T</td>\n",
       "      <td>2</td>\n",
       "    </tr>\n",
       "    <tr>\n",
       "      <th>1575</th>\n",
       "      <td>2016-11-03T17:55:22.000000</td>\n",
       "      <td>301</td>\n",
       "      <td>8</td>\n",
       "      <td>354599cf0980c777</td>\n",
       "      <td>T</td>\n",
       "      <td>2</td>\n",
       "    </tr>\n",
       "    <tr>\n",
       "      <th>1579</th>\n",
       "      <td>2016-11-03T17:55:22.000000</td>\n",
       "      <td>826</td>\n",
       "      <td>8</td>\n",
       "      <td>1c0486907f087ec9</td>\n",
       "      <td>T</td>\n",
       "      <td>2</td>\n",
       "    </tr>\n",
       "  </tbody>\n",
       "</table>\n",
       "</div>"
      ],
      "text/plain": [
       "                        datetime  updatedCanId  dlc           message  \\\n",
       "1566  2016-11-03T17:55:22.000000           223    8  8cabf2267a291a0c   \n",
       "1567  2016-11-03T17:55:22.000000          1770    8  25109ced5b162c18   \n",
       "1568  2016-11-03T17:55:22.000000           765    8  3fbd68f3c34f28d4   \n",
       "1575  2016-11-03T17:55:22.000000           301    8  354599cf0980c777   \n",
       "1579  2016-11-03T17:55:22.000000           826    8  1c0486907f087ec9   \n",
       "\n",
       "     updatedFlag  attackType  \n",
       "1566           T           2  \n",
       "1567           T           2  \n",
       "1568           T           2  \n",
       "1575           T           2  \n",
       "1579           T           2  "
      ]
     },
     "execution_count": 36,
     "metadata": {},
     "output_type": "execute_result"
    }
   ],
   "source": [
    "fuzzy_df.head()"
   ]
  },
  {
   "cell_type": "code",
   "execution_count": 37,
   "metadata": {},
   "outputs": [
    {
     "data": {
      "text/html": [
       "<div>\n",
       "<style scoped>\n",
       "    .dataframe tbody tr th:only-of-type {\n",
       "        vertical-align: middle;\n",
       "    }\n",
       "\n",
       "    .dataframe tbody tr th {\n",
       "        vertical-align: top;\n",
       "    }\n",
       "\n",
       "    .dataframe thead th {\n",
       "        text-align: right;\n",
       "    }\n",
       "</style>\n",
       "<table border=\"1\" class=\"dataframe\">\n",
       "  <thead>\n",
       "    <tr style=\"text-align: right;\">\n",
       "      <th></th>\n",
       "      <th>datetime</th>\n",
       "      <th>updatedCanId</th>\n",
       "      <th>dlc</th>\n",
       "      <th>message</th>\n",
       "      <th>updatedFlag</th>\n",
       "      <th>attackType</th>\n",
       "    </tr>\n",
       "  </thead>\n",
       "  <tbody>\n",
       "    <tr>\n",
       "      <th>0</th>\n",
       "      <td>2016-11-14T11:03:54.000000</td>\n",
       "      <td>848</td>\n",
       "      <td>8</td>\n",
       "      <td>052884666d0000a2</td>\n",
       "      <td>R</td>\n",
       "      <td>0</td>\n",
       "    </tr>\n",
       "    <tr>\n",
       "      <th>1</th>\n",
       "      <td>2016-11-14T11:03:54.000000</td>\n",
       "      <td>704</td>\n",
       "      <td>8</td>\n",
       "      <td>1400000000000000</td>\n",
       "      <td>R</td>\n",
       "      <td>0</td>\n",
       "    </tr>\n",
       "    <tr>\n",
       "      <th>2</th>\n",
       "      <td>2016-11-14T11:03:54.000000</td>\n",
       "      <td>1072</td>\n",
       "      <td>8</td>\n",
       "      <td>0000000000000000</td>\n",
       "      <td>R</td>\n",
       "      <td>0</td>\n",
       "    </tr>\n",
       "    <tr>\n",
       "      <th>3</th>\n",
       "      <td>2016-11-14T11:03:54.000000</td>\n",
       "      <td>1201</td>\n",
       "      <td>8</td>\n",
       "      <td>0000000000000000</td>\n",
       "      <td>R</td>\n",
       "      <td>0</td>\n",
       "    </tr>\n",
       "    <tr>\n",
       "      <th>4</th>\n",
       "      <td>2016-11-14T11:03:54.000000</td>\n",
       "      <td>497</td>\n",
       "      <td>8</td>\n",
       "      <td>0000000000000000</td>\n",
       "      <td>R</td>\n",
       "      <td>0</td>\n",
       "    </tr>\n",
       "  </tbody>\n",
       "</table>\n",
       "</div>"
      ],
      "text/plain": [
       "                     datetime  updatedCanId  dlc           message  \\\n",
       "0  2016-11-14T11:03:54.000000           848    8  052884666d0000a2   \n",
       "1  2016-11-14T11:03:54.000000           704    8  1400000000000000   \n",
       "2  2016-11-14T11:03:54.000000          1072    8  0000000000000000   \n",
       "3  2016-11-14T11:03:54.000000          1201    8  0000000000000000   \n",
       "4  2016-11-14T11:03:54.000000           497    8  0000000000000000   \n",
       "\n",
       "  updatedFlag  attackType  \n",
       "0           R           0  \n",
       "1           R           0  \n",
       "2           R           0  \n",
       "3           R           0  \n",
       "4           R           0  "
      ]
     },
     "execution_count": 37,
     "metadata": {},
     "output_type": "execute_result"
    }
   ],
   "source": [
    "attack_free_df.head()"
   ]
  },
  {
   "cell_type": "markdown",
   "metadata": {},
   "source": [
    "#### updatedCanId"
   ]
  },
  {
   "cell_type": "code",
   "execution_count": 38,
   "metadata": {},
   "outputs": [
    {
     "name": "stderr",
     "output_type": "stream",
     "text": [
      "C:\\Users\\Naz\\AppData\\Local\\Temp\\ipykernel_26796\\220639861.py:4: FutureWarning: \n",
      "\n",
      "Passing `palette` without assigning `hue` is deprecated and will be removed in v0.14.0. Assign the `x` variable to `hue` and set `legend=False` for the same effect.\n",
      "\n",
      "  sns.countplot(x=column_name, data=df, palette='viridis')\n"
     ]
    },
    {
     "data": {
      "image/png": "[encoded data removed]",
      "text/plain": [
       "<Figure size 600x400 with 1 Axes>"
      ]
     },
     "metadata": {},
     "output_type": "display_data"
    }
   ],
   "source": [
    "plot_count_chart(dos_df,\"updatedCanId\")"
   ]
  },
  {
   "cell_type": "code",
   "execution_count": 39,
   "metadata": {},
   "outputs": [
    {
     "data": {
      "text/plain": [
       "2048"
      ]
     },
     "execution_count": 39,
     "metadata": {},
     "output_type": "execute_result"
    }
   ],
   "source": [
    "fuzzy_df[\"updatedCanId\"].nunique()"
   ]
  },
  {
   "cell_type": "code",
   "execution_count": null,
   "metadata": {},
   "outputs": [
    {
     "name": "stderr",
     "output_type": "stream",
     "text": [
      "C:\\Users\\Naz\\AppData\\Local\\Temp\\ipykernel_26796\\1954055786.py:12: FutureWarning: \n",
      "\n",
      "Passing `palette` without assigning `hue` is deprecated and will be removed in v0.14.0. Assign the `x` variable to `hue` and set `legend=False` for the same effect.\n",
      "\n",
      "  sns.barplot(x=\"updatedCanId\", y=\"count\", data=top_20, palette=\"viridis\")\n"
     ]
    },
    {
     "data": {
      "image/png": "[encoded data removed]",
      "text/plain": [
       "<Figure size 1200x600 with 1 Axes>"
      ]
     },
     "metadata": {},
     "output_type": "display_data"
    }
   ],
   "source": [
    "\n",
    "top_20 = fuzzy_df[\"updatedCanId\"].value_counts().nlargest(100).reset_index()\n",
    "top_20.columns = [\"updatedCanId\", \"count\"]\n",
    "\n",
    "plt.figure(figsize=(12, 6)) \n",
    "sns.barplot(x=\"updatedCanId\", y=\"count\", data=top_20, palette=\"viridis\")\n",
    "\n",
    "plt.xlabel(\"Updated Can ID\", fontsize=14)\n",
    "plt.ylabel(\"Count\", fontsize=14)\n",
    "plt.title(\"Top 20 Updated Can IDs by Count\", fontsize=16)\n",
    "plt.xticks(rotation=45, fontsize=12)\n",
    "plt.yticks(fontsize=12)\n",
    "\n",
    "plt.tight_layout()\n",
    "plt.show()\n"
   ]
  },
  {
   "cell_type": "code",
   "execution_count": 41,
   "metadata": {},
   "outputs": [
    {
     "data": {
      "text/html": [
       "<div>\n",
       "<style scoped>\n",
       "    .dataframe tbody tr th:only-of-type {\n",
       "        vertical-align: middle;\n",
       "    }\n",
       "\n",
       "    .dataframe tbody tr th {\n",
       "        vertical-align: top;\n",
       "    }\n",
       "\n",
       "    .dataframe thead th {\n",
       "        text-align: right;\n",
       "    }\n",
       "</style>\n",
       "<table border=\"1\" class=\"dataframe\">\n",
       "  <thead>\n",
       "    <tr style=\"text-align: right;\">\n",
       "      <th></th>\n",
       "      <th>updatedCanId</th>\n",
       "      <th>count</th>\n",
       "    </tr>\n",
       "  </thead>\n",
       "  <tbody>\n",
       "    <tr>\n",
       "      <th>0</th>\n",
       "      <td>802</td>\n",
       "      <td>294</td>\n",
       "    </tr>\n",
       "    <tr>\n",
       "      <th>1</th>\n",
       "      <td>1282</td>\n",
       "      <td>293</td>\n",
       "    </tr>\n",
       "    <tr>\n",
       "      <th>2</th>\n",
       "      <td>481</td>\n",
       "      <td>293</td>\n",
       "    </tr>\n",
       "    <tr>\n",
       "      <th>3</th>\n",
       "      <td>136</td>\n",
       "      <td>291</td>\n",
       "    </tr>\n",
       "    <tr>\n",
       "      <th>4</th>\n",
       "      <td>1845</td>\n",
       "      <td>289</td>\n",
       "    </tr>\n",
       "    <tr>\n",
       "      <th>...</th>\n",
       "      <td>...</td>\n",
       "      <td>...</td>\n",
       "    </tr>\n",
       "    <tr>\n",
       "      <th>95</th>\n",
       "      <td>1065</td>\n",
       "      <td>266</td>\n",
       "    </tr>\n",
       "    <tr>\n",
       "      <th>96</th>\n",
       "      <td>1980</td>\n",
       "      <td>266</td>\n",
       "    </tr>\n",
       "    <tr>\n",
       "      <th>97</th>\n",
       "      <td>1045</td>\n",
       "      <td>266</td>\n",
       "    </tr>\n",
       "    <tr>\n",
       "      <th>98</th>\n",
       "      <td>1550</td>\n",
       "      <td>266</td>\n",
       "    </tr>\n",
       "    <tr>\n",
       "      <th>99</th>\n",
       "      <td>82</td>\n",
       "      <td>266</td>\n",
       "    </tr>\n",
       "  </tbody>\n",
       "</table>\n",
       "<p>100 rows × 2 columns</p>\n",
       "</div>"
      ],
      "text/plain": [
       "    updatedCanId  count\n",
       "0            802    294\n",
       "1           1282    293\n",
       "2            481    293\n",
       "3            136    291\n",
       "4           1845    289\n",
       "..           ...    ...\n",
       "95          1065    266\n",
       "96          1980    266\n",
       "97          1045    266\n",
       "98          1550    266\n",
       "99            82    266\n",
       "\n",
       "[100 rows x 2 columns]"
      ]
     },
     "execution_count": 41,
     "metadata": {},
     "output_type": "execute_result"
    }
   ],
   "source": [
    "top_20"
   ]
  },
  {
   "cell_type": "code",
   "execution_count": null,
   "metadata": {},
   "outputs": [],
   "source": []
  }
 ],
 "metadata": {
  "kernelspec": {
   "display_name": "naz-ids-dev",
   "language": "python",
   "name": "python3"
  },
  "language_info": {
   "codemirror_mode": {
    "name": "ipython",
    "version": 3
   },
   "file_extension": ".py",
   "mimetype": "text/x-python",
   "name": "python",
   "nbconvert_exporter": "python",
   "pygments_lexer": "ipython3",
   "version": "3.11.5"
  }
 },
 "nbformat": 4,
 "nbformat_minor": 2
}
