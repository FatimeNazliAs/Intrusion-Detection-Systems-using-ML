{
 "cells": [
  {
   "cell_type": "markdown",
   "metadata": {},
   "source": [
    "# Updating DLC and Misplaced Flag Association "
   ]
  },
  {
   "cell_type": "code",
   "execution_count": null,
   "metadata": {},
   "outputs": [],
   "source": []
  },
  {
   "cell_type": "markdown",
   "metadata": {},
   "source": [
    "\n",
    "This script addresses the issue of misplaced flag values in a dataset with a dynamic DLC (Data Length Code) structure.\n",
    "The data includes columns such as timestamp, canid, dlc, byte0 through byte7, and flag. When the `dlc` is\n",
    "the maximum value (8), the flag is stored in its designated column. However, for rows where `dlc` is less than the maximum \n",
    "value, the flag is incorrectly written into the byte columns (e.g., byte2 through byte7). \n",
    "\n",
    "The `update_dlc_flag_association` function orchestrates these transformations using modular helper methods.\n",
    "\n",
    "The above method ensure proper handling of the flag data:\n",
    "1. Identify misplaced flags and set them in their new location.\n",
    "2. Nullify any byte columns containing misplaced flag values.\n",
    "3. Ensure the flag column accurately reflects the flag value for maximum `dlc`.\n"
   ]
  },
  {
   "cell_type": "markdown",
   "metadata": {},
   "source": [
    "## Import Data and Libraries"
   ]
  },
  {
   "cell_type": "code",
   "execution_count": 1,
   "metadata": {},
   "outputs": [],
   "source": [
    "import polars as pl\n",
    "import datetime as dt\n",
    "%run utils.ipynb"
   ]
  },
  {
   "cell_type": "code",
   "execution_count": 2,
   "metadata": {},
   "outputs": [],
   "source": [
    "\n",
    "\n",
    "dos_df_path,fuzzy_df_path,attack_free_df_path=load_data_paths_from_config_to_notebooks(\"out_paths\")\n",
    "\n",
    "dos_df = pl.read_csv(dos_df_path)\n",
    "fuzzy_df = pl.read_csv(fuzzy_df_path)\n"
   ]
  },
  {
   "cell_type": "code",
   "execution_count": 3,
   "metadata": {},
   "outputs": [],
   "source": [
    "# dos_df = dos_df.with_columns(\n",
    "#     pl.when(pl.col(\"dlc\") != 8)\n",
    "#     .then(\n",
    "#         pl.when(pl.col(\"dlc\") == 0).then(pl.col(\"byte0\"))\n",
    "#         .when(pl.col(\"dlc\") == 1).then(pl.col(\"byte1\"))\n",
    "#         .when(pl.col(\"dlc\") == 2).then(pl.col(\"byte2\"))\n",
    "#         .when(pl.col(\"dlc\") == 3).then(pl.col(\"byte3\"))\n",
    "#         .when(pl.col(\"dlc\") == 4).then(pl.col(\"byte4\"))\n",
    "#         .when(pl.col(\"dlc\") == 5).then(pl.col(\"byte5\"))\n",
    "#         .when(pl.col(\"dlc\") == 6).then(pl.col(\"byte6\"))\n",
    "#         .when(pl.col(\"dlc\") == 7).then(pl.col(\"byte7\"))\n",
    "#         .otherwise(None)\n",
    "#     )\n",
    "#     .alias(\"flag_temp\")\n",
    "# )\n",
    "# for i in range(8):\n",
    "#     dos_df = dos_df.with_columns(\n",
    "#         pl.when(pl.col(\"dlc\") == i)\n",
    "#         .then(None)  # Set to null if dlc matches the byte column\n",
    "#         .otherwise(pl.col(f\"byte{i}\"))  # Keep the original value otherwise\n",
    "#         .alias(f\"byte{i}\")  # Update the byte column\n",
    "#     )\n",
    "\n",
    "# dos_df = dos_df.with_columns(\n",
    "#     pl.when(pl.col(\"dlc\")== 8)\n",
    "#     .then(pl.col(\"flag\"))\n",
    "#     .otherwise(pl.col(\"flag_temp\"))\n",
    "#     .alias(\"flag_temp\")\n",
    "# )\n",
    "\n",
    "\n"
   ]
  },
  {
   "cell_type": "markdown",
   "metadata": {},
   "source": [
    "## Methods"
   ]
  },
  {
   "cell_type": "code",
   "execution_count": null,
   "metadata": {},
   "outputs": [],
   "source": [
    "def  set_new_flag_for_non_max_dlc(df,max_dlc_value,existing_dlc_column_name,new_flag_column_name):\n",
    "    \"\"\"\n",
    "    Sets new flag values for rows where `dlc` is less than the maximum value.\n",
    "\n",
    "    Parameters\n",
    "    ----------\n",
    "    df : DataFrame\n",
    "        The input dataframe.\n",
    "    max_dlc_value : int\n",
    "        The maximum value of DLC.\n",
    "    existing_dlc_column_name : str\n",
    "        Name of the column containing the current DLC values.\n",
    "    new_flag_column_name : str\n",
    "        Name of the column to store the new flag values.\n",
    "\n",
    "    Returns\n",
    "    -------\n",
    "    DataFrame\n",
    "        Updated dataframe with new flag values for non-maximum DLC rows.\n",
    "    \"\"\"\n",
    "    return df.with_columns(\n",
    "        pl.when(pl.col(\"dlc\") != max_dlc_value)\n",
    "        .then(\n",
    "            pl.when(pl.col(existing_dlc_column_name) == 0).then(pl.col(\"byte_0\"))\n",
    "            .when(pl.col(existing_dlc_column_name) == 1).then(pl.col(\"byte_1\"))\n",
    "            .when(pl.col(existing_dlc_column_name) == 2).then(pl.col(\"byte_2\"))\n",
    "            .when(pl.col(existing_dlc_column_name) == 3).then(pl.col(\"byte_3\"))\n",
    "            .when(pl.col(existing_dlc_column_name) == 4).then(pl.col(\"byte_4\"))\n",
    "            .when(pl.col(existing_dlc_column_name) == 5).then(pl.col(\"byte_5\"))\n",
    "            .when(pl.col(existing_dlc_column_name) == 6).then(pl.col(\"byte_6\"))\n",
    "            .when(pl.col(existing_dlc_column_name) == 7).then(pl.col(\"byte_7\"))\n",
    "            .otherwise(None)\n",
    "        )\n",
    "        .alias(new_flag_column_name)\n",
    "    )\n"
   ]
  },
  {
   "cell_type": "code",
   "execution_count": null,
   "metadata": {},
   "outputs": [],
   "source": [
    "def set_byte_to_null_if_byte_contains_flag(df, existing_dlc_column_name):\n",
    "    \"\"\"\n",
    "    Nullifies byte columns containing misplaced flag values.\n",
    "\n",
    "    Parameters\n",
    "    ----------\n",
    "    df : DataFrame\n",
    "        The input dataframe.\n",
    "    existing_dlc_column_name : str\n",
    "        Name of the column containing the current DLC values.\n",
    "\n",
    "    Returns\n",
    "    -------\n",
    "    DataFrame\n",
    "        Updated dataframe with nullified byte columns containing misplaced flags.\n",
    "    \"\"\"\n",
    "    \n",
    "    for i in range(8):\n",
    "        df = df.with_columns(\n",
    "            pl.when(pl.col(existing_dlc_column_name) == i)\n",
    "            .then(None)  # Set to null if dlc matches the byte column\n",
    "            .otherwise(pl.col(f\"byte_{i}\"))  # Keep the original value otherwise\n",
    "            .alias(f\"byte_{i}\")  # Update the byte column\n",
    "        )\n",
    "    return df\n"
   ]
  },
  {
   "cell_type": "code",
   "execution_count": 6,
   "metadata": {},
   "outputs": [],
   "source": [
    "def  set_new_flag_for_max_dlc(df,max_dlc_value,existing_dlc_column_name,existing_flag_column_name,new_flag_column_name):\n",
    "    \"\"\"\n",
    "    Corrects the flag column for rows where `dlc` equals the maximum value.\n",
    "\n",
    "    Parameters\n",
    "    ----------\n",
    "    df : DataFrame\n",
    "        The input dataframe.\n",
    "    max_dlc_value : int\n",
    "        The maximum value of DLC.\n",
    "    existing_dlc_column_name : str\n",
    "        Name of the column containing the current DLC values.\n",
    "    existing_flag_column_name : str\n",
    "        Name of the column containing the current flag values.\n",
    "    new_flag_column_name : str\n",
    "        Name of the column to store the corrected flag values.\n",
    "\n",
    "    Returns\n",
    "    -------\n",
    "    DataFrame\n",
    "        Updated dataframe with corrected flag values for maximum DLC rows.\n",
    "    \"\"\"\n",
    "    \n",
    "    return df.with_columns(\n",
    "        pl.when(pl.col(existing_dlc_column_name)== max_dlc_value)\n",
    "        .then(pl.col(existing_flag_column_name))\n",
    "        .otherwise(pl.col(new_flag_column_name))\n",
    "        .alias(new_flag_column_name)\n",
    "    )\n"
   ]
  },
  {
   "cell_type": "code",
   "execution_count": 7,
   "metadata": {},
   "outputs": [],
   "source": [
    "def drop_column(df,column_name):\n",
    "    return df.drop(column_name)\n"
   ]
  },
  {
   "cell_type": "code",
   "execution_count": 8,
   "metadata": {},
   "outputs": [],
   "source": [
    "def update_dlc_flag_association(df,max_dlc_value,existing_dlc_column_name,existing_flag_column_name,new_flag_column_name):\n",
    "    \"\"\"\n",
    "    Updates flag associations by handling misplaced flags and cleaning byte columns, deleting old flag columns.\n",
    "\n",
    "    Parameters\n",
    "    ----------\n",
    "    df : DataFrame\n",
    "        The input dataframe containing byte, flag, and DLC columns.\n",
    "    max_dlc_value : int\n",
    "        The maximum value of DLC.\n",
    "    existing_dlc_column_name : str\n",
    "        Name of the column containing the current DLC values.\n",
    "    existing_flag_column_name : str\n",
    "        Name of the column containing the flag values.\n",
    "    new_flag_column_name : str\n",
    "        Name of the column to store the updated flag values.\n",
    "\n",
    "    Returns\n",
    "    -------\n",
    "    DataFrame\n",
    "        Updated dataframe with corrected flag associations.\n",
    "    \"\"\"\n",
    "    df=set_new_flag_for_non_max_dlc(df,max_dlc_value,existing_dlc_column_name,new_flag_column_name)\n",
    "    df=set_byte_to_null_if_byte_contains_flag(df, existing_dlc_column_name)\n",
    "    df=set_new_flag_for_max_dlc(df,max_dlc_value,existing_dlc_column_name,existing_flag_column_name,new_flag_column_name)\n",
    "    df=drop_column(df,existing_flag_column_name)\n",
    "    return df\n",
    "    "
   ]
  },
  {
   "cell_type": "code",
   "execution_count": 9,
   "metadata": {},
   "outputs": [],
   "source": [
    "def update_multiple_dfs_dlc_flag_association(\n",
    "    dfs,max_dlc_value,existing_dlc_column_name,existing_flag_column_name,new_flag_column_name\n",
    "):\n",
    "    \"\"\"\n",
    "    Convert multiple dfs' timestamp column into datetime column.\n",
    "\n",
    "    Parameters\n",
    "    ----------\n",
    "    dfs : list\n",
    "        List of DataFrame.\n",
    "    new_column_name : str\n",
    "        Name of new column to be added\n",
    "    existing_column_name : str\n",
    "        Name of the existing column containing timestamps.\n",
    "\n",
    "    Returns\n",
    "    -------\n",
    "    list\n",
    "        List of updated DataFrame.\n",
    "    \"\"\"\n",
    "    return [\n",
    "        update_dlc_flag_association(df,max_dlc_value,existing_dlc_column_name,existing_flag_column_name,new_flag_column_name)\n",
    "        for df in dfs\n",
    "    ]"
   ]
  },
  {
   "cell_type": "markdown",
   "metadata": {},
   "source": [
    "## Running Method"
   ]
  },
  {
   "cell_type": "code",
   "execution_count": 14,
   "metadata": {},
   "outputs": [],
   "source": [
    "dfs = [dos_df, fuzzy_df]\n",
    "\n",
    "existing_dlc_column_name =\"dlc\"\n",
    "max_dlc_value = max([df[existing_dlc_column_name].max()  for df in dfs])\n",
    "existing_flag_column_name=\"flag\"\n",
    "new_flag_column_name=\"updatedFlag\"\n",
    "\n",
    "# updated_dfs = update_multiple_dfs_dlc_flag_association(\n",
    "#     dfs,max_dlc_value,existing_dlc_column_name,existing_flag_column_name,new_flag_column_name\n",
    "# )\n",
    "# dos_df, fuzzy_df= updated_dfs"
   ]
  },
  {
   "cell_type": "code",
   "execution_count": 11,
   "metadata": {},
   "outputs": [
    {
     "data": {
      "text/html": [
       "<div><style>\n",
       ".dataframe > thead > tr,\n",
       ".dataframe > tbody > tr {\n",
       "  text-align: right;\n",
       "  white-space: pre-wrap;\n",
       "}\n",
       "</style>\n",
       "<small>shape: (31_188, 12)</small><table border=\"1\" class=\"dataframe\"><thead><tr><th>timestamp</th><th>canId</th><th>dlc</th><th>byte0</th><th>byte1</th><th>byte2</th><th>byte3</th><th>byte4</th><th>byte5</th><th>byte6</th><th>byte7</th><th>updatedFlag</th></tr><tr><td>f64</td><td>str</td><td>i64</td><td>str</td><td>str</td><td>str</td><td>str</td><td>str</td><td>str</td><td>str</td><td>str</td><td>str</td></tr></thead><tbody><tr><td>1.4782e9</td><td>&quot;05f0&quot;</td><td>2</td><td>&quot;01&quot;</td><td>&quot;00&quot;</td><td>null</td><td>null</td><td>null</td><td>null</td><td>null</td><td>null</td><td>&quot;R&quot;</td></tr><tr><td>1.4782e9</td><td>&quot;05f0&quot;</td><td>2</td><td>&quot;01&quot;</td><td>&quot;00&quot;</td><td>null</td><td>null</td><td>null</td><td>null</td><td>null</td><td>null</td><td>&quot;R&quot;</td></tr><tr><td>1.4782e9</td><td>&quot;05f0&quot;</td><td>2</td><td>&quot;01&quot;</td><td>&quot;00&quot;</td><td>null</td><td>null</td><td>null</td><td>null</td><td>null</td><td>null</td><td>&quot;R&quot;</td></tr><tr><td>1.4782e9</td><td>&quot;05f0&quot;</td><td>2</td><td>&quot;01&quot;</td><td>&quot;00&quot;</td><td>null</td><td>null</td><td>null</td><td>null</td><td>null</td><td>null</td><td>&quot;R&quot;</td></tr><tr><td>1.4782e9</td><td>&quot;05f0&quot;</td><td>2</td><td>&quot;01&quot;</td><td>&quot;00&quot;</td><td>null</td><td>null</td><td>null</td><td>null</td><td>null</td><td>null</td><td>&quot;R&quot;</td></tr><tr><td>&hellip;</td><td>&hellip;</td><td>&hellip;</td><td>&hellip;</td><td>&hellip;</td><td>&hellip;</td><td>&hellip;</td><td>&hellip;</td><td>&hellip;</td><td>&hellip;</td><td>&hellip;</td><td>&hellip;</td></tr><tr><td>1.4782e9</td><td>&quot;05f0&quot;</td><td>2</td><td>&quot;01&quot;</td><td>&quot;00&quot;</td><td>null</td><td>null</td><td>null</td><td>null</td><td>null</td><td>null</td><td>&quot;R&quot;</td></tr><tr><td>1.4782e9</td><td>&quot;05f0&quot;</td><td>2</td><td>&quot;01&quot;</td><td>&quot;00&quot;</td><td>null</td><td>null</td><td>null</td><td>null</td><td>null</td><td>null</td><td>&quot;R&quot;</td></tr><tr><td>1.4782e9</td><td>&quot;05f0&quot;</td><td>2</td><td>&quot;01&quot;</td><td>&quot;00&quot;</td><td>null</td><td>null</td><td>null</td><td>null</td><td>null</td><td>null</td><td>&quot;R&quot;</td></tr><tr><td>1.4782e9</td><td>&quot;05f0&quot;</td><td>2</td><td>&quot;01&quot;</td><td>&quot;00&quot;</td><td>null</td><td>null</td><td>null</td><td>null</td><td>null</td><td>null</td><td>&quot;R&quot;</td></tr><tr><td>1.4782e9</td><td>&quot;05f0&quot;</td><td>2</td><td>&quot;01&quot;</td><td>&quot;00&quot;</td><td>null</td><td>null</td><td>null</td><td>null</td><td>null</td><td>null</td><td>&quot;R&quot;</td></tr></tbody></table></div>"
      ],
      "text/plain": [
       "shape: (31_188, 12)\n",
       "┌───────────┬───────┬─────┬───────┬───┬───────┬───────┬───────┬─────────────┐\n",
       "│ timestamp ┆ canId ┆ dlc ┆ byte0 ┆ … ┆ byte5 ┆ byte6 ┆ byte7 ┆ updatedFlag │\n",
       "│ ---       ┆ ---   ┆ --- ┆ ---   ┆   ┆ ---   ┆ ---   ┆ ---   ┆ ---         │\n",
       "│ f64       ┆ str   ┆ i64 ┆ str   ┆   ┆ str   ┆ str   ┆ str   ┆ str         │\n",
       "╞═══════════╪═══════╪═════╪═══════╪═══╪═══════╪═══════╪═══════╪═════════════╡\n",
       "│ 1.4782e9  ┆ 05f0  ┆ 2   ┆ 01    ┆ … ┆ null  ┆ null  ┆ null  ┆ R           │\n",
       "│ 1.4782e9  ┆ 05f0  ┆ 2   ┆ 01    ┆ … ┆ null  ┆ null  ┆ null  ┆ R           │\n",
       "│ 1.4782e9  ┆ 05f0  ┆ 2   ┆ 01    ┆ … ┆ null  ┆ null  ┆ null  ┆ R           │\n",
       "│ 1.4782e9  ┆ 05f0  ┆ 2   ┆ 01    ┆ … ┆ null  ┆ null  ┆ null  ┆ R           │\n",
       "│ 1.4782e9  ┆ 05f0  ┆ 2   ┆ 01    ┆ … ┆ null  ┆ null  ┆ null  ┆ R           │\n",
       "│ …         ┆ …     ┆ …   ┆ …     ┆ … ┆ …     ┆ …     ┆ …     ┆ …           │\n",
       "│ 1.4782e9  ┆ 05f0  ┆ 2   ┆ 01    ┆ … ┆ null  ┆ null  ┆ null  ┆ R           │\n",
       "│ 1.4782e9  ┆ 05f0  ┆ 2   ┆ 01    ┆ … ┆ null  ┆ null  ┆ null  ┆ R           │\n",
       "│ 1.4782e9  ┆ 05f0  ┆ 2   ┆ 01    ┆ … ┆ null  ┆ null  ┆ null  ┆ R           │\n",
       "│ 1.4782e9  ┆ 05f0  ┆ 2   ┆ 01    ┆ … ┆ null  ┆ null  ┆ null  ┆ R           │\n",
       "│ 1.4782e9  ┆ 05f0  ┆ 2   ┆ 01    ┆ … ┆ null  ┆ null  ┆ null  ┆ R           │\n",
       "└───────────┴───────┴─────┴───────┴───┴───────┴───────┴───────┴─────────────┘"
      ]
     },
     "execution_count": 11,
     "metadata": {},
     "output_type": "execute_result"
    }
   ],
   "source": [
    "dos_df.filter(pl.col(\"dlc\") ==2)"
   ]
  },
  {
   "cell_type": "code",
   "execution_count": 12,
   "metadata": {},
   "outputs": [
    {
     "data": {
      "text/html": [
       "<div><style>\n",
       ".dataframe > thead > tr,\n",
       ".dataframe > tbody > tr {\n",
       "  text-align: right;\n",
       "  white-space: pre-wrap;\n",
       "}\n",
       "</style>\n",
       "<small>shape: (3_634_582, 12)</small><table border=\"1\" class=\"dataframe\"><thead><tr><th>timestamp</th><th>canId</th><th>dlc</th><th>byte0</th><th>byte1</th><th>byte2</th><th>byte3</th><th>byte4</th><th>byte5</th><th>byte6</th><th>byte7</th><th>updatedFlag</th></tr><tr><td>f64</td><td>str</td><td>i64</td><td>str</td><td>str</td><td>str</td><td>str</td><td>str</td><td>str</td><td>str</td><td>str</td><td>str</td></tr></thead><tbody><tr><td>1.4782e9</td><td>&quot;018f&quot;</td><td>8</td><td>&quot;fe&quot;</td><td>&quot;5b&quot;</td><td>&quot;00&quot;</td><td>&quot;00&quot;</td><td>&quot;00&quot;</td><td>&quot;3c&quot;</td><td>&quot;00&quot;</td><td>&quot;00&quot;</td><td>&quot;R&quot;</td></tr><tr><td>1.4782e9</td><td>&quot;0260&quot;</td><td>8</td><td>&quot;19&quot;</td><td>&quot;21&quot;</td><td>&quot;22&quot;</td><td>&quot;30&quot;</td><td>&quot;08&quot;</td><td>&quot;8e&quot;</td><td>&quot;6d&quot;</td><td>&quot;3a&quot;</td><td>&quot;R&quot;</td></tr><tr><td>1.4782e9</td><td>&quot;02a0&quot;</td><td>8</td><td>&quot;64&quot;</td><td>&quot;00&quot;</td><td>&quot;9a&quot;</td><td>&quot;1d&quot;</td><td>&quot;97&quot;</td><td>&quot;02&quot;</td><td>&quot;bd&quot;</td><td>&quot;00&quot;</td><td>&quot;R&quot;</td></tr><tr><td>1.4782e9</td><td>&quot;0329&quot;</td><td>8</td><td>&quot;40&quot;</td><td>&quot;bb&quot;</td><td>&quot;7f&quot;</td><td>&quot;14&quot;</td><td>&quot;11&quot;</td><td>&quot;20&quot;</td><td>&quot;00&quot;</td><td>&quot;14&quot;</td><td>&quot;R&quot;</td></tr><tr><td>1.4782e9</td><td>&quot;0545&quot;</td><td>8</td><td>&quot;d8&quot;</td><td>&quot;00&quot;</td><td>&quot;00&quot;</td><td>&quot;8a&quot;</td><td>&quot;00&quot;</td><td>&quot;00&quot;</td><td>&quot;00&quot;</td><td>&quot;00&quot;</td><td>&quot;R&quot;</td></tr><tr><td>&hellip;</td><td>&hellip;</td><td>&hellip;</td><td>&hellip;</td><td>&hellip;</td><td>&hellip;</td><td>&hellip;</td><td>&hellip;</td><td>&hellip;</td><td>&hellip;</td><td>&hellip;</td><td>&hellip;</td></tr><tr><td>1.4782e9</td><td>&quot;018f&quot;</td><td>8</td><td>&quot;fe&quot;</td><td>&quot;59&quot;</td><td>&quot;00&quot;</td><td>&quot;00&quot;</td><td>&quot;00&quot;</td><td>&quot;41&quot;</td><td>&quot;00&quot;</td><td>&quot;00&quot;</td><td>&quot;R&quot;</td></tr><tr><td>1.4782e9</td><td>&quot;0260&quot;</td><td>8</td><td>&quot;18&quot;</td><td>&quot;21&quot;</td><td>&quot;21&quot;</td><td>&quot;30&quot;</td><td>&quot;08&quot;</td><td>&quot;8f&quot;</td><td>&quot;6d&quot;</td><td>&quot;19&quot;</td><td>&quot;R&quot;</td></tr><tr><td>1.4782e9</td><td>&quot;02a0&quot;</td><td>8</td><td>&quot;24&quot;</td><td>&quot;00&quot;</td><td>&quot;9a&quot;</td><td>&quot;1d&quot;</td><td>&quot;97&quot;</td><td>&quot;02&quot;</td><td>&quot;bd&quot;</td><td>&quot;00&quot;</td><td>&quot;R&quot;</td></tr><tr><td>1.4782e9</td><td>&quot;0329&quot;</td><td>8</td><td>&quot;dc&quot;</td><td>&quot;b7&quot;</td><td>&quot;7f&quot;</td><td>&quot;14&quot;</td><td>&quot;11&quot;</td><td>&quot;20&quot;</td><td>&quot;00&quot;</td><td>&quot;14&quot;</td><td>&quot;R&quot;</td></tr><tr><td>1.4782e9</td><td>&quot;0545&quot;</td><td>8</td><td>&quot;d8&quot;</td><td>&quot;00&quot;</td><td>&quot;00&quot;</td><td>&quot;8b&quot;</td><td>&quot;00&quot;</td><td>&quot;00&quot;</td><td>&quot;00&quot;</td><td>&quot;00&quot;</td><td>&quot;R&quot;</td></tr></tbody></table></div>"
      ],
      "text/plain": [
       "shape: (3_634_582, 12)\n",
       "┌───────────┬───────┬─────┬───────┬───┬───────┬───────┬───────┬─────────────┐\n",
       "│ timestamp ┆ canId ┆ dlc ┆ byte0 ┆ … ┆ byte5 ┆ byte6 ┆ byte7 ┆ updatedFlag │\n",
       "│ ---       ┆ ---   ┆ --- ┆ ---   ┆   ┆ ---   ┆ ---   ┆ ---   ┆ ---         │\n",
       "│ f64       ┆ str   ┆ i64 ┆ str   ┆   ┆ str   ┆ str   ┆ str   ┆ str         │\n",
       "╞═══════════╪═══════╪═════╪═══════╪═══╪═══════╪═══════╪═══════╪═════════════╡\n",
       "│ 1.4782e9  ┆ 018f  ┆ 8   ┆ fe    ┆ … ┆ 3c    ┆ 00    ┆ 00    ┆ R           │\n",
       "│ 1.4782e9  ┆ 0260  ┆ 8   ┆ 19    ┆ … ┆ 8e    ┆ 6d    ┆ 3a    ┆ R           │\n",
       "│ 1.4782e9  ┆ 02a0  ┆ 8   ┆ 64    ┆ … ┆ 02    ┆ bd    ┆ 00    ┆ R           │\n",
       "│ 1.4782e9  ┆ 0329  ┆ 8   ┆ 40    ┆ … ┆ 20    ┆ 00    ┆ 14    ┆ R           │\n",
       "│ 1.4782e9  ┆ 0545  ┆ 8   ┆ d8    ┆ … ┆ 00    ┆ 00    ┆ 00    ┆ R           │\n",
       "│ …         ┆ …     ┆ …   ┆ …     ┆ … ┆ …     ┆ …     ┆ …     ┆ …           │\n",
       "│ 1.4782e9  ┆ 018f  ┆ 8   ┆ fe    ┆ … ┆ 41    ┆ 00    ┆ 00    ┆ R           │\n",
       "│ 1.4782e9  ┆ 0260  ┆ 8   ┆ 18    ┆ … ┆ 8f    ┆ 6d    ┆ 19    ┆ R           │\n",
       "│ 1.4782e9  ┆ 02a0  ┆ 8   ┆ 24    ┆ … ┆ 02    ┆ bd    ┆ 00    ┆ R           │\n",
       "│ 1.4782e9  ┆ 0329  ┆ 8   ┆ dc    ┆ … ┆ 20    ┆ 00    ┆ 14    ┆ R           │\n",
       "│ 1.4782e9  ┆ 0545  ┆ 8   ┆ d8    ┆ … ┆ 00    ┆ 00    ┆ 00    ┆ R           │\n",
       "└───────────┴───────┴─────┴───────┴───┴───────┴───────┴───────┴─────────────┘"
      ]
     },
     "execution_count": 12,
     "metadata": {},
     "output_type": "execute_result"
    }
   ],
   "source": [
    "dos_df.filter(pl.col(\"dlc\") ==8)"
   ]
  },
  {
   "cell_type": "code",
   "execution_count": 13,
   "metadata": {},
   "outputs": [
    {
     "data": {
      "text/plain": [
       "8"
      ]
     },
     "execution_count": 13,
     "metadata": {},
     "output_type": "execute_result"
    }
   ],
   "source": [
    "dos_df[existing_dlc_column_name].max()"
   ]
  },
  {
   "cell_type": "code",
   "execution_count": null,
   "metadata": {},
   "outputs": [],
   "source": []
  }
 ],
 "metadata": {
  "kernelspec": {
   "display_name": "naz-ids-dev",
   "language": "python",
   "name": "python3"
  },
  "language_info": {
   "codemirror_mode": {
    "name": "ipython",
    "version": 3
   },
   "file_extension": ".py",
   "mimetype": "text/x-python",
   "name": "python",
   "nbconvert_exporter": "python",
   "pygments_lexer": "ipython3",
   "version": "3.11.5"
  }
 },
 "nbformat": 4,
 "nbformat_minor": 2
}
