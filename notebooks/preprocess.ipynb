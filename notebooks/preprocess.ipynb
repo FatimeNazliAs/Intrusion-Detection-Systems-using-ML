{
 "cells": [
  {
   "cell_type": "markdown",
   "metadata": {},
   "source": [
    "## Import Data"
   ]
  },
  {
   "cell_type": "code",
   "execution_count": 10,
   "metadata": {},
   "outputs": [],
   "source": [
    "import pandas as pd\n",
    "%run utils.ipynb\n",
    "from datetime import datetime"
   ]
  },
  {
   "cell_type": "code",
   "execution_count": 11,
   "metadata": {},
   "outputs": [],
   "source": [
    "dos_df,fuzzy_df,attack_free_df=load_data(\"out_paths\",lib=\"pd\")"
   ]
  },
  {
   "cell_type": "code",
   "execution_count": 12,
   "metadata": {},
   "outputs": [],
   "source": [
    "only_dos_df=dos_df[dos_df[\"updated_flag\"]=='T']\n",
    "only_fuzzy_df=fuzzy_df[fuzzy_df[\"updated_flag\"]=='T']"
   ]
  },
  {
   "cell_type": "code",
   "execution_count": 13,
   "metadata": {},
   "outputs": [],
   "source": [
    "attack_free_inside_dos_df=dos_df[dos_df[\"updated_flag\"]=='R']\n",
    "attack_free_inside_fuzzy_df=fuzzy_df[fuzzy_df[\"updated_flag\"]=='R']\n"
   ]
  },
  {
   "cell_type": "markdown",
   "metadata": {},
   "source": [
    "## Preprocessing Steps"
   ]
  },
  {
   "cell_type": "markdown",
   "metadata": {},
   "source": [
    "### Common Methods"
   ]
  },
  {
   "cell_type": "code",
   "execution_count": 14,
   "metadata": {},
   "outputs": [],
   "source": [
    "def validate_column_in_dataframe(df, column_name):\n",
    "    \"\"\"\n",
    "    Checks column exist or not in given df.\n",
    "\n",
    "    Parameters\n",
    "    ----------\n",
    "    df :pl.DataFrame\n",
    "        Input DataFrame.\n",
    "    column_name : str\n",
    "        Column name that will be checked.\n",
    "\n",
    "    Raises\n",
    "    ------\n",
    "    ValueError\n",
    "       If the specified column does not exist in the DataFrame.\n",
    "    \"\"\"\n",
    "\n",
    "    if column_name not in df.columns:\n",
    "        raise ValueError(f\"Column '{column_name}' not found in DataFrame.\")"
   ]
  },
  {
   "cell_type": "markdown",
   "metadata": {},
   "source": [
    "### Delete Data"
   ]
  },
  {
   "cell_type": "markdown",
   "metadata": {},
   "source": [
    "#### Delete Noisy Data"
   ]
  },
  {
   "cell_type": "markdown",
   "metadata": {},
   "source": [
    "- In the attack-free dataset inside the fuzzy dataset, the value 6 in the dlc column appears only three times out of 3 million records. Since it is noisy, it needs to be removed."
   ]
  },
  {
   "cell_type": "code",
   "execution_count": 15,
   "metadata": {},
   "outputs": [
    {
     "data": {
      "text/html": [
       "<div>\n",
       "<style scoped>\n",
       "    .dataframe tbody tr th:only-of-type {\n",
       "        vertical-align: middle;\n",
       "    }\n",
       "\n",
       "    .dataframe tbody tr th {\n",
       "        vertical-align: top;\n",
       "    }\n",
       "\n",
       "    .dataframe thead th {\n",
       "        text-align: right;\n",
       "    }\n",
       "</style>\n",
       "<table border=\"1\" class=\"dataframe\">\n",
       "  <thead>\n",
       "    <tr style=\"text-align: right;\">\n",
       "      <th></th>\n",
       "      <th>timestamp</th>\n",
       "      <th>can_id</th>\n",
       "      <th>dlc</th>\n",
       "      <th>byte_0</th>\n",
       "      <th>byte_1</th>\n",
       "      <th>byte_2</th>\n",
       "      <th>byte_3</th>\n",
       "      <th>byte_4</th>\n",
       "      <th>byte_5</th>\n",
       "      <th>byte_6</th>\n",
       "      <th>byte_7</th>\n",
       "      <th>updated_flag</th>\n",
       "    </tr>\n",
       "  </thead>\n",
       "  <tbody>\n",
       "    <tr>\n",
       "      <th>1546675</th>\n",
       "      <td>1.478197e+09</td>\n",
       "      <td>0105</td>\n",
       "      <td>6</td>\n",
       "      <td>eb</td>\n",
       "      <td>01</td>\n",
       "      <td>b7</td>\n",
       "      <td>00</td>\n",
       "      <td>98</td>\n",
       "      <td>02</td>\n",
       "      <td>NaN</td>\n",
       "      <td>NaN</td>\n",
       "      <td>R</td>\n",
       "    </tr>\n",
       "    <tr>\n",
       "      <th>1713142</th>\n",
       "      <td>1.478197e+09</td>\n",
       "      <td>0105</td>\n",
       "      <td>6</td>\n",
       "      <td>ec</td>\n",
       "      <td>01</td>\n",
       "      <td>b8</td>\n",
       "      <td>00</td>\n",
       "      <td>be</td>\n",
       "      <td>01</td>\n",
       "      <td>NaN</td>\n",
       "      <td>NaN</td>\n",
       "      <td>R</td>\n",
       "    </tr>\n",
       "    <tr>\n",
       "      <th>1713159</th>\n",
       "      <td>1.478197e+09</td>\n",
       "      <td>0105</td>\n",
       "      <td>6</td>\n",
       "      <td>eb</td>\n",
       "      <td>01</td>\n",
       "      <td>b7</td>\n",
       "      <td>00</td>\n",
       "      <td>98</td>\n",
       "      <td>02</td>\n",
       "      <td>NaN</td>\n",
       "      <td>NaN</td>\n",
       "      <td>R</td>\n",
       "    </tr>\n",
       "  </tbody>\n",
       "</table>\n",
       "</div>"
      ],
      "text/plain": [
       "            timestamp can_id  dlc byte_0 byte_1 byte_2 byte_3 byte_4 byte_5  \\\n",
       "1546675  1.478197e+09   0105    6     eb     01     b7     00     98     02   \n",
       "1713142  1.478197e+09   0105    6     ec     01     b8     00     be     01   \n",
       "1713159  1.478197e+09   0105    6     eb     01     b7     00     98     02   \n",
       "\n",
       "        byte_6 byte_7 updated_flag  \n",
       "1546675    NaN    NaN            R  \n",
       "1713142    NaN    NaN            R  \n",
       "1713159    NaN    NaN            R  "
      ]
     },
     "execution_count": 15,
     "metadata": {},
     "output_type": "execute_result"
    }
   ],
   "source": [
    "attack_free_inside_fuzzy_df[attack_free_inside_fuzzy_df[\"dlc\"]==6]\n"
   ]
  },
  {
   "cell_type": "code",
   "execution_count": 16,
   "metadata": {},
   "outputs": [],
   "source": [
    "attack_free_inside_fuzzy_df=attack_free_inside_fuzzy_df[attack_free_inside_fuzzy_df[\"dlc\"]!=6]"
   ]
  },
  {
   "cell_type": "markdown",
   "metadata": {},
   "source": [
    "#### Delete Column"
   ]
  },
  {
   "cell_type": "markdown",
   "metadata": {},
   "source": [
    "##### frame_type in attack_free_df"
   ]
  },
  {
   "cell_type": "code",
   "execution_count": 17,
   "metadata": {},
   "outputs": [],
   "source": [
    "def drop_columns(df, columns):\n",
    "    \"\"\"\n",
    "    Drop specified columns from DataFrame.\n",
    "\n",
    "    Parameters\n",
    "    ----------\n",
    "    df : pd.DataFrame\n",
    "        DataFrame that columns will be dropped.\n",
    "    columns : list\n",
    "        list of column names to be dropped.\n",
    "\n",
    "    Returns\n",
    "    -------\n",
    "    pd.DataFrame\n",
    "        Modified DataFrame with the specified columns removed.\n",
    "        \n",
    "    Raises\n",
    "    ------\n",
    "    KeyError\n",
    "        If any of the specified columns do not exist in the DataFrame.\n",
    "    \"\"\"\n",
    "    validate_column_in_dataframe(df, columns)\n",
    "    return df.drop(columns=columns)"
   ]
  },
  {
   "cell_type": "code",
   "execution_count": 18,
   "metadata": {},
   "outputs": [],
   "source": [
    "attack_free_df=drop_columns(attack_free_df,\"frame_type\")"
   ]
  },
  {
   "cell_type": "markdown",
   "metadata": {},
   "source": [
    "### Sample data"
   ]
  },
  {
   "cell_type": "code",
   "execution_count": 19,
   "metadata": {},
   "outputs": [],
   "source": [
    "def do_random_sampling(df, sample_size):\n",
    "    \"\"\"_summary_\n",
    "\n",
    "    Perform random sampling on a given DataFrame.\n",
    "    ----------\n",
    "    df : pd.DataFrame\n",
    "        The input dataframe from which to sample data.\n",
    "    sample_size : int\n",
    "        The number of samples to extract\n",
    "\n",
    "    Returns\n",
    "    -------\n",
    "    pd.DataFrame\n",
    "        A randomly sampled DataFrame with 'sample_size' rows\n",
    "    \"\"\"\n",
    "    return df.sample(n=sample_size,random_state=42)"
   ]
  },
  {
   "cell_type": "code",
   "execution_count": 20,
   "metadata": {},
   "outputs": [],
   "source": [
    "def do_proportionate_stratified_sampling(df,column_name, sample_fraction):\n",
    "    \"\"\"_summary_\n",
    "\n",
    "    Perform proportionate stratified sampling on a given DataFrame.\n",
    "\n",
    "    This function samples a specified fraction of each unique category \n",
    "    in the given column, ensuring the original distribution is maintained.\n",
    "    ----------\n",
    "    df : _type_\n",
    "        The input DataFrame containing data.\n",
    "    column_name : _type_\n",
    "        The name of column to use for stratified sampling.\n",
    "    sample_fraction : _type_\n",
    "        The fraction of data to sample from each category. (between 0 and 1)\n",
    "\n",
    "    Returns\n",
    "    -------\n",
    "    pd.DataFrame\n",
    "        A proportionately stratified sample of the input DataFrame.\n",
    "\n",
    "    Raises\n",
    "    ------\n",
    "    ValueError\n",
    "        If the sample_fraction is not between 0 and 1.\n",
    "    \"\"\" \n",
    "\n",
    "    if not (0<sample_fraction<=1):\n",
    "        raise ValueError(\"sample_fraction must be between 0 and 1\")\n",
    "    \n",
    "    #group by creates sub-dataframes for each unique value in the column\n",
    "    #apply allows us to apply a function to each of these sub-dataframes\n",
    "    #lambda applies sample to each sub-dataframe\n",
    "    \n",
    "    return df.groupby(column_name, group_keys=False).apply(lambda x: x.sample(frac=sample_fraction,random_state=42))\n"
   ]
  },
  {
   "cell_type": "code",
   "execution_count": 21,
   "metadata": {},
   "outputs": [],
   "source": [
    "sampled_dos_df=do_random_sampling(only_dos_df, 40000)\n",
    "sampled_fuzzy_df=do_random_sampling(only_fuzzy_df, 40000)"
   ]
  },
  {
   "cell_type": "code",
   "execution_count": 22,
   "metadata": {},
   "outputs": [
    {
     "name": "stderr",
     "output_type": "stream",
     "text": [
      "C:\\Users\\Naz\\AppData\\Local\\Temp\\ipykernel_3836\\2371874293.py:34: DeprecationWarning: DataFrameGroupBy.apply operated on the grouping columns. This behavior is deprecated, and in a future version of pandas the grouping columns will be excluded from the operation. Either pass `include_groups=False` to exclude the groupings or explicitly select the grouping columns after groupby to silence this warning.\n",
      "  return df.groupby(column_name, group_keys=False).apply(lambda x: x.sample(frac=sample_fraction,random_state=42))\n",
      "C:\\Users\\Naz\\AppData\\Local\\Temp\\ipykernel_3836\\2371874293.py:34: DeprecationWarning: DataFrameGroupBy.apply operated on the grouping columns. This behavior is deprecated, and in a future version of pandas the grouping columns will be excluded from the operation. Either pass `include_groups=False` to exclude the groupings or explicitly select the grouping columns after groupby to silence this warning.\n",
      "  return df.groupby(column_name, group_keys=False).apply(lambda x: x.sample(frac=sample_fraction,random_state=42))\n"
     ]
    },
    {
     "name": "stdout",
     "output_type": "stream",
     "text": [
      "(19778, 11)\n",
      "(9235, 12)\n",
      "(10041, 12)\n"
     ]
    },
    {
     "name": "stderr",
     "output_type": "stream",
     "text": [
      "C:\\Users\\Naz\\AppData\\Local\\Temp\\ipykernel_3836\\2371874293.py:34: DeprecationWarning: DataFrameGroupBy.apply operated on the grouping columns. This behavior is deprecated, and in a future version of pandas the grouping columns will be excluded from the operation. Either pass `include_groups=False` to exclude the groupings or explicitly select the grouping columns after groupby to silence this warning.\n",
      "  return df.groupby(column_name, group_keys=False).apply(lambda x: x.sample(frac=sample_fraction,random_state=42))\n"
     ]
    }
   ],
   "source": [
    "sampled_attack_free_df=do_proportionate_stratified_sampling(attack_free_df,\"dlc\",0.02)\n",
    "sampled_attack_free_inside_dos_df=do_proportionate_stratified_sampling(attack_free_inside_dos_df,\"dlc\",0.003)\n",
    "sampled_attack_free_inside_fuzzy_df=do_proportionate_stratified_sampling(attack_free_inside_fuzzy_df,\"dlc\",0.003)\n",
    "\n",
    "print(sampled_attack_free_df.shape)\n",
    "print(sampled_attack_free_inside_dos_df.shape)\n",
    "print(sampled_attack_free_inside_fuzzy_df.shape)\n"
   ]
  },
  {
   "cell_type": "markdown",
   "metadata": {},
   "source": [
    "### Sort data"
   ]
  },
  {
   "cell_type": "code",
   "execution_count": 23,
   "metadata": {},
   "outputs": [],
   "source": [
    "def sort_df_by_column(df,column_name):\n",
    "    \"\"\"\n",
    "\n",
    "    Sort the given DataFrame by the values in the specified column.\n",
    "    ----------\n",
    "    df : pd.DataFrame\n",
    "        The input DataFrame to sort.\n",
    "    column_name : str\n",
    "        The name of the column to use for sorting.\n",
    "\n",
    "    Returns\n",
    "    -------\n",
    "    pd.DataFrame\n",
    "        The input DataFrame sorted by the values in the specified column.\n",
    "    \n",
    "    Raises\n",
    "    ------\n",
    "    ValueError\n",
    "        If the column name is not found in the DataFrame.\n",
    "    \"\"\"\n",
    "    validate_column_in_dataframe(df,column_name)\n",
    "    return df.sort_values(by=column_name,ascending=True)"
   ]
  },
  {
   "cell_type": "code",
   "execution_count": 24,
   "metadata": {},
   "outputs": [],
   "source": [
    "def sort_multiple_dfs_by_column(dfs,column_name):\n",
    "    \"\"\"\n",
    "    Sort multiple DataFrames by the values in the specified column.\n",
    "    ----------      \n",
    "\n",
    "    Parameters\n",
    "    ----------\n",
    "    dfs : list\n",
    "        List of DataFrames to sort.\n",
    "    column_name : str\n",
    "        The name of the column to use for sorting.\n",
    "\n",
    "    Returns\n",
    "    -------\n",
    "    list\n",
    "        List of DataFrames sorted by the values in the specified column.\n",
    "\n",
    "    Raises\n",
    "    ------\n",
    "    ValueError\n",
    "        If the column name is not found in any of the DataFrames.\n",
    "    \"\"\"\n",
    "    sorted_dfs=[]\n",
    "    for df in dfs:\n",
    "        validate_column_in_dataframe(df,column_name)\n",
    "        sorted_dfs.append(df.sort_values(by=column_name,ascending=True))\n",
    "    return sorted_dfs\n"
   ]
  },
  {
   "cell_type": "code",
   "execution_count": 25,
   "metadata": {},
   "outputs": [],
   "source": [
    "df_list=[sampled_dos_df,sampled_fuzzy_df,sampled_attack_free_df,sampled_attack_free_inside_dos_df,sampled_attack_free_inside_fuzzy_df]\n",
    "column_name=\"timestamp\"\n",
    "sorted_dfs= sort_multiple_dfs_by_column(df_list,column_name)\n"
   ]
  },
  {
   "cell_type": "code",
   "execution_count": 26,
   "metadata": {},
   "outputs": [],
   "source": [
    "sorted_dos_df,sorted_fuzzy_df,sorted_attack_free_df,sorted_attack_free_inside_dos_df,sorted_attack_free_inside_fuzzy_df=sorted_dfs"
   ]
  },
  {
   "cell_type": "markdown",
   "metadata": {},
   "source": [
    "### Insert columns"
   ]
  },
  {
   "cell_type": "markdown",
   "metadata": {},
   "source": [
    "#### updated_flag into attack free df"
   ]
  },
  {
   "cell_type": "code",
   "execution_count": 27,
   "metadata": {},
   "outputs": [],
   "source": [
    "def insert_new_column(df,new_column_name):\n",
    "    \"\"\"\n",
    "    Insert new column into a DataFrame, initializing with missing values(pd.NA)\n",
    "\n",
    "    Parameters\n",
    "    ----------\n",
    "    df :pd.DataFrame\n",
    "        The input DataFrame that new colum will be added.\n",
    "    new_column_name : str\n",
    "        The name of the new column to add to the DataFrame.\n",
    "\n",
    "\n",
    "    Returns\n",
    "    -------\n",
    "    pd.DataFrame\n",
    "        A DataFrame with the new column added.\n",
    "    \"\"\"\n",
    "    df[new_column_name]=pd.NA\n",
    "    return df\n"
   ]
  },
  {
   "cell_type": "code",
   "execution_count": 28,
   "metadata": {},
   "outputs": [],
   "source": [
    "inserted_attack_free_df=insert_new_column(sorted_attack_free_df,\"updated_flag\")"
   ]
  },
  {
   "cell_type": "code",
   "execution_count": 29,
   "metadata": {},
   "outputs": [
    {
     "data": {
      "text/html": [
       "<div>\n",
       "<style scoped>\n",
       "    .dataframe tbody tr th:only-of-type {\n",
       "        vertical-align: middle;\n",
       "    }\n",
       "\n",
       "    .dataframe tbody tr th {\n",
       "        vertical-align: top;\n",
       "    }\n",
       "\n",
       "    .dataframe thead th {\n",
       "        text-align: right;\n",
       "    }\n",
       "</style>\n",
       "<table border=\"1\" class=\"dataframe\">\n",
       "  <thead>\n",
       "    <tr style=\"text-align: right;\">\n",
       "      <th></th>\n",
       "      <th>timestamp</th>\n",
       "      <th>can_id</th>\n",
       "      <th>dlc</th>\n",
       "      <th>byte_0</th>\n",
       "      <th>byte_1</th>\n",
       "      <th>byte_2</th>\n",
       "      <th>byte_3</th>\n",
       "      <th>byte_4</th>\n",
       "      <th>byte_5</th>\n",
       "      <th>byte_6</th>\n",
       "      <th>byte_7</th>\n",
       "      <th>updated_flag</th>\n",
       "    </tr>\n",
       "  </thead>\n",
       "  <tbody>\n",
       "    <tr>\n",
       "      <th>32</th>\n",
       "      <td>1.479121e+09</td>\n",
       "      <td>0329</td>\n",
       "      <td>8</td>\n",
       "      <td>87</td>\n",
       "      <td>b9</td>\n",
       "      <td>7e</td>\n",
       "      <td>14</td>\n",
       "      <td>12</td>\n",
       "      <td>20</td>\n",
       "      <td>00</td>\n",
       "      <td>14</td>\n",
       "      <td>&lt;NA&gt;</td>\n",
       "    </tr>\n",
       "    <tr>\n",
       "      <th>46</th>\n",
       "      <td>1.479121e+09</td>\n",
       "      <td>018f</td>\n",
       "      <td>8</td>\n",
       "      <td>fe</td>\n",
       "      <td>36</td>\n",
       "      <td>00</td>\n",
       "      <td>00</td>\n",
       "      <td>00</td>\n",
       "      <td>3c</td>\n",
       "      <td>00</td>\n",
       "      <td>00</td>\n",
       "      <td>&lt;NA&gt;</td>\n",
       "    </tr>\n",
       "    <tr>\n",
       "      <th>209</th>\n",
       "      <td>1.479121e+09</td>\n",
       "      <td>0130</td>\n",
       "      <td>8</td>\n",
       "      <td>06</td>\n",
       "      <td>80</td>\n",
       "      <td>00</td>\n",
       "      <td>ff</td>\n",
       "      <td>0b</td>\n",
       "      <td>80</td>\n",
       "      <td>0a</td>\n",
       "      <td>44</td>\n",
       "      <td>&lt;NA&gt;</td>\n",
       "    </tr>\n",
       "    <tr>\n",
       "      <th>294</th>\n",
       "      <td>1.479121e+09</td>\n",
       "      <td>02c0</td>\n",
       "      <td>8</td>\n",
       "      <td>14</td>\n",
       "      <td>00</td>\n",
       "      <td>00</td>\n",
       "      <td>00</td>\n",
       "      <td>00</td>\n",
       "      <td>00</td>\n",
       "      <td>00</td>\n",
       "      <td>00</td>\n",
       "      <td>&lt;NA&gt;</td>\n",
       "    </tr>\n",
       "    <tr>\n",
       "      <th>387</th>\n",
       "      <td>1.479121e+09</td>\n",
       "      <td>0545</td>\n",
       "      <td>8</td>\n",
       "      <td>d8</td>\n",
       "      <td>00</td>\n",
       "      <td>00</td>\n",
       "      <td>8a</td>\n",
       "      <td>00</td>\n",
       "      <td>00</td>\n",
       "      <td>00</td>\n",
       "      <td>00</td>\n",
       "      <td>&lt;NA&gt;</td>\n",
       "    </tr>\n",
       "  </tbody>\n",
       "</table>\n",
       "</div>"
      ],
      "text/plain": [
       "        timestamp can_id  dlc byte_0 byte_1 byte_2 byte_3 byte_4 byte_5  \\\n",
       "32   1.479121e+09   0329    8     87     b9     7e     14     12     20   \n",
       "46   1.479121e+09   018f    8     fe     36     00     00     00     3c   \n",
       "209  1.479121e+09   0130    8     06     80     00     ff     0b     80   \n",
       "294  1.479121e+09   02c0    8     14     00     00     00     00     00   \n",
       "387  1.479121e+09   0545    8     d8     00     00     8a     00     00   \n",
       "\n",
       "    byte_6 byte_7 updated_flag  \n",
       "32      00     14         <NA>  \n",
       "46      00     00         <NA>  \n",
       "209     0a     44         <NA>  \n",
       "294     00     00         <NA>  \n",
       "387     00     00         <NA>  "
      ]
     },
     "execution_count": 29,
     "metadata": {},
     "output_type": "execute_result"
    }
   ],
   "source": [
    "inserted_attack_free_df.head()"
   ]
  },
  {
   "cell_type": "markdown",
   "metadata": {},
   "source": [
    "#### attack_type column into all columns"
   ]
  },
  {
   "cell_type": "code",
   "execution_count": 30,
   "metadata": {},
   "outputs": [],
   "source": [
    "inserted_dos_df,inserted_fuzzy_df,inserted_attack_free_df,inserted_attack_free_inside_dos_df,inserted_attack_free_inside_fuzzy_df=sorted_dos_df,sorted_fuzzy_df,inserted_attack_free_df,sorted_attack_free_inside_dos_df,sorted_attack_free_inside_fuzzy_df\n",
    "inserted_dfs=inserted_dos_df,inserted_fuzzy_df,inserted_attack_free_df,inserted_attack_free_inside_dos_df,inserted_attack_free_inside_fuzzy_df"
   ]
  },
  {
   "cell_type": "code",
   "execution_count": 31,
   "metadata": {},
   "outputs": [],
   "source": [
    "new_column_name=\"attack_type\"\n",
    "for df in inserted_dfs:\n",
    "    insert_new_column(df,new_column_name)\n",
    "    "
   ]
  },
  {
   "cell_type": "markdown",
   "metadata": {},
   "source": [
    "### Fill columns"
   ]
  },
  {
   "cell_type": "code",
   "execution_count": 32,
   "metadata": {},
   "outputs": [],
   "source": [
    "def fill_column_with_value(df,column_name,value):\n",
    "    \"\"\"\n",
    "    Fills a specified column in a DataFrame with a given value.\n",
    "    Parameters\n",
    "    ----------\n",
    "    df : pd.DataFrame\n",
    "        The DataFrame that column will be updated.\n",
    "    column_name : str\n",
    "        The name of column to be filled.\n",
    "    value : any\n",
    "        The value to fill column with.\n",
    "\n",
    "    Returns\n",
    "    -------\n",
    "    pd.DataFrame\n",
    "       The modified DataFrame with the specified column updated.\n",
    "    \"\"\"\n",
    "    df[column_name]=value\n",
    "    return df"
   ]
  },
  {
   "cell_type": "markdown",
   "metadata": {},
   "source": [
    "#### updated_flag value of attack free df"
   ]
  },
  {
   "cell_type": "code",
   "execution_count": 33,
   "metadata": {},
   "outputs": [],
   "source": [
    "filled_attack_free_df=fill_column_with_value(inserted_attack_free_df,\"updated_flag\",'R')"
   ]
  },
  {
   "cell_type": "code",
   "execution_count": 34,
   "metadata": {},
   "outputs": [
    {
     "data": {
      "text/html": [
       "<div>\n",
       "<style scoped>\n",
       "    .dataframe tbody tr th:only-of-type {\n",
       "        vertical-align: middle;\n",
       "    }\n",
       "\n",
       "    .dataframe tbody tr th {\n",
       "        vertical-align: top;\n",
       "    }\n",
       "\n",
       "    .dataframe thead th {\n",
       "        text-align: right;\n",
       "    }\n",
       "</style>\n",
       "<table border=\"1\" class=\"dataframe\">\n",
       "  <thead>\n",
       "    <tr style=\"text-align: right;\">\n",
       "      <th></th>\n",
       "      <th>timestamp</th>\n",
       "      <th>can_id</th>\n",
       "      <th>dlc</th>\n",
       "      <th>byte_0</th>\n",
       "      <th>byte_1</th>\n",
       "      <th>byte_2</th>\n",
       "      <th>byte_3</th>\n",
       "      <th>byte_4</th>\n",
       "      <th>byte_5</th>\n",
       "      <th>byte_6</th>\n",
       "      <th>byte_7</th>\n",
       "      <th>updated_flag</th>\n",
       "      <th>attack_type</th>\n",
       "    </tr>\n",
       "  </thead>\n",
       "  <tbody>\n",
       "    <tr>\n",
       "      <th>32</th>\n",
       "      <td>1.479121e+09</td>\n",
       "      <td>0329</td>\n",
       "      <td>8</td>\n",
       "      <td>87</td>\n",
       "      <td>b9</td>\n",
       "      <td>7e</td>\n",
       "      <td>14</td>\n",
       "      <td>12</td>\n",
       "      <td>20</td>\n",
       "      <td>00</td>\n",
       "      <td>14</td>\n",
       "      <td>R</td>\n",
       "      <td>&lt;NA&gt;</td>\n",
       "    </tr>\n",
       "    <tr>\n",
       "      <th>46</th>\n",
       "      <td>1.479121e+09</td>\n",
       "      <td>018f</td>\n",
       "      <td>8</td>\n",
       "      <td>fe</td>\n",
       "      <td>36</td>\n",
       "      <td>00</td>\n",
       "      <td>00</td>\n",
       "      <td>00</td>\n",
       "      <td>3c</td>\n",
       "      <td>00</td>\n",
       "      <td>00</td>\n",
       "      <td>R</td>\n",
       "      <td>&lt;NA&gt;</td>\n",
       "    </tr>\n",
       "    <tr>\n",
       "      <th>209</th>\n",
       "      <td>1.479121e+09</td>\n",
       "      <td>0130</td>\n",
       "      <td>8</td>\n",
       "      <td>06</td>\n",
       "      <td>80</td>\n",
       "      <td>00</td>\n",
       "      <td>ff</td>\n",
       "      <td>0b</td>\n",
       "      <td>80</td>\n",
       "      <td>0a</td>\n",
       "      <td>44</td>\n",
       "      <td>R</td>\n",
       "      <td>&lt;NA&gt;</td>\n",
       "    </tr>\n",
       "    <tr>\n",
       "      <th>294</th>\n",
       "      <td>1.479121e+09</td>\n",
       "      <td>02c0</td>\n",
       "      <td>8</td>\n",
       "      <td>14</td>\n",
       "      <td>00</td>\n",
       "      <td>00</td>\n",
       "      <td>00</td>\n",
       "      <td>00</td>\n",
       "      <td>00</td>\n",
       "      <td>00</td>\n",
       "      <td>00</td>\n",
       "      <td>R</td>\n",
       "      <td>&lt;NA&gt;</td>\n",
       "    </tr>\n",
       "    <tr>\n",
       "      <th>387</th>\n",
       "      <td>1.479121e+09</td>\n",
       "      <td>0545</td>\n",
       "      <td>8</td>\n",
       "      <td>d8</td>\n",
       "      <td>00</td>\n",
       "      <td>00</td>\n",
       "      <td>8a</td>\n",
       "      <td>00</td>\n",
       "      <td>00</td>\n",
       "      <td>00</td>\n",
       "      <td>00</td>\n",
       "      <td>R</td>\n",
       "      <td>&lt;NA&gt;</td>\n",
       "    </tr>\n",
       "  </tbody>\n",
       "</table>\n",
       "</div>"
      ],
      "text/plain": [
       "        timestamp can_id  dlc byte_0 byte_1 byte_2 byte_3 byte_4 byte_5  \\\n",
       "32   1.479121e+09   0329    8     87     b9     7e     14     12     20   \n",
       "46   1.479121e+09   018f    8     fe     36     00     00     00     3c   \n",
       "209  1.479121e+09   0130    8     06     80     00     ff     0b     80   \n",
       "294  1.479121e+09   02c0    8     14     00     00     00     00     00   \n",
       "387  1.479121e+09   0545    8     d8     00     00     8a     00     00   \n",
       "\n",
       "    byte_6 byte_7 updated_flag attack_type  \n",
       "32      00     14            R        <NA>  \n",
       "46      00     00            R        <NA>  \n",
       "209     0a     44            R        <NA>  \n",
       "294     00     00            R        <NA>  \n",
       "387     00     00            R        <NA>  "
      ]
     },
     "execution_count": 34,
     "metadata": {},
     "output_type": "execute_result"
    }
   ],
   "source": [
    "filled_attack_free_df.head()"
   ]
  },
  {
   "cell_type": "markdown",
   "metadata": {},
   "source": [
    "#### attack_type columns in all dfs"
   ]
  },
  {
   "cell_type": "code",
   "execution_count": 35,
   "metadata": {},
   "outputs": [],
   "source": [
    "filled_dos_df,filled_fuzzy_df,filled_attack_free_df,filled_attack_free_inside_dos_df,filled_attack_free_inside_fuzzy_df=inserted_dos_df,inserted_fuzzy_df,filled_attack_free_df,inserted_attack_free_inside_dos_df,inserted_attack_free_inside_fuzzy_df\n",
    "filled_dfs=filled_dos_df,filled_fuzzy_df,filled_attack_free_df,filled_attack_free_inside_dos_df,filled_attack_free_inside_fuzzy_df\n",
    "    "
   ]
  },
  {
   "cell_type": "code",
   "execution_count": 36,
   "metadata": {},
   "outputs": [],
   "source": [
    "for df in [filled_attack_free_df,filled_attack_free_inside_dos_df,filled_attack_free_inside_fuzzy_df]:\n",
    "    fill_column_with_value(df,\"attack_type\",0)"
   ]
  },
  {
   "cell_type": "code",
   "execution_count": 37,
   "metadata": {},
   "outputs": [],
   "source": [
    "filled_dos_df=fill_column_with_value(filled_dos_df,\"attack_type\",1)\n",
    "filled_fuzzy_df=fill_column_with_value(filled_fuzzy_df,\"attack_type\",2)"
   ]
  },
  {
   "cell_type": "code",
   "execution_count": 38,
   "metadata": {},
   "outputs": [],
   "source": [
    "filled_dfs=filled_dos_df,filled_fuzzy_df,filled_attack_free_df,filled_attack_free_inside_dos_df,filled_attack_free_inside_fuzzy_df\n"
   ]
  },
  {
   "cell_type": "markdown",
   "metadata": {},
   "source": [
    "### Rename data types"
   ]
  },
  {
   "cell_type": "markdown",
   "metadata": {},
   "source": [
    "#### updated_flag -> flag"
   ]
  },
  {
   "cell_type": "code",
   "execution_count": 39,
   "metadata": {},
   "outputs": [],
   "source": [
    "def rename_column(df, column_name, new_column_name):\n",
    "    \"\"\"\n",
    "    Renames a specified column in a DataFrame.\n",
    "\n",
    "    Parameters\n",
    "    ----------\n",
    "    df : pandas.DataFrame\n",
    "        The DataFrame in which the column will be renamed.\n",
    "    column_name : str\n",
    "        The current name of the column to be renamed.\n",
    "    new_column_name : str\n",
    "        The new name for the column.\n",
    "\n",
    "    Returns\n",
    "    -------\n",
    "    pandas.DataFrame\n",
    "        The DataFrame with the specified column renamed.\n",
    "\n",
    "    Raises\n",
    "    ------\n",
    "    KeyError\n",
    "        If the specified column does not exist in the DataFrame.\n",
    "    \"\"\"\n",
    "    validate_column_in_dataframe(df, column_name)\n",
    "    return df.rename(columns={column_name: new_column_name})\n"
   ]
  },
  {
   "cell_type": "code",
   "execution_count": 40,
   "metadata": {},
   "outputs": [],
   "source": [
    "def rename_multiple_dfs_columns(dfs,column_name,new_column_name):\n",
    "    \"\"\"_summary_\n",
    "\n",
    "    Parameters\n",
    "    ----------\n",
    "    dfs : _type_\n",
    "        _description_\n",
    "    column_name : _type_\n",
    "        _description_\n",
    "    new_column_name : _type_\n",
    "        _description_\n",
    "\n",
    "    Returns\n",
    "    -------\n",
    "    _type_\n",
    "        _description_\n",
    "    \"\"\"\n",
    "    renamed_dfs=[]\n",
    "    for df in dfs:\n",
    "        renamed_dfs.append(rename_column(df,column_name,new_column_name))\n",
    "    return renamed_dfs"
   ]
  },
  {
   "cell_type": "code",
   "execution_count": 41,
   "metadata": {},
   "outputs": [],
   "source": [
    "renamed_dfs=rename_multiple_dfs_columns(filled_dfs,\"updated_flag\",\"flag\")"
   ]
  },
  {
   "cell_type": "markdown",
   "metadata": {},
   "source": [
    "### Convert data types"
   ]
  },
  {
   "cell_type": "markdown",
   "metadata": {},
   "source": [
    "#### timestamp->datetime"
   ]
  },
  {
   "cell_type": "markdown",
   "metadata": {},
   "source": [
    "- We convert timestamp to datetime for data visualization as a next step!"
   ]
  },
  {
   "cell_type": "code",
   "execution_count": 42,
   "metadata": {},
   "outputs": [],
   "source": [
    "def convert_column_timestamp_to_datetime(df,column_name,new_column_name):\n",
    "    #ten digit timestamp suggessts seconds since epoch\n",
    "    \"\"\"\n",
    "    Convert a Unix timestamp to a datetime object and add it as a new column to the DataFrame.\n",
    "\n",
    "    Parameters\n",
    "    ----------\n",
    "    df : pd.DataFrame\n",
    "        The input DataFrame containing the timestamp column.\n",
    "    column_name : str\n",
    "        The name of the column containing the Unix timestamp.\n",
    "    new_column_name : str\n",
    "        The name of the new column to add to the DataFrame.\n",
    "\n",
    "    Returns\n",
    "    -------\n",
    "    pd.DataFrame\n",
    "        A DataFrame with the new column added.\n",
    "    \"\"\"\n",
    " \n",
    "    validate_column_in_dataframe(df,column_name)\n",
    "    \n",
    "    df[new_column_name]=pd.to_datetime(df[column_name],unit='s')\n",
    "    return df"
   ]
  },
  {
   "cell_type": "code",
   "execution_count": 43,
   "metadata": {},
   "outputs": [],
   "source": [
    "def convert_multiple_dfs_timestamp_to_datetime(dfs,column_name,new_column_name):\n",
    "    \"\"\"\n",
    "    Convert a Unix timestamp to a datetime object and add it as a new column to each DataFrame in the list.\n",
    "\n",
    "    Parameters\n",
    "    ----------\n",
    "    dfs : list\n",
    "        List of DataFrames containing the timestamp column.\n",
    "    column_name : str\n",
    "        The name of the column containing the Unix timestamp.\n",
    "    new_column_name : str\n",
    "        The name of the new column to add to the DataFrame.\n",
    "\n",
    "    Returns\n",
    "    -------\n",
    "    list\n",
    "        List of DataFrames with the new column added.\n",
    "    \"\"\"\n",
    "    converted_dfs=[]\n",
    "    for df in dfs:\n",
    "        converted_dfs.append(convert_column_timestamp_to_datetime(df,column_name,new_column_name))\n",
    "    return converted_dfs"
   ]
  },
  {
   "cell_type": "code",
   "execution_count": 44,
   "metadata": {},
   "outputs": [],
   "source": [
    "converted_timestamp_dfs=convert_multiple_dfs_timestamp_to_datetime(renamed_dfs,\"timestamp\",\"datetime\")"
   ]
  },
  {
   "cell_type": "markdown",
   "metadata": {},
   "source": [
    "#### can_id hex(str) ->  can_id (int) "
   ]
  },
  {
   "cell_type": "code",
   "execution_count": 45,
   "metadata": {},
   "outputs": [],
   "source": [
    "def convert_str_hex_to_int(df,column_name,new_column_name):\n",
    "    \"\"\"\n",
    "    Convert a hexadecimal string to an integer and add it as a new column to the DataFrame.\n",
    "\n",
    "    Parameters\n",
    "    ----------\n",
    "    df : pd.DataFrame\n",
    "        The input DataFrame containing the hexadecimal column.\n",
    "    column_name : str\n",
    "        The name of the column containing the hexadecimal string.\n",
    "    new_column_name : str\n",
    "        The name of the new column to add to the DataFrame.\n",
    "\n",
    "    Returns\n",
    "    -------\n",
    "    pd.DataFrame\n",
    "        A DataFrame with the new column added.\n",
    "    \"\"\"\n",
    "    validate_column_in_dataframe(df,column_name)\n",
    "    df[new_column_name]=df[column_name].apply(lambda x: int(x,16))\n",
    "    return df"
   ]
  },
  {
   "cell_type": "code",
   "execution_count": 46,
   "metadata": {},
   "outputs": [],
   "source": [
    "def convert_multiple_dfs_str_hex_to_int(dfs,column_name,new_column_name):\n",
    "    \"\"\"\n",
    "    Convert a hexadecimal string to an integer and add it as a new column to each DataFrame in the list.\n",
    "\n",
    "    Parameters\n",
    "    ----------\n",
    "    dfs : list\n",
    "        List of DataFrames containing the hexadecimal column.\n",
    "    column_name : str\n",
    "        The name of the column containing the hexadecimal string.\n",
    "    new_column_name : str\n",
    "        The name of the new column to add to the DataFrame.\n",
    "\n",
    "    Returns\n",
    "    -------\n",
    "    list\n",
    "        List of DataFrames with the new column added.\n",
    "    \"\"\"\n",
    "    converted_dfs=[]\n",
    "    for df in dfs:\n",
    "        converted_dfs.append(convert_str_hex_to_int(df,column_name,new_column_name))\n",
    "    return converted_dfs"
   ]
  },
  {
   "cell_type": "code",
   "execution_count": 47,
   "metadata": {},
   "outputs": [],
   "source": [
    "converted_can_id_dfs=convert_multiple_dfs_str_hex_to_int(converted_timestamp_dfs,\"can_id\",\"can_id\")"
   ]
  },
  {
   "cell_type": "code",
   "execution_count": 48,
   "metadata": {},
   "outputs": [
    {
     "data": {
      "text/html": [
       "<div>\n",
       "<style scoped>\n",
       "    .dataframe tbody tr th:only-of-type {\n",
       "        vertical-align: middle;\n",
       "    }\n",
       "\n",
       "    .dataframe tbody tr th {\n",
       "        vertical-align: top;\n",
       "    }\n",
       "\n",
       "    .dataframe thead th {\n",
       "        text-align: right;\n",
       "    }\n",
       "</style>\n",
       "<table border=\"1\" class=\"dataframe\">\n",
       "  <thead>\n",
       "    <tr style=\"text-align: right;\">\n",
       "      <th></th>\n",
       "      <th>timestamp</th>\n",
       "      <th>can_id</th>\n",
       "      <th>dlc</th>\n",
       "      <th>byte_0</th>\n",
       "      <th>byte_1</th>\n",
       "      <th>byte_2</th>\n",
       "      <th>byte_3</th>\n",
       "      <th>byte_4</th>\n",
       "      <th>byte_5</th>\n",
       "      <th>byte_6</th>\n",
       "      <th>byte_7</th>\n",
       "      <th>flag</th>\n",
       "      <th>attack_type</th>\n",
       "      <th>datetime</th>\n",
       "    </tr>\n",
       "  </thead>\n",
       "  <tbody>\n",
       "    <tr>\n",
       "      <th>1479</th>\n",
       "      <td>1.478198e+09</td>\n",
       "      <td>0</td>\n",
       "      <td>8</td>\n",
       "      <td>00</td>\n",
       "      <td>00</td>\n",
       "      <td>00</td>\n",
       "      <td>00</td>\n",
       "      <td>00</td>\n",
       "      <td>00</td>\n",
       "      <td>00</td>\n",
       "      <td>00</td>\n",
       "      <td>T</td>\n",
       "      <td>1</td>\n",
       "      <td>2016-11-03 18:39:37.186119080</td>\n",
       "    </tr>\n",
       "    <tr>\n",
       "      <th>1487</th>\n",
       "      <td>1.478198e+09</td>\n",
       "      <td>0</td>\n",
       "      <td>8</td>\n",
       "      <td>00</td>\n",
       "      <td>00</td>\n",
       "      <td>00</td>\n",
       "      <td>00</td>\n",
       "      <td>00</td>\n",
       "      <td>00</td>\n",
       "      <td>00</td>\n",
       "      <td>00</td>\n",
       "      <td>T</td>\n",
       "      <td>1</td>\n",
       "      <td>2016-11-03 18:39:37.188112974</td>\n",
       "    </tr>\n",
       "    <tr>\n",
       "      <th>1517</th>\n",
       "      <td>1.478198e+09</td>\n",
       "      <td>0</td>\n",
       "      <td>8</td>\n",
       "      <td>00</td>\n",
       "      <td>00</td>\n",
       "      <td>00</td>\n",
       "      <td>00</td>\n",
       "      <td>00</td>\n",
       "      <td>00</td>\n",
       "      <td>00</td>\n",
       "      <td>00</td>\n",
       "      <td>T</td>\n",
       "      <td>1</td>\n",
       "      <td>2016-11-03 18:39:37.195993900</td>\n",
       "    </tr>\n",
       "    <tr>\n",
       "      <th>1529</th>\n",
       "      <td>1.478198e+09</td>\n",
       "      <td>0</td>\n",
       "      <td>8</td>\n",
       "      <td>00</td>\n",
       "      <td>00</td>\n",
       "      <td>00</td>\n",
       "      <td>00</td>\n",
       "      <td>00</td>\n",
       "      <td>00</td>\n",
       "      <td>00</td>\n",
       "      <td>00</td>\n",
       "      <td>T</td>\n",
       "      <td>1</td>\n",
       "      <td>2016-11-03 18:39:37.199111938</td>\n",
       "    </tr>\n",
       "    <tr>\n",
       "      <th>1569</th>\n",
       "      <td>1.478198e+09</td>\n",
       "      <td>0</td>\n",
       "      <td>8</td>\n",
       "      <td>00</td>\n",
       "      <td>00</td>\n",
       "      <td>00</td>\n",
       "      <td>00</td>\n",
       "      <td>00</td>\n",
       "      <td>00</td>\n",
       "      <td>00</td>\n",
       "      <td>00</td>\n",
       "      <td>T</td>\n",
       "      <td>1</td>\n",
       "      <td>2016-11-03 18:39:37.219604969</td>\n",
       "    </tr>\n",
       "  </tbody>\n",
       "</table>\n",
       "</div>"
      ],
      "text/plain": [
       "         timestamp  can_id  dlc byte_0 byte_1 byte_2 byte_3 byte_4 byte_5  \\\n",
       "1479  1.478198e+09       0    8     00     00     00     00     00     00   \n",
       "1487  1.478198e+09       0    8     00     00     00     00     00     00   \n",
       "1517  1.478198e+09       0    8     00     00     00     00     00     00   \n",
       "1529  1.478198e+09       0    8     00     00     00     00     00     00   \n",
       "1569  1.478198e+09       0    8     00     00     00     00     00     00   \n",
       "\n",
       "     byte_6 byte_7 flag  attack_type                      datetime  \n",
       "1479     00     00    T            1 2016-11-03 18:39:37.186119080  \n",
       "1487     00     00    T            1 2016-11-03 18:39:37.188112974  \n",
       "1517     00     00    T            1 2016-11-03 18:39:37.195993900  \n",
       "1529     00     00    T            1 2016-11-03 18:39:37.199111938  \n",
       "1569     00     00    T            1 2016-11-03 18:39:37.219604969  "
      ]
     },
     "execution_count": 48,
     "metadata": {},
     "output_type": "execute_result"
    }
   ],
   "source": [
    "converted_can_id_dfs[0].head()"
   ]
  },
  {
   "cell_type": "code",
   "execution_count": 49,
   "metadata": {},
   "outputs": [],
   "source": [
    "byte_columns=[\"byte_0\",\"byte_1\",\"byte_2\",\"byte_3\",\"byte_4\",\"byte_5\",\"byte_6\",\"byte_7\"]"
   ]
  },
  {
   "cell_type": "markdown",
   "metadata": {},
   "source": [
    "#### byte_0 through byte_7 (str hex)→(int)"
   ]
  },
  {
   "cell_type": "code",
   "execution_count": null,
   "metadata": {},
   "outputs": [],
   "source": []
  }
 ],
 "metadata": {
  "kernelspec": {
   "display_name": "naz-ids-dev",
   "language": "python",
   "name": "python3"
  },
  "language_info": {
   "codemirror_mode": {
    "name": "ipython",
    "version": 3
   },
   "file_extension": ".py",
   "mimetype": "text/x-python",
   "name": "python",
   "nbconvert_exporter": "python",
   "pygments_lexer": "ipython3",
   "version": "3.11.5"
  }
 },
 "nbformat": 4,
 "nbformat_minor": 2
}
