{
 "cells": [
  {
   "cell_type": "markdown",
   "metadata": {},
   "source": [
    "## Import data and libraries"
   ]
  },
  {
   "cell_type": "code",
   "execution_count": 1,
   "metadata": {},
   "outputs": [],
   "source": [
    "import polars as pl\n",
    "import datetime as dt\n",
    "from omegaconf import OmegaConf\n",
    "import os"
   ]
  },
  {
   "cell_type": "code",
   "execution_count": 2,
   "metadata": {},
   "outputs": [],
   "source": [
    "notebooks_dir = os.getcwd()\n",
    "base_dir = os.path.abspath(os.path.join(notebooks_dir, \"..\"))\n",
    "config_path = os.path.join(base_dir, \"config.yaml\")\n",
    "config = OmegaConf.load(config_path)\n"
   ]
  },
  {
   "cell_type": "code",
   "execution_count": 3,
   "metadata": {},
   "outputs": [],
   "source": [
    "dos_df_path = os.path.join(base_dir, config.paths.dos_df)\n",
    "fuzzy_df_path = os.path.join(base_dir, config.paths.fuzzy_df)\n",
    "attack_free_df_path = os.path.join(base_dir, config.paths.attack_free_df)\n"
   ]
  },
  {
   "cell_type": "code",
   "execution_count": 4,
   "metadata": {},
   "outputs": [],
   "source": [
    "dos_df = pl.read_csv(dos_df_path)\n",
    "fuzzy_df = pl.read_csv(fuzzy_df_path)\n",
    "attack_free_df = pl.read_csv(attack_free_df_path)\n",
    "dfs = [dos_df, fuzzy_df, attack_free_df]"
   ]
  },
  {
   "cell_type": "markdown",
   "metadata": {},
   "source": [
    "## Data Manipulation"
   ]
  },
  {
   "cell_type": "markdown",
   "metadata": {},
   "source": [
    "### Convert Data Types"
   ]
  },
  {
   "cell_type": "markdown",
   "metadata": {},
   "source": [
    "#### Timestamp"
   ]
  },
  {
   "cell_type": "code",
   "execution_count": 5,
   "metadata": {},
   "outputs": [],
   "source": [
    "col=\"timestamp\""
   ]
  },
  {
   "cell_type": "code",
   "execution_count": 6,
   "metadata": {},
   "outputs": [],
   "source": [
    "def convert_timestamp_to_datetime(df, new_column_name, existing_column_name):\n",
    "    \"\"\"\n",
    "    Convert float timestamp column into datetime and add as new column.\n",
    "\n",
    "    Parameters\n",
    "    ----------\n",
    "    data : pl.DataFrame\n",
    "        Input DataFrame containing the timestamp column.\n",
    "    new_column_name : str\n",
    "        Name of new column to be added.\n",
    "    existing_column_name : str\n",
    "        Name of the existing column containing timestamps.\n",
    "\n",
    "    Returns\n",
    "    -------\n",
    "    pl.DataFrame\n",
    "        DataFrame with newly added datetime column.\n",
    "\n",
    "    Raises\n",
    "    ------\n",
    "    ValueError\n",
    "        If the existing column is not found in the DataFrame.\n",
    "    \"\"\"\n",
    "\n",
    "    if existing_column_name not in df.columns:\n",
    "        raise ValueError\n",
    "    (f\"Column '{existing_column_name}' not found in DataFrame.\")\n",
    "\n",
    "    return df.with_columns(\n",
    "        pl.from_epoch(pl.col(existing_column_name), time_unit=\"s\").alias(\n",
    "            new_column_name\n",
    "        )\n",
    "    )"
   ]
  },
  {
   "cell_type": "code",
   "execution_count": 7,
   "metadata": {},
   "outputs": [],
   "source": [
    "def convert_multiple_dfs_timestamp_to_datetime(\n",
    "    dfs, new_column_name, existing_column_name\n",
    "):\n",
    "    \"\"\"\n",
    "    Convert multiple dfs' timestamp column into datetime column.\n",
    "\n",
    "    Parameters\n",
    "    ----------\n",
    "    dfs : list\n",
    "        List of DataFrame.\n",
    "    new_column_name : str\n",
    "        Name of new column to be added\n",
    "    existing_column_name : str\n",
    "        Name of the existing column containing timestamps.\n",
    "\n",
    "    Returns\n",
    "    -------\n",
    "    list\n",
    "        List of updated DataFrame.\n",
    "    \"\"\"\n",
    "    return [\n",
    "        convert_timestamp_to_datetime(df, new_column_name, \n",
    "                                      existing_column_name)\n",
    "        for df in dfs\n",
    "    ]"
   ]
  },
  {
   "cell_type": "code",
   "execution_count": 8,
   "metadata": {},
   "outputs": [],
   "source": [
    "dfs = [dos_df, fuzzy_df, attack_free_df]\n",
    "new_timestamp_column_name = \"datetime\"\n",
    "existing_timestamp_column_name = \"timestamp\"\n",
    "\n",
    "converted_dfs = convert_multiple_dfs_timestamp_to_datetime(\n",
    "    dfs, new_timestamp_column_name, existing_timestamp_column_name\n",
    ")\n",
    "dos_df, fuzzy_df, attack_free_df = converted_dfs"
   ]
  },
  {
   "cell_type": "markdown",
   "metadata": {},
   "source": [
    "#### Datetime"
   ]
  },
  {
   "cell_type": "code",
   "execution_count": 9,
   "metadata": {},
   "outputs": [
    {
     "data": {
      "text/plain": [
       "Datetime(time_unit='us', time_zone=None)"
      ]
     },
     "execution_count": 9,
     "metadata": {},
     "output_type": "execute_result"
    }
   ],
   "source": [
    "col=\"datetime\"\n",
    "dos_df[col].dtype"
   ]
  },
  {
   "cell_type": "code",
   "execution_count": 10,
   "metadata": {},
   "outputs": [],
   "source": [
    "def divide_datetime_to_day_and_hour(df,existing_column_name,day,hour,):\n",
    "    return df.with_columns(\n",
    "        pl.col(existing_column_name).dt.day().alias(day),\n",
    "        pl.col(existing_column_name).dt.hour().alias(hour),\n",
    "        )\n"
   ]
  },
  {
   "cell_type": "code",
   "execution_count": 11,
   "metadata": {},
   "outputs": [
    {
     "data": {
      "text/plain": [
       "['timestamp',\n",
       " 'canId',\n",
       " 'dlc',\n",
       " 'byte0',\n",
       " 'byte1',\n",
       " 'byte2',\n",
       " 'byte3',\n",
       " 'byte4',\n",
       " 'byte5',\n",
       " 'byte6',\n",
       " 'byte7',\n",
       " 'updatedFlag',\n",
       " 'datetime']"
      ]
     },
     "execution_count": 11,
     "metadata": {},
     "output_type": "execute_result"
    }
   ],
   "source": [
    "dos_df.columns"
   ]
  },
  {
   "cell_type": "markdown",
   "metadata": {},
   "source": [
    "#### CanID"
   ]
  },
  {
   "cell_type": "code",
   "execution_count": 12,
   "metadata": {},
   "outputs": [],
   "source": [
    "def convert_str_hex_to_int(df,new_column_name,existing_column_name):\n",
    "    \"\"\"\n",
    "    Convert hex that it's dtype is str into int column.\n",
    "\n",
    "    Parameters\n",
    "    ----------\n",
    "    df : pl.DataFrame\n",
    "        Input DataFrame containing the hex column.\n",
    "    new_column_name : str\n",
    "        Name of new column to be added.\n",
    "    existing_column_name : str\n",
    "        Name of the existing column containing hex.\n",
    "\n",
    "    Returns\n",
    "    -------\n",
    "    pl.DataFrame\n",
    "        DataFrame with newly added hex int column.\n",
    "\n",
    "    Raises\n",
    "    ------\n",
    "    ValueError\n",
    "        If the existing column is not found in the DataFrame.\n",
    "    \"\"\"\n",
    "\n",
    "    if existing_column_name not in df.columns:\n",
    "        raise ValueError\n",
    "    (f\"Column '{existing_column_name}' not found in DataFrame.\")\n",
    "\n",
    "    return df.with_columns(pl.col(existing_column_name).str.to_integer(base=16, strict=True).alias(new_column_name))"
   ]
  },
  {
   "cell_type": "code",
   "execution_count": 13,
   "metadata": {},
   "outputs": [],
   "source": [
    "def convert_multiple_dfs_str_hex_canid_to_int(dfs, new_column_name, existing_column_name):\n",
    "    \"\"\"\n",
    "    Convert multiple dfs' str hex column into int hex column.\n",
    "\n",
    "    Parameters\n",
    "    ----------\n",
    "    dfs : list\n",
    "        List of DataFrame.\n",
    "    new_column_name : str\n",
    "        Name of new column to be added\n",
    "    existing_column_name : str\n",
    "        Name of the existing column containing hex.\n",
    "\n",
    "    Returns\n",
    "    -------\n",
    "    list\n",
    "        List of updated DataFrame.\n",
    "    \"\"\"\n",
    "    return [\n",
    "        convert_str_hex_to_int(df,new_column_name,existing_column_name)\n",
    "        for df in dfs\n",
    "    ]\n"
   ]
  },
  {
   "cell_type": "code",
   "execution_count": 14,
   "metadata": {},
   "outputs": [],
   "source": [
    "new_canid_column_name = \"updatedCanIdInt\"\n",
    "existing_canid_column_name = \"canId\"\n",
    "\n",
    "converted_dfs = convert_multiple_dfs_str_hex_canid_to_int(\n",
    "    dfs, new_canid_column_name, existing_canid_column_name\n",
    ")\n",
    "dos_df, fuzzy_df, attack_free_df = converted_dfs"
   ]
  },
  {
   "cell_type": "markdown",
   "metadata": {},
   "source": [
    "### Add New Features"
   ]
  },
  {
   "cell_type": "markdown",
   "metadata": {},
   "source": [
    "#### Bytes into One Message"
   ]
  },
  {
   "cell_type": "code",
   "execution_count": 15,
   "metadata": {},
   "outputs": [
    {
     "data": {
      "text/html": [
       "<div><style>\n",
       ".dataframe > thead > tr,\n",
       ".dataframe > tbody > tr {\n",
       "  text-align: right;\n",
       "  white-space: pre-wrap;\n",
       "}\n",
       "</style>\n",
       "<small>shape: (5, 13)</small><table border=\"1\" class=\"dataframe\"><thead><tr><th>timestamp</th><th>canId</th><th>dlc</th><th>byte0</th><th>byte1</th><th>byte2</th><th>byte3</th><th>byte4</th><th>byte5</th><th>byte6</th><th>byte7</th><th>updatedFlag</th><th>updatedCanIdInt</th></tr><tr><td>f64</td><td>str</td><td>i64</td><td>str</td><td>str</td><td>str</td><td>str</td><td>str</td><td>str</td><td>str</td><td>str</td><td>str</td><td>i64</td></tr></thead><tbody><tr><td>1.4782e9</td><td>&quot;018f&quot;</td><td>8</td><td>&quot;fe&quot;</td><td>&quot;5b&quot;</td><td>&quot;00&quot;</td><td>&quot;00&quot;</td><td>&quot;00&quot;</td><td>&quot;3c&quot;</td><td>&quot;00&quot;</td><td>&quot;00&quot;</td><td>&quot;R&quot;</td><td>399</td></tr><tr><td>1.4782e9</td><td>&quot;0260&quot;</td><td>8</td><td>&quot;19&quot;</td><td>&quot;21&quot;</td><td>&quot;22&quot;</td><td>&quot;30&quot;</td><td>&quot;08&quot;</td><td>&quot;8e&quot;</td><td>&quot;6d&quot;</td><td>&quot;3a&quot;</td><td>&quot;R&quot;</td><td>608</td></tr><tr><td>1.4782e9</td><td>&quot;02a0&quot;</td><td>8</td><td>&quot;64&quot;</td><td>&quot;00&quot;</td><td>&quot;9a&quot;</td><td>&quot;1d&quot;</td><td>&quot;97&quot;</td><td>&quot;02&quot;</td><td>&quot;bd&quot;</td><td>&quot;00&quot;</td><td>&quot;R&quot;</td><td>672</td></tr><tr><td>1.4782e9</td><td>&quot;0329&quot;</td><td>8</td><td>&quot;40&quot;</td><td>&quot;bb&quot;</td><td>&quot;7f&quot;</td><td>&quot;14&quot;</td><td>&quot;11&quot;</td><td>&quot;20&quot;</td><td>&quot;00&quot;</td><td>&quot;14&quot;</td><td>&quot;R&quot;</td><td>809</td></tr><tr><td>1.4782e9</td><td>&quot;0545&quot;</td><td>8</td><td>&quot;d8&quot;</td><td>&quot;00&quot;</td><td>&quot;00&quot;</td><td>&quot;8a&quot;</td><td>&quot;00&quot;</td><td>&quot;00&quot;</td><td>&quot;00&quot;</td><td>&quot;00&quot;</td><td>&quot;R&quot;</td><td>1349</td></tr></tbody></table></div>"
      ],
      "text/plain": [
       "shape: (5, 13)\n",
       "┌───────────┬───────┬─────┬───────┬───┬───────┬───────┬─────────────┬─────────────────┐\n",
       "│ timestamp ┆ canId ┆ dlc ┆ byte0 ┆ … ┆ byte6 ┆ byte7 ┆ updatedFlag ┆ updatedCanIdInt │\n",
       "│ ---       ┆ ---   ┆ --- ┆ ---   ┆   ┆ ---   ┆ ---   ┆ ---         ┆ ---             │\n",
       "│ f64       ┆ str   ┆ i64 ┆ str   ┆   ┆ str   ┆ str   ┆ str         ┆ i64             │\n",
       "╞═══════════╪═══════╪═════╪═══════╪═══╪═══════╪═══════╪═════════════╪═════════════════╡\n",
       "│ 1.4782e9  ┆ 018f  ┆ 8   ┆ fe    ┆ … ┆ 00    ┆ 00    ┆ R           ┆ 399             │\n",
       "│ 1.4782e9  ┆ 0260  ┆ 8   ┆ 19    ┆ … ┆ 6d    ┆ 3a    ┆ R           ┆ 608             │\n",
       "│ 1.4782e9  ┆ 02a0  ┆ 8   ┆ 64    ┆ … ┆ bd    ┆ 00    ┆ R           ┆ 672             │\n",
       "│ 1.4782e9  ┆ 0329  ┆ 8   ┆ 40    ┆ … ┆ 00    ┆ 14    ┆ R           ┆ 809             │\n",
       "│ 1.4782e9  ┆ 0545  ┆ 8   ┆ d8    ┆ … ┆ 00    ┆ 00    ┆ R           ┆ 1349            │\n",
       "└───────────┴───────┴─────┴───────┴───┴───────┴───────┴─────────────┴─────────────────┘"
      ]
     },
     "execution_count": 15,
     "metadata": {},
     "output_type": "execute_result"
    }
   ],
   "source": [
    "dos_df.head()"
   ]
  },
  {
   "cell_type": "code",
   "execution_count": 16,
   "metadata": {},
   "outputs": [
    {
     "ename": "ShapeError",
     "evalue": "unable to add a column of length 29326160 to a DataFrame of height 3665770",
     "output_type": "error",
     "traceback": [
      "\u001b[1;31m---------------------------------------------------------------------------\u001b[0m",
      "\u001b[1;31mShapeError\u001b[0m                                Traceback (most recent call last)",
      "Cell \u001b[1;32mIn[16], line 1\u001b[0m\n\u001b[1;32m----> 1\u001b[0m \u001b[43mdos_df\u001b[49m\u001b[38;5;241;43m.\u001b[39;49m\u001b[43mwith_columns\u001b[49m\u001b[43m(\u001b[49m\u001b[43m(\u001b[49m\u001b[43mpl\u001b[49m\u001b[38;5;241;43m.\u001b[39;49m\u001b[43mconcat\u001b[49m\u001b[43m(\u001b[49m\u001b[43m[\u001b[49m\u001b[43mdos_df\u001b[49m\u001b[43m[\u001b[49m\u001b[38;5;124;43mf\u001b[39;49m\u001b[38;5;124;43m\"\u001b[39;49m\u001b[38;5;124;43mbyte\u001b[39;49m\u001b[38;5;132;43;01m{\u001b[39;49;00m\u001b[43mi\u001b[49m\u001b[38;5;132;43;01m}\u001b[39;49;00m\u001b[38;5;124;43m\"\u001b[39;49m\u001b[43m]\u001b[49m\u001b[43m \u001b[49m\u001b[38;5;28;43;01mfor\u001b[39;49;00m\u001b[43m \u001b[49m\u001b[43mi\u001b[49m\u001b[43m \u001b[49m\u001b[38;5;129;43;01min\u001b[39;49;00m\u001b[43m \u001b[49m\u001b[38;5;28;43mrange\u001b[39;49m\u001b[43m(\u001b[49m\u001b[43mdos_df\u001b[49m\u001b[43m[\u001b[49m\u001b[38;5;124;43m\"\u001b[39;49m\u001b[38;5;124;43mdlc\u001b[39;49m\u001b[38;5;124;43m\"\u001b[39;49m\u001b[43m]\u001b[49m\u001b[38;5;241;43m.\u001b[39;49m\u001b[43mmax\u001b[49m\u001b[43m(\u001b[49m\u001b[43m)\u001b[49m\u001b[43m)\u001b[49m\u001b[43m]\u001b[49m\u001b[43m,\u001b[49m\u001b[43mhow\u001b[49m\u001b[38;5;241;43m=\u001b[39;49m\u001b[43m \u001b[49m\u001b[38;5;124;43m'\u001b[39;49m\u001b[38;5;124;43mvertical\u001b[39;49m\u001b[38;5;124;43m'\u001b[39;49m\u001b[43m)\u001b[49m\u001b[43m)\u001b[49m\u001b[38;5;241;43m.\u001b[39;49m\u001b[43malias\u001b[49m\u001b[43m(\u001b[49m\u001b[38;5;124;43m\"\u001b[39;49m\u001b[38;5;124;43mUpdatedBytes\u001b[39;49m\u001b[38;5;124;43m\"\u001b[39;49m\u001b[43m)\u001b[49m\u001b[43m)\u001b[49m\n",
      "File \u001b[1;32mc:\\Users\\Naz\\miniconda3\\envs\\naz-ids-dev\\Lib\\site-packages\\polars\\dataframe\\frame.py:9286\u001b[0m, in \u001b[0;36mDataFrame.with_columns\u001b[1;34m(self, *exprs, **named_exprs)\u001b[0m\n\u001b[0;32m   9140\u001b[0m \u001b[38;5;28;01mdef\u001b[39;00m \u001b[38;5;21mwith_columns\u001b[39m(\n\u001b[0;32m   9141\u001b[0m     \u001b[38;5;28mself\u001b[39m,\n\u001b[0;32m   9142\u001b[0m     \u001b[38;5;241m*\u001b[39mexprs: IntoExpr \u001b[38;5;241m|\u001b[39m Iterable[IntoExpr],\n\u001b[0;32m   9143\u001b[0m     \u001b[38;5;241m*\u001b[39m\u001b[38;5;241m*\u001b[39mnamed_exprs: IntoExpr,\n\u001b[0;32m   9144\u001b[0m ) \u001b[38;5;241m-\u001b[39m\u001b[38;5;241m>\u001b[39m DataFrame:\n\u001b[0;32m   9145\u001b[0m \u001b[38;5;250m    \u001b[39m\u001b[38;5;124;03m\"\"\"\u001b[39;00m\n\u001b[0;32m   9146\u001b[0m \u001b[38;5;124;03m    Add columns to this DataFrame.\u001b[39;00m\n\u001b[0;32m   9147\u001b[0m \n\u001b[1;32m   (...)\u001b[0m\n\u001b[0;32m   9284\u001b[0m \u001b[38;5;124;03m    └─────┴──────┴─────────────┘\u001b[39;00m\n\u001b[0;32m   9285\u001b[0m \u001b[38;5;124;03m    \"\"\"\u001b[39;00m\n\u001b[1;32m-> 9286\u001b[0m     \u001b[38;5;28;01mreturn\u001b[39;00m \u001b[38;5;28;43mself\u001b[39;49m\u001b[38;5;241;43m.\u001b[39;49m\u001b[43mlazy\u001b[49m\u001b[43m(\u001b[49m\u001b[43m)\u001b[49m\u001b[38;5;241;43m.\u001b[39;49m\u001b[43mwith_columns\u001b[49m\u001b[43m(\u001b[49m\u001b[38;5;241;43m*\u001b[39;49m\u001b[43mexprs\u001b[49m\u001b[43m,\u001b[49m\u001b[43m \u001b[49m\u001b[38;5;241;43m*\u001b[39;49m\u001b[38;5;241;43m*\u001b[39;49m\u001b[43mnamed_exprs\u001b[49m\u001b[43m)\u001b[49m\u001b[38;5;241;43m.\u001b[39;49m\u001b[43mcollect\u001b[49m\u001b[43m(\u001b[49m\u001b[43m_eager\u001b[49m\u001b[38;5;241;43m=\u001b[39;49m\u001b[38;5;28;43;01mTrue\u001b[39;49;00m\u001b[43m)\u001b[49m\n",
      "File \u001b[1;32mc:\\Users\\Naz\\miniconda3\\envs\\naz-ids-dev\\Lib\\site-packages\\polars\\lazyframe\\frame.py:2029\u001b[0m, in \u001b[0;36mLazyFrame.collect\u001b[1;34m(self, type_coercion, predicate_pushdown, projection_pushdown, simplify_expression, slice_pushdown, comm_subplan_elim, comm_subexpr_elim, cluster_with_columns, collapse_joins, no_optimization, streaming, engine, background, _eager, **_kwargs)\u001b[0m\n\u001b[0;32m   2027\u001b[0m \u001b[38;5;66;03m# Only for testing purposes\u001b[39;00m\n\u001b[0;32m   2028\u001b[0m callback \u001b[38;5;241m=\u001b[39m _kwargs\u001b[38;5;241m.\u001b[39mget(\u001b[38;5;124m\"\u001b[39m\u001b[38;5;124mpost_opt_callback\u001b[39m\u001b[38;5;124m\"\u001b[39m, callback)\n\u001b[1;32m-> 2029\u001b[0m \u001b[38;5;28;01mreturn\u001b[39;00m wrap_df(\u001b[43mldf\u001b[49m\u001b[38;5;241;43m.\u001b[39;49m\u001b[43mcollect\u001b[49m\u001b[43m(\u001b[49m\u001b[43mcallback\u001b[49m\u001b[43m)\u001b[49m)\n",
      "\u001b[1;31mShapeError\u001b[0m: unable to add a column of length 29326160 to a DataFrame of height 3665770"
     ]
    }
   ],
   "source": [
    "dos_df.with_columns((pl.concat([dos_df[f\"byte{i}\"] for i in range(dos_df[\"dlc\"].max())],how= 'vertical')).alias(\"UpdatedBytes\"))\n"
   ]
  },
  {
   "cell_type": "code",
   "execution_count": null,
   "metadata": {},
   "outputs": [
    {
     "data": {
      "text/html": [
       "<div><style>\n",
       ".dataframe > thead > tr,\n",
       ".dataframe > tbody > tr {\n",
       "  text-align: right;\n",
       "  white-space: pre-wrap;\n",
       "}\n",
       "</style>\n",
       "<small>shape: (5, 14)</small><table border=\"1\" class=\"dataframe\"><thead><tr><th>timestamp</th><th>canId</th><th>dlc</th><th>byte0</th><th>byte1</th><th>byte2</th><th>byte3</th><th>byte4</th><th>byte5</th><th>byte6</th><th>byte7</th><th>updatedFlag</th><th>datetime</th><th>updatedCanIdInt</th></tr><tr><td>f64</td><td>str</td><td>i64</td><td>str</td><td>str</td><td>str</td><td>str</td><td>str</td><td>str</td><td>str</td><td>str</td><td>str</td><td>datetime[μs]</td><td>i64</td></tr></thead><tbody><tr><td>1.4782e9</td><td>&quot;018f&quot;</td><td>8</td><td>&quot;fe&quot;</td><td>&quot;5b&quot;</td><td>&quot;00&quot;</td><td>&quot;00&quot;</td><td>&quot;00&quot;</td><td>&quot;3c&quot;</td><td>&quot;00&quot;</td><td>&quot;00&quot;</td><td>&quot;R&quot;</td><td>2016-11-03 18:39:36</td><td>399</td></tr><tr><td>1.4782e9</td><td>&quot;0260&quot;</td><td>8</td><td>&quot;19&quot;</td><td>&quot;21&quot;</td><td>&quot;22&quot;</td><td>&quot;30&quot;</td><td>&quot;08&quot;</td><td>&quot;8e&quot;</td><td>&quot;6d&quot;</td><td>&quot;3a&quot;</td><td>&quot;R&quot;</td><td>2016-11-03 18:39:36</td><td>608</td></tr><tr><td>1.4782e9</td><td>&quot;02a0&quot;</td><td>8</td><td>&quot;64&quot;</td><td>&quot;00&quot;</td><td>&quot;9a&quot;</td><td>&quot;1d&quot;</td><td>&quot;97&quot;</td><td>&quot;02&quot;</td><td>&quot;bd&quot;</td><td>&quot;00&quot;</td><td>&quot;R&quot;</td><td>2016-11-03 18:39:36</td><td>672</td></tr><tr><td>1.4782e9</td><td>&quot;0329&quot;</td><td>8</td><td>&quot;40&quot;</td><td>&quot;bb&quot;</td><td>&quot;7f&quot;</td><td>&quot;14&quot;</td><td>&quot;11&quot;</td><td>&quot;20&quot;</td><td>&quot;00&quot;</td><td>&quot;14&quot;</td><td>&quot;R&quot;</td><td>2016-11-03 18:39:36</td><td>809</td></tr><tr><td>1.4782e9</td><td>&quot;0545&quot;</td><td>8</td><td>&quot;d8&quot;</td><td>&quot;00&quot;</td><td>&quot;00&quot;</td><td>&quot;8a&quot;</td><td>&quot;00&quot;</td><td>&quot;00&quot;</td><td>&quot;00&quot;</td><td>&quot;00&quot;</td><td>&quot;R&quot;</td><td>2016-11-03 18:39:36</td><td>1349</td></tr></tbody></table></div>"
      ],
      "text/plain": [
       "shape: (5, 14)\n",
       "┌───────────┬───────┬─────┬───────┬───┬───────┬─────────────┬──────────────┬─────────────────┐\n",
       "│ timestamp ┆ canId ┆ dlc ┆ byte0 ┆ … ┆ byte7 ┆ updatedFlag ┆ datetime     ┆ updatedCanIdInt │\n",
       "│ ---       ┆ ---   ┆ --- ┆ ---   ┆   ┆ ---   ┆ ---         ┆ ---          ┆ ---             │\n",
       "│ f64       ┆ str   ┆ i64 ┆ str   ┆   ┆ str   ┆ str         ┆ datetime[μs] ┆ i64             │\n",
       "╞═══════════╪═══════╪═════╪═══════╪═══╪═══════╪═════════════╪══════════════╪═════════════════╡\n",
       "│ 1.4782e9  ┆ 018f  ┆ 8   ┆ fe    ┆ … ┆ 00    ┆ R           ┆ 2016-11-03   ┆ 399             │\n",
       "│           ┆       ┆     ┆       ┆   ┆       ┆             ┆ 18:39:36     ┆                 │\n",
       "│ 1.4782e9  ┆ 0260  ┆ 8   ┆ 19    ┆ … ┆ 3a    ┆ R           ┆ 2016-11-03   ┆ 608             │\n",
       "│           ┆       ┆     ┆       ┆   ┆       ┆             ┆ 18:39:36     ┆                 │\n",
       "│ 1.4782e9  ┆ 02a0  ┆ 8   ┆ 64    ┆ … ┆ 00    ┆ R           ┆ 2016-11-03   ┆ 672             │\n",
       "│           ┆       ┆     ┆       ┆   ┆       ┆             ┆ 18:39:36     ┆                 │\n",
       "│ 1.4782e9  ┆ 0329  ┆ 8   ┆ 40    ┆ … ┆ 14    ┆ R           ┆ 2016-11-03   ┆ 809             │\n",
       "│           ┆       ┆     ┆       ┆   ┆       ┆             ┆ 18:39:36     ┆                 │\n",
       "│ 1.4782e9  ┆ 0545  ┆ 8   ┆ d8    ┆ … ┆ 00    ┆ R           ┆ 2016-11-03   ┆ 1349            │\n",
       "│           ┆       ┆     ┆       ┆   ┆       ┆             ┆ 18:39:36     ┆                 │\n",
       "└───────────┴───────┴─────┴───────┴───┴───────┴─────────────┴──────────────┴─────────────────┘"
      ]
     },
     "execution_count": 42,
     "metadata": {},
     "output_type": "execute_result"
    }
   ],
   "source": [
    "dos_df.head()"
   ]
  },
  {
   "cell_type": "code",
   "execution_count": null,
   "metadata": {},
   "outputs": [],
   "source": []
  }
 ],
 "metadata": {
  "kernelspec": {
   "display_name": "naz-ids-dev",
   "language": "python",
   "name": "python3"
  },
  "language_info": {
   "codemirror_mode": {
    "name": "ipython",
    "version": 3
   },
   "file_extension": ".py",
   "mimetype": "text/x-python",
   "name": "python",
   "nbconvert_exporter": "python",
   "pygments_lexer": "ipython3",
   "version": "3.11.5"
  }
 },
 "nbformat": 4,
 "nbformat_minor": 2
}
