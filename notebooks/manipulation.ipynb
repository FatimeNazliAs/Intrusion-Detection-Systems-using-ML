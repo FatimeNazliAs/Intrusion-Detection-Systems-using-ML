{
 "cells": [
  {
   "cell_type": "markdown",
   "metadata": {},
   "source": [
    "## Import data and libraries"
   ]
  },
  {
   "cell_type": "code",
   "execution_count": 1,
   "metadata": {},
   "outputs": [],
   "source": [
    "import polars as pl\n",
    "import datetime as dt"
   ]
  },
  {
   "cell_type": "markdown",
   "metadata": {},
   "source": [
    "## Data Manipulation"
   ]
  },
  {
   "cell_type": "code",
   "execution_count": 2,
   "metadata": {},
   "outputs": [],
   "source": [
    "dos_df_path = \"C:/Users/Naz/Documents/GitHub/Newky/IDS/Intrusion-Detection-Systems-using-ML/output/dos_df.csv\"\n",
    "fuzzy_df_path = \"C:/Users/Naz/Documents/GitHub/Newky/IDS/Intrusion-Detection-Systems-using-ML/output/fuzzy_df.csv\"\n",
    "attack_free_df_path = \"C:/Users/Naz/Documents/GitHub/Newky/IDS/Intrusion-Detection-Systems-using-ML/output/attack_free_df.csv\"\n",
    "\n",
    "dos_df = pl.read_csv(dos_df_path)\n",
    "fuzzy_df = pl.read_csv(fuzzy_df_path)\n",
    "attack_free_df = pl.read_csv(attack_free_df_path)\n"
   ]
  },
  {
   "cell_type": "markdown",
   "metadata": {},
   "source": [
    "### Convert Data Types"
   ]
  },
  {
   "cell_type": "markdown",
   "metadata": {},
   "source": [
    "#### Timestamp"
   ]
  },
  {
   "cell_type": "code",
   "execution_count": 3,
   "metadata": {},
   "outputs": [],
   "source": [
    "col=\"timestamp\""
   ]
  },
  {
   "cell_type": "code",
   "execution_count": 4,
   "metadata": {},
   "outputs": [],
   "source": [
    "def convert_timestamp_to_datetime(df, new_column_name, existing_column_name):\n",
    "    \"\"\"\n",
    "    Convert float timestamp column into datetime and add as new column.\n",
    "\n",
    "    Parameters\n",
    "    ----------\n",
    "    data : pl.DataFrame\n",
    "        Input DataFrame containing the timestamp column.\n",
    "    new_column_name : str\n",
    "        Name of new column to be added.\n",
    "    existing_column_name : str\n",
    "        Name of the existing column containing timestamps.\n",
    "\n",
    "    Returns\n",
    "    -------\n",
    "    pl.DataFrame\n",
    "        DataFrame with newly added datetime column.\n",
    "\n",
    "    Raises\n",
    "    ------\n",
    "    ValueError\n",
    "        If the existing column is not found in the DataFrame.\n",
    "    \"\"\"\n",
    "\n",
    "    if existing_column_name not in df.columns:\n",
    "        raise ValueError\n",
    "    (f\"Column '{existing_column_name}' not found in DataFrame.\")\n",
    "\n",
    "    return df.with_columns(\n",
    "        pl.from_epoch(pl.col(existing_column_name), time_unit=\"s\").alias(\n",
    "            new_column_name\n",
    "        )\n",
    "    )"
   ]
  },
  {
   "cell_type": "code",
   "execution_count": 5,
   "metadata": {},
   "outputs": [],
   "source": [
    "def convert_multiple_dfs_timestamp_to_datetime(\n",
    "    dfs, new_column_name, existing_column_name\n",
    "):\n",
    "    \"\"\"\n",
    "    Convert multiple dfs' timestamp column into datetime column.\n",
    "\n",
    "    Parameters\n",
    "    ----------\n",
    "    dfs : list\n",
    "        List of DataFrame.\n",
    "    new_column_name : str\n",
    "        Name of new column to be added\n",
    "    existing_column_name : str\n",
    "        Name of the existing column containing timestamps.\n",
    "\n",
    "    Returns\n",
    "    -------\n",
    "    list\n",
    "        List of updated DataFrame.\n",
    "    \"\"\"\n",
    "    return [\n",
    "        convert_timestamp_to_datetime(df, new_column_name, \n",
    "                                      existing_column_name)\n",
    "        for df in dfs\n",
    "    ]"
   ]
  },
  {
   "cell_type": "code",
   "execution_count": null,
   "metadata": {},
   "outputs": [],
   "source": []
  },
  {
   "cell_type": "code",
   "execution_count": 6,
   "metadata": {},
   "outputs": [],
   "source": [
    "dfs = [dos_df, fuzzy_df, attack_free_df]\n",
    "new_timestamp_column_name = \"datetime\"\n",
    "existing_timestamp_column_name = \"timestamp\"\n",
    "\n",
    "converted_dfs = convert_multiple_dfs_timestamp_to_datetime(\n",
    "    dfs, new_timestamp_column_name, existing_timestamp_column_name\n",
    ")\n",
    "dos_df, fuzzy_df, attack_free_df = converted_dfs"
   ]
  },
  {
   "cell_type": "markdown",
   "metadata": {},
   "source": [
    "#### Datetime"
   ]
  },
  {
   "cell_type": "code",
   "execution_count": 7,
   "metadata": {},
   "outputs": [
    {
     "data": {
      "text/plain": [
       "Datetime(time_unit='us', time_zone=None)"
      ]
     },
     "execution_count": 7,
     "metadata": {},
     "output_type": "execute_result"
    }
   ],
   "source": [
    "col=\"datetime\"\n",
    "dos_df[col].dtype"
   ]
  },
  {
   "cell_type": "code",
   "execution_count": 8,
   "metadata": {},
   "outputs": [],
   "source": [
    "def divide_datetime_to_day_and_hour(df,existing_column_name,day,hour,):\n",
    "    return df.with_columns(\n",
    "        pl.col(existing_column_name).dt.day().alias(new_day_name),\n",
    "        pl.col(existing_column_name).dt.hour().alias(new_hour_name),\n",
    "        )\n"
   ]
  },
  {
   "cell_type": "code",
   "execution_count": 9,
   "metadata": {},
   "outputs": [
    {
     "data": {
      "text/plain": [
       "['timestamp',\n",
       " 'canid',\n",
       " 'dlc',\n",
       " 'byte0',\n",
       " 'byte1',\n",
       " 'byte2',\n",
       " 'byte3',\n",
       " 'byte4',\n",
       " 'byte5',\n",
       " 'byte6',\n",
       " 'byte7',\n",
       " 'flag',\n",
       " 'datetime']"
      ]
     },
     "execution_count": 9,
     "metadata": {},
     "output_type": "execute_result"
    }
   ],
   "source": [
    "dos_df.columns"
   ]
  },
  {
   "cell_type": "markdown",
   "metadata": {},
   "source": [
    "#### CanID"
   ]
  },
  {
   "cell_type": "code",
   "execution_count": 10,
   "metadata": {},
   "outputs": [],
   "source": [
    "def convert_str_hex_to_int(df,new_column_name,existing_column_name):\n",
    "    \"\"\"\n",
    "    Convert hex that it's dtype is str into int column.\n",
    "\n",
    "    Parameters\n",
    "    ----------\n",
    "    df : pl.DataFrame\n",
    "        Input DataFrame containing the hex column.\n",
    "    new_column_name : str\n",
    "        Name of new column to be added.\n",
    "    existing_column_name : str\n",
    "        Name of the existing column containing hex.\n",
    "\n",
    "    Returns\n",
    "    -------\n",
    "    pl.DataFrame\n",
    "        DataFrame with newly added hex int column.\n",
    "\n",
    "    Raises\n",
    "    ------\n",
    "    ValueError\n",
    "        If the existing column is not found in the DataFrame.\n",
    "    \"\"\"\n",
    "\n",
    "    if existing_column_name not in df.columns:\n",
    "        raise ValueError\n",
    "    (f\"Column '{existing_column_name}' not found in DataFrame.\")\n",
    "\n",
    "    return df.with_columns(pl.col(existing_column_name).str.to_integer(base=16, strict=True).alias(new_column_name))"
   ]
  },
  {
   "cell_type": "code",
   "execution_count": 11,
   "metadata": {},
   "outputs": [],
   "source": [
    "def convert_multiple_dfs_str_hex_canid_to_int(dfs, new_column_name, existing_column_name):\n",
    "    \"\"\"\n",
    "    Convert multiple dfs' str hex column into int hex column.\n",
    "\n",
    "    Parameters\n",
    "    ----------\n",
    "    dfs : list\n",
    "        List of DataFrame.\n",
    "    new_column_name : str\n",
    "        Name of new column to be added\n",
    "    existing_column_name : str\n",
    "        Name of the existing column containing hex.\n",
    "\n",
    "    Returns\n",
    "    -------\n",
    "    list\n",
    "        List of updated DataFrame.\n",
    "    \"\"\"\n",
    "    return [\n",
    "        convert_str_hex_to_int(df,new_column_name,existing_column_name)\n",
    "        for df in dfs\n",
    "    ]\n"
   ]
  },
  {
   "cell_type": "code",
   "execution_count": 12,
   "metadata": {},
   "outputs": [],
   "source": [
    "dfs = [dos_df, fuzzy_df, attack_free_df]\n",
    "new_canid_column_name = \"canid_int\"\n",
    "existing_canid_column_name = \"canid\"\n",
    "\n",
    "converted_dfs = convert_multiple_dfs_str_hex_canid_to_int(\n",
    "    dfs, new_canid_column_name, existing_canid_column_name\n",
    ")\n",
    "dos_df, fuzzy_df, attack_free_df = converted_dfs"
   ]
  },
  {
   "cell_type": "code",
   "execution_count": null,
   "metadata": {},
   "outputs": [],
   "source": []
  }
 ],
 "metadata": {
  "kernelspec": {
   "display_name": "naz-ids-dev",
   "language": "python",
   "name": "python3"
  },
  "language_info": {
   "codemirror_mode": {
    "name": "ipython",
    "version": 3
   },
   "file_extension": ".py",
   "mimetype": "text/x-python",
   "name": "python",
   "nbconvert_exporter": "python",
   "pygments_lexer": "ipython3",
   "version": "3.11.5"
  }
 },
 "nbformat": 4,
 "nbformat_minor": 2
}
