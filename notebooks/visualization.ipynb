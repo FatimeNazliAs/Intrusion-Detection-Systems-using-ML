{
 "cells": [
  {
   "cell_type": "markdown",
   "metadata": {},
   "source": [
    "## Import Libraries and Data"
   ]
  },
  {
   "cell_type": "code",
   "execution_count": 187,
   "metadata": {},
   "outputs": [],
   "source": [
    "import polars as pl\n",
    "import pandas as pd\n",
    "import matplotlib.pyplot as plt\n",
    "import seaborn as sns\n",
    "from collections import Counter\n",
    "from datetime import datetime\n",
    "\n",
    "%run utils.ipynb"
   ]
  },
  {
   "cell_type": "code",
   "execution_count": 188,
   "metadata": {},
   "outputs": [],
   "source": [
    "dos_df_path,fuzzy_df_path,attack_free_df_path=load_data_paths_from_config_to_notebooks(\"out_paths\")"
   ]
  },
  {
   "cell_type": "code",
   "execution_count": 189,
   "metadata": {},
   "outputs": [],
   "source": [
    "dos_df_pl = pl.read_csv(dos_df_path)\n",
    "fuzzy_df_pl= pl.read_csv(fuzzy_df_path)\n",
    "attack_free_df_pl= pl.read_csv(attack_free_df_path)"
   ]
  },
  {
   "cell_type": "code",
   "execution_count": 190,
   "metadata": {},
   "outputs": [],
   "source": [
    "def convert_pl_to_pd(df):\n",
    "    return df.to_pandas()"
   ]
  },
  {
   "cell_type": "code",
   "execution_count": 191,
   "metadata": {},
   "outputs": [],
   "source": [
    "def convert_multiple_pls_to_pds(dfs):\n",
    "    return [convert_pl_to_pd(df)  for df in dfs]"
   ]
  },
  {
   "cell_type": "code",
   "execution_count": 192,
   "metadata": {},
   "outputs": [],
   "source": [
    "dos_df_pd,fuzzy_df_pd,attack_free_df_pd=convert_multiple_pls_to_pds([dos_df_pl,fuzzy_df_pl,attack_free_df_pl])"
   ]
  },
  {
   "cell_type": "code",
   "execution_count": 193,
   "metadata": {},
   "outputs": [],
   "source": [
    "dos_df=dos_df_pd[dos_df_pd[\"updatedFlag\"]==1]\n",
    "fuzzy_df=fuzzy_df_pd[fuzzy_df_pd[\"updatedFlag\"]==1]"
   ]
  },
  {
   "cell_type": "code",
   "execution_count": 194,
   "metadata": {},
   "outputs": [],
   "source": [
    "attack_free_in_dos=dos_df_pd[dos_df_pd[\"updatedFlag\"]==0]\n",
    "attack_free_in_fuzzy=fuzzy_df_pd[fuzzy_df_pd[\"updatedFlag\"]==0]\n",
    "attack_free_df=pd.concat([attack_free_df_pd,attack_free_in_dos,attack_free_in_fuzzy])\n",
    "attack_free_df_no_concat=attack_free_df_pd"
   ]
  },
  {
   "cell_type": "code",
   "execution_count": 195,
   "metadata": {},
   "outputs": [
    {
     "name": "stderr",
     "output_type": "stream",
     "text": [
      "C:\\Users\\Naz\\AppData\\Local\\Temp\\ipykernel_12064\\2227441829.py:1: SettingWithCopyWarning: \n",
      "A value is trying to be set on a copy of a slice from a DataFrame.\n",
      "Try using .loc[row_indexer,col_indexer] = value instead\n",
      "\n",
      "See the caveats in the documentation: https://pandas.pydata.org/pandas-docs/stable/user_guide/indexing.html#returning-a-view-versus-a-copy\n",
      "  dos_df[\"datetime\"] = pd.to_datetime(dos_df[\"datetime\"])\n",
      "C:\\Users\\Naz\\AppData\\Local\\Temp\\ipykernel_12064\\2227441829.py:3: SettingWithCopyWarning: \n",
      "A value is trying to be set on a copy of a slice from a DataFrame.\n",
      "Try using .loc[row_indexer,col_indexer] = value instead\n",
      "\n",
      "See the caveats in the documentation: https://pandas.pydata.org/pandas-docs/stable/user_guide/indexing.html#returning-a-view-versus-a-copy\n",
      "  fuzzy_df[\"datetime\"] = pd.to_datetime(fuzzy_df[\"datetime\"])\n"
     ]
    }
   ],
   "source": [
    "dos_df[\"datetime\"] = pd.to_datetime(dos_df[\"datetime\"])\n",
    "\n",
    "fuzzy_df[\"datetime\"] = pd.to_datetime(fuzzy_df[\"datetime\"])\n",
    "attack_free_df[\"datetime\"] = pd.to_datetime(attack_free_df[\"datetime\"])\n",
    "attack_free_df_no_concat[\"datetime\"] = pd.to_datetime(attack_free_df_no_concat[\"datetime\"])\n"
   ]
  },
  {
   "cell_type": "code",
   "execution_count": 196,
   "metadata": {},
   "outputs": [
    {
     "data": {
      "text/plain": [
       "updatedCanId             int64\n",
       "datetime        datetime64[ns]\n",
       "dlc                      int64\n",
       "updatedByte0             int64\n",
       "updatedByte1             int64\n",
       "updatedByte2           float64\n",
       "updatedByte3           float64\n",
       "updatedByte4           float64\n",
       "updatedByte5           float64\n",
       "updatedByte6           float64\n",
       "updatedByte7           float64\n",
       "updatedFlag              int64\n",
       "dtype: object"
      ]
     },
     "execution_count": 196,
     "metadata": {},
     "output_type": "execute_result"
    }
   ],
   "source": [
    "dos_df.dtypes"
   ]
  },
  {
   "cell_type": "code",
   "execution_count": 197,
   "metadata": {},
   "outputs": [
    {
     "name": "stdout",
     "output_type": "stream",
     "text": [
      "Series([], Name: datetime, dtype: datetime64[ns])\n"
     ]
    }
   ],
   "source": [
    "print(dos_df.loc[dos_df[\"datetime\"].isna(), \"datetime\"])\n"
   ]
  },
  {
   "cell_type": "code",
   "execution_count": 198,
   "metadata": {},
   "outputs": [
    {
     "data": {
      "text/plain": [
       "updatedCanId             int64\n",
       "datetime        datetime64[ns]\n",
       "dlc                      int64\n",
       "updatedByte0             int64\n",
       "updatedByte1             int64\n",
       "updatedByte2           float64\n",
       "updatedByte3           float64\n",
       "updatedByte4           float64\n",
       "updatedByte5           float64\n",
       "updatedByte6           float64\n",
       "updatedByte7           float64\n",
       "updatedFlag              int64\n",
       "dtype: object"
      ]
     },
     "execution_count": 198,
     "metadata": {},
     "output_type": "execute_result"
    }
   ],
   "source": [
    "fuzzy_df.dtypes"
   ]
  },
  {
   "cell_type": "code",
   "execution_count": 199,
   "metadata": {},
   "outputs": [
    {
     "data": {
      "text/plain": [
       "updatedCanId             int64\n",
       "datetime        datetime64[ns]\n",
       "dlc                      int64\n",
       "updatedByte0             int64\n",
       "updatedByte1             int64\n",
       "updatedByte2           float64\n",
       "updatedByte3           float64\n",
       "updatedByte4           float64\n",
       "updatedByte5           float64\n",
       "updatedByte6           float64\n",
       "updatedByte7           float64\n",
       "updatedFlag              int64\n",
       "dtype: object"
      ]
     },
     "execution_count": 199,
     "metadata": {},
     "output_type": "execute_result"
    }
   ],
   "source": [
    "attack_free_df.dtypes"
   ]
  },
  {
   "cell_type": "code",
   "execution_count": 200,
   "metadata": {},
   "outputs": [
    {
     "name": "stderr",
     "output_type": "stream",
     "text": [
      "C:\\Users\\Naz\\AppData\\Local\\Temp\\ipykernel_12064\\2067426196.py:1: SettingWithCopyWarning: \n",
      "A value is trying to be set on a copy of a slice from a DataFrame.\n",
      "Try using .loc[row_indexer,col_indexer] = value instead\n",
      "\n",
      "See the caveats in the documentation: https://pandas.pydata.org/pandas-docs/stable/user_guide/indexing.html#returning-a-view-versus-a-copy\n",
      "  dos_df[\"attackType\"]=1\n",
      "C:\\Users\\Naz\\AppData\\Local\\Temp\\ipykernel_12064\\2067426196.py:2: SettingWithCopyWarning: \n",
      "A value is trying to be set on a copy of a slice from a DataFrame.\n",
      "Try using .loc[row_indexer,col_indexer] = value instead\n",
      "\n",
      "See the caveats in the documentation: https://pandas.pydata.org/pandas-docs/stable/user_guide/indexing.html#returning-a-view-versus-a-copy\n",
      "  fuzzy_df[\"attackType\"]=2\n"
     ]
    }
   ],
   "source": [
    "dos_df[\"attackType\"]=1\n",
    "fuzzy_df[\"attackType\"]=2\n",
    "attack_free_df[\"attackType\"]=0\n"
   ]
  },
  {
   "cell_type": "markdown",
   "metadata": {},
   "source": [
    "## Common Methods"
   ]
  },
  {
   "cell_type": "code",
   "execution_count": 201,
   "metadata": {},
   "outputs": [],
   "source": [
    "def plot_bar_plot(df, column_names):\n",
    "    if len(column_names) != 2:\n",
    "        raise ValueError(\"`column_names` must contain exactly two elements: [x_column, y_column].\")\n",
    "    \n",
    "    plt.figure(figsize=(12, 6)) \n",
    "    \n",
    "    sns.barplot(x=column_names[0], y=column_names[1], data=df, palette=\"viridis\")\n",
    "\n",
    "    plt.xlabel(column_names[0], fontsize=14)\n",
    "    plt.ylabel(column_names[1], fontsize=14)\n",
    "    plt.title(f\"{column_names[0]}-{column_names[1]}\", fontsize=16)\n",
    "    plt.xticks(rotation=45, fontsize=12)\n",
    "    plt.yticks(fontsize=12)\n",
    "\n",
    "    plt.tight_layout()\n",
    "    plt.show()\n"
   ]
  },
  {
   "cell_type": "code",
   "execution_count": 202,
   "metadata": {},
   "outputs": [],
   "source": [
    "def plot_count_chart(df,column_name):\n",
    "    plt.figure(figsize=(10,8))\n",
    "    \n",
    "    sns.countplot(x=column_name, data=df, palette='viridis')\n",
    "    \n",
    "    plt.title(f'Distribution of {column_name}')\n",
    "    plt.xlabel(column_name)\n",
    "    plt.ylabel('Frequency')\n",
    "    plt.xticks(rotation=45)\n",
    "    plt.tight_layout()\n",
    "    plt.show()"
   ]
  },
  {
   "cell_type": "code",
   "execution_count": 203,
   "metadata": {},
   "outputs": [],
   "source": [
    "def plot_bar_chart_of_percentages(df,column_name):\n",
    "    counts = Counter(df[column_name])\n",
    "    categories = list(counts.keys())\n",
    "    values = list(counts.values())\n",
    "    \n",
    "    total = sum(values)\n",
    "    percentages = [value / total * 100 for value in values]\n",
    "    \n",
    "    plt.bar(categories, values)\n",
    "    plt.xlabel('Category')\n",
    "    plt.ylabel('Count')\n",
    "    plt.title('Bar Chart with Percentages')\n",
    "\n",
    "    for i, (value, pct) in enumerate(zip(values, percentages)):\n",
    "        plt.text(i, value, f'{pct:.1f}%', ha='center', fontsize=15)\n",
    "\n",
    "    plt.show()"
   ]
  },
  {
   "cell_type": "code",
   "execution_count": 204,
   "metadata": {},
   "outputs": [],
   "source": [
    "def plot_pie_chart(df, column_name):\n",
    "    data = Counter(df[column_name])\n",
    "    key_list = list(data.keys())\n",
    "    val_list = list(data.values())\n",
    "\n",
    "    fig1, ax1 = plt.subplots()\n",
    "    wedges, texts, autotexts = ax1.pie(val_list, autopct='%1.1f%%',\n",
    "                                       shadow=True, startangle=90)\n",
    "    ax1.legend(wedges, key_list, title=\"Categories\", loc=\"center left\",\n",
    "               bbox_to_anchor=(1, 0, 0.5, 1))\n",
    "    plt.show()"
   ]
  },
  {
   "cell_type": "code",
   "execution_count": 205,
   "metadata": {},
   "outputs": [],
   "source": [
    "def plot_hist(df, column_name,bin_number):\n",
    "    plt.figure(figsize=(8, 6))\n",
    "    \n",
    "    plt.hist(df[column_name], bins=bin_number, edgecolor=\"black\", alpha=0.7)\n",
    "\n",
    "    plt.xlabel(column_name)\n",
    "    plt.ylabel(\"Frequency\")\n",
    "    plt.title(f\"Histogram of {column_name}\")\n",
    "    plt.show()"
   ]
  },
  {
   "cell_type": "code",
   "execution_count": 206,
   "metadata": {},
   "outputs": [],
   "source": [
    "def plot_line_graph(df,x,y):\n",
    "    \n",
    "    sns.set_theme(style=\"whitegrid\") \n",
    "\n",
    "    plt.figure(figsize=(12, 6)) \n",
    "    sns.lineplot(data=df, x=x, y=y)\n",
    "    plt.xlabel(x)\n",
    "    plt.ylabel(y)\n",
    "    plt.title(f\"{x}--{y}\")\n",
    "\n",
    "    plt.show()\n"
   ]
  },
  {
   "cell_type": "markdown",
   "metadata": {},
   "source": [
    "## Univariate Analysis"
   ]
  },
  {
   "cell_type": "markdown",
   "metadata": {},
   "source": [
    "#### Quick Analysis"
   ]
  },
  {
   "cell_type": "code",
   "execution_count": 207,
   "metadata": {},
   "outputs": [
    {
     "name": "stdout",
     "output_type": "stream",
     "text": [
      "(587521, 13)\n",
      "(491847, 13)\n",
      "(7414132, 13)\n"
     ]
    }
   ],
   "source": [
    "print(dos_df.shape)\n",
    "print(fuzzy_df.shape)\n",
    "print(attack_free_df.shape)"
   ]
  },
  {
   "cell_type": "code",
   "execution_count": 208,
   "metadata": {},
   "outputs": [
    {
     "data": {
      "text/html": [
       "<div>\n",
       "<style scoped>\n",
       "    .dataframe tbody tr th:only-of-type {\n",
       "        vertical-align: middle;\n",
       "    }\n",
       "\n",
       "    .dataframe tbody tr th {\n",
       "        vertical-align: top;\n",
       "    }\n",
       "\n",
       "    .dataframe thead th {\n",
       "        text-align: right;\n",
       "    }\n",
       "</style>\n",
       "<table border=\"1\" class=\"dataframe\">\n",
       "  <thead>\n",
       "    <tr style=\"text-align: right;\">\n",
       "      <th></th>\n",
       "      <th>updatedCanId</th>\n",
       "      <th>datetime</th>\n",
       "      <th>dlc</th>\n",
       "      <th>updatedByte0</th>\n",
       "      <th>updatedByte1</th>\n",
       "      <th>updatedByte2</th>\n",
       "      <th>updatedByte3</th>\n",
       "      <th>updatedByte4</th>\n",
       "      <th>updatedByte5</th>\n",
       "      <th>updatedByte6</th>\n",
       "      <th>updatedByte7</th>\n",
       "      <th>updatedFlag</th>\n",
       "      <th>attackType</th>\n",
       "    </tr>\n",
       "  </thead>\n",
       "  <tbody>\n",
       "    <tr>\n",
       "      <th>1475</th>\n",
       "      <td>0</td>\n",
       "      <td>2016-11-03 18:39:37</td>\n",
       "      <td>8</td>\n",
       "      <td>0</td>\n",
       "      <td>0</td>\n",
       "      <td>0.0</td>\n",
       "      <td>0.0</td>\n",
       "      <td>0.0</td>\n",
       "      <td>0.0</td>\n",
       "      <td>0.0</td>\n",
       "      <td>0.0</td>\n",
       "      <td>1</td>\n",
       "      <td>1</td>\n",
       "    </tr>\n",
       "    <tr>\n",
       "      <th>1477</th>\n",
       "      <td>0</td>\n",
       "      <td>2016-11-03 18:39:37</td>\n",
       "      <td>8</td>\n",
       "      <td>0</td>\n",
       "      <td>0</td>\n",
       "      <td>0.0</td>\n",
       "      <td>0.0</td>\n",
       "      <td>0.0</td>\n",
       "      <td>0.0</td>\n",
       "      <td>0.0</td>\n",
       "      <td>0.0</td>\n",
       "      <td>1</td>\n",
       "      <td>1</td>\n",
       "    </tr>\n",
       "    <tr>\n",
       "      <th>1479</th>\n",
       "      <td>0</td>\n",
       "      <td>2016-11-03 18:39:37</td>\n",
       "      <td>8</td>\n",
       "      <td>0</td>\n",
       "      <td>0</td>\n",
       "      <td>0.0</td>\n",
       "      <td>0.0</td>\n",
       "      <td>0.0</td>\n",
       "      <td>0.0</td>\n",
       "      <td>0.0</td>\n",
       "      <td>0.0</td>\n",
       "      <td>1</td>\n",
       "      <td>1</td>\n",
       "    </tr>\n",
       "    <tr>\n",
       "      <th>1481</th>\n",
       "      <td>0</td>\n",
       "      <td>2016-11-03 18:39:37</td>\n",
       "      <td>8</td>\n",
       "      <td>0</td>\n",
       "      <td>0</td>\n",
       "      <td>0.0</td>\n",
       "      <td>0.0</td>\n",
       "      <td>0.0</td>\n",
       "      <td>0.0</td>\n",
       "      <td>0.0</td>\n",
       "      <td>0.0</td>\n",
       "      <td>1</td>\n",
       "      <td>1</td>\n",
       "    </tr>\n",
       "    <tr>\n",
       "      <th>1483</th>\n",
       "      <td>0</td>\n",
       "      <td>2016-11-03 18:39:37</td>\n",
       "      <td>8</td>\n",
       "      <td>0</td>\n",
       "      <td>0</td>\n",
       "      <td>0.0</td>\n",
       "      <td>0.0</td>\n",
       "      <td>0.0</td>\n",
       "      <td>0.0</td>\n",
       "      <td>0.0</td>\n",
       "      <td>0.0</td>\n",
       "      <td>1</td>\n",
       "      <td>1</td>\n",
       "    </tr>\n",
       "  </tbody>\n",
       "</table>\n",
       "</div>"
      ],
      "text/plain": [
       "      updatedCanId            datetime  dlc  updatedByte0  updatedByte1  \\\n",
       "1475             0 2016-11-03 18:39:37    8             0             0   \n",
       "1477             0 2016-11-03 18:39:37    8             0             0   \n",
       "1479             0 2016-11-03 18:39:37    8             0             0   \n",
       "1481             0 2016-11-03 18:39:37    8             0             0   \n",
       "1483             0 2016-11-03 18:39:37    8             0             0   \n",
       "\n",
       "      updatedByte2  updatedByte3  updatedByte4  updatedByte5  updatedByte6  \\\n",
       "1475           0.0           0.0           0.0           0.0           0.0   \n",
       "1477           0.0           0.0           0.0           0.0           0.0   \n",
       "1479           0.0           0.0           0.0           0.0           0.0   \n",
       "1481           0.0           0.0           0.0           0.0           0.0   \n",
       "1483           0.0           0.0           0.0           0.0           0.0   \n",
       "\n",
       "      updatedByte7  updatedFlag  attackType  \n",
       "1475           0.0            1           1  \n",
       "1477           0.0            1           1  \n",
       "1479           0.0            1           1  \n",
       "1481           0.0            1           1  \n",
       "1483           0.0            1           1  "
      ]
     },
     "execution_count": 208,
     "metadata": {},
     "output_type": "execute_result"
    }
   ],
   "source": [
    "dos_df.head()"
   ]
  },
  {
   "cell_type": "code",
   "execution_count": 209,
   "metadata": {},
   "outputs": [
    {
     "data": {
      "text/html": [
       "<div>\n",
       "<style scoped>\n",
       "    .dataframe tbody tr th:only-of-type {\n",
       "        vertical-align: middle;\n",
       "    }\n",
       "\n",
       "    .dataframe tbody tr th {\n",
       "        vertical-align: top;\n",
       "    }\n",
       "\n",
       "    .dataframe thead th {\n",
       "        text-align: right;\n",
       "    }\n",
       "</style>\n",
       "<table border=\"1\" class=\"dataframe\">\n",
       "  <thead>\n",
       "    <tr style=\"text-align: right;\">\n",
       "      <th></th>\n",
       "      <th>updatedCanId</th>\n",
       "      <th>datetime</th>\n",
       "      <th>dlc</th>\n",
       "      <th>updatedByte0</th>\n",
       "      <th>updatedByte1</th>\n",
       "      <th>updatedByte2</th>\n",
       "      <th>updatedByte3</th>\n",
       "      <th>updatedByte4</th>\n",
       "      <th>updatedByte5</th>\n",
       "      <th>updatedByte6</th>\n",
       "      <th>updatedByte7</th>\n",
       "      <th>updatedFlag</th>\n",
       "      <th>attackType</th>\n",
       "    </tr>\n",
       "  </thead>\n",
       "  <tbody>\n",
       "    <tr>\n",
       "      <th>1566</th>\n",
       "      <td>223</td>\n",
       "      <td>2016-11-03 17:55:22</td>\n",
       "      <td>8</td>\n",
       "      <td>140</td>\n",
       "      <td>171</td>\n",
       "      <td>242.0</td>\n",
       "      <td>38.0</td>\n",
       "      <td>122.0</td>\n",
       "      <td>41.0</td>\n",
       "      <td>26.0</td>\n",
       "      <td>12.0</td>\n",
       "      <td>1</td>\n",
       "      <td>2</td>\n",
       "    </tr>\n",
       "    <tr>\n",
       "      <th>1567</th>\n",
       "      <td>1770</td>\n",
       "      <td>2016-11-03 17:55:22</td>\n",
       "      <td>8</td>\n",
       "      <td>37</td>\n",
       "      <td>16</td>\n",
       "      <td>156.0</td>\n",
       "      <td>237.0</td>\n",
       "      <td>91.0</td>\n",
       "      <td>22.0</td>\n",
       "      <td>44.0</td>\n",
       "      <td>24.0</td>\n",
       "      <td>1</td>\n",
       "      <td>2</td>\n",
       "    </tr>\n",
       "    <tr>\n",
       "      <th>1568</th>\n",
       "      <td>765</td>\n",
       "      <td>2016-11-03 17:55:22</td>\n",
       "      <td>8</td>\n",
       "      <td>63</td>\n",
       "      <td>189</td>\n",
       "      <td>104.0</td>\n",
       "      <td>243.0</td>\n",
       "      <td>195.0</td>\n",
       "      <td>79.0</td>\n",
       "      <td>40.0</td>\n",
       "      <td>212.0</td>\n",
       "      <td>1</td>\n",
       "      <td>2</td>\n",
       "    </tr>\n",
       "    <tr>\n",
       "      <th>1575</th>\n",
       "      <td>301</td>\n",
       "      <td>2016-11-03 17:55:22</td>\n",
       "      <td>8</td>\n",
       "      <td>53</td>\n",
       "      <td>69</td>\n",
       "      <td>153.0</td>\n",
       "      <td>207.0</td>\n",
       "      <td>9.0</td>\n",
       "      <td>128.0</td>\n",
       "      <td>199.0</td>\n",
       "      <td>119.0</td>\n",
       "      <td>1</td>\n",
       "      <td>2</td>\n",
       "    </tr>\n",
       "    <tr>\n",
       "      <th>1579</th>\n",
       "      <td>826</td>\n",
       "      <td>2016-11-03 17:55:22</td>\n",
       "      <td>8</td>\n",
       "      <td>28</td>\n",
       "      <td>4</td>\n",
       "      <td>134.0</td>\n",
       "      <td>144.0</td>\n",
       "      <td>127.0</td>\n",
       "      <td>8.0</td>\n",
       "      <td>126.0</td>\n",
       "      <td>201.0</td>\n",
       "      <td>1</td>\n",
       "      <td>2</td>\n",
       "    </tr>\n",
       "  </tbody>\n",
       "</table>\n",
       "</div>"
      ],
      "text/plain": [
       "      updatedCanId            datetime  dlc  updatedByte0  updatedByte1  \\\n",
       "1566           223 2016-11-03 17:55:22    8           140           171   \n",
       "1567          1770 2016-11-03 17:55:22    8            37            16   \n",
       "1568           765 2016-11-03 17:55:22    8            63           189   \n",
       "1575           301 2016-11-03 17:55:22    8            53            69   \n",
       "1579           826 2016-11-03 17:55:22    8            28             4   \n",
       "\n",
       "      updatedByte2  updatedByte3  updatedByte4  updatedByte5  updatedByte6  \\\n",
       "1566         242.0          38.0         122.0          41.0          26.0   \n",
       "1567         156.0         237.0          91.0          22.0          44.0   \n",
       "1568         104.0         243.0         195.0          79.0          40.0   \n",
       "1575         153.0         207.0           9.0         128.0         199.0   \n",
       "1579         134.0         144.0         127.0           8.0         126.0   \n",
       "\n",
       "      updatedByte7  updatedFlag  attackType  \n",
       "1566          12.0            1           2  \n",
       "1567          24.0            1           2  \n",
       "1568         212.0            1           2  \n",
       "1575         119.0            1           2  \n",
       "1579         201.0            1           2  "
      ]
     },
     "execution_count": 209,
     "metadata": {},
     "output_type": "execute_result"
    }
   ],
   "source": [
    "fuzzy_df.head()"
   ]
  },
  {
   "cell_type": "code",
   "execution_count": 210,
   "metadata": {},
   "outputs": [
    {
     "data": {
      "text/html": [
       "<div>\n",
       "<style scoped>\n",
       "    .dataframe tbody tr th:only-of-type {\n",
       "        vertical-align: middle;\n",
       "    }\n",
       "\n",
       "    .dataframe tbody tr th {\n",
       "        vertical-align: top;\n",
       "    }\n",
       "\n",
       "    .dataframe thead th {\n",
       "        text-align: right;\n",
       "    }\n",
       "</style>\n",
       "<table border=\"1\" class=\"dataframe\">\n",
       "  <thead>\n",
       "    <tr style=\"text-align: right;\">\n",
       "      <th></th>\n",
       "      <th>updatedCanId</th>\n",
       "      <th>datetime</th>\n",
       "      <th>dlc</th>\n",
       "      <th>updatedByte0</th>\n",
       "      <th>updatedByte1</th>\n",
       "      <th>updatedByte2</th>\n",
       "      <th>updatedByte3</th>\n",
       "      <th>updatedByte4</th>\n",
       "      <th>updatedByte5</th>\n",
       "      <th>updatedByte6</th>\n",
       "      <th>updatedByte7</th>\n",
       "      <th>updatedFlag</th>\n",
       "      <th>attackType</th>\n",
       "    </tr>\n",
       "  </thead>\n",
       "  <tbody>\n",
       "    <tr>\n",
       "      <th>0</th>\n",
       "      <td>848</td>\n",
       "      <td>2016-11-14 11:03:54</td>\n",
       "      <td>8</td>\n",
       "      <td>5</td>\n",
       "      <td>40</td>\n",
       "      <td>132.0</td>\n",
       "      <td>102.0</td>\n",
       "      <td>109.0</td>\n",
       "      <td>0.0</td>\n",
       "      <td>0.0</td>\n",
       "      <td>162.0</td>\n",
       "      <td>0</td>\n",
       "      <td>0</td>\n",
       "    </tr>\n",
       "    <tr>\n",
       "      <th>1</th>\n",
       "      <td>704</td>\n",
       "      <td>2016-11-14 11:03:54</td>\n",
       "      <td>8</td>\n",
       "      <td>20</td>\n",
       "      <td>0</td>\n",
       "      <td>0.0</td>\n",
       "      <td>0.0</td>\n",
       "      <td>0.0</td>\n",
       "      <td>0.0</td>\n",
       "      <td>0.0</td>\n",
       "      <td>0.0</td>\n",
       "      <td>0</td>\n",
       "      <td>0</td>\n",
       "    </tr>\n",
       "    <tr>\n",
       "      <th>2</th>\n",
       "      <td>1072</td>\n",
       "      <td>2016-11-14 11:03:54</td>\n",
       "      <td>8</td>\n",
       "      <td>0</td>\n",
       "      <td>0</td>\n",
       "      <td>0.0</td>\n",
       "      <td>0.0</td>\n",
       "      <td>0.0</td>\n",
       "      <td>0.0</td>\n",
       "      <td>0.0</td>\n",
       "      <td>0.0</td>\n",
       "      <td>0</td>\n",
       "      <td>0</td>\n",
       "    </tr>\n",
       "    <tr>\n",
       "      <th>3</th>\n",
       "      <td>1201</td>\n",
       "      <td>2016-11-14 11:03:54</td>\n",
       "      <td>8</td>\n",
       "      <td>0</td>\n",
       "      <td>0</td>\n",
       "      <td>0.0</td>\n",
       "      <td>0.0</td>\n",
       "      <td>0.0</td>\n",
       "      <td>0.0</td>\n",
       "      <td>0.0</td>\n",
       "      <td>0.0</td>\n",
       "      <td>0</td>\n",
       "      <td>0</td>\n",
       "    </tr>\n",
       "    <tr>\n",
       "      <th>4</th>\n",
       "      <td>497</td>\n",
       "      <td>2016-11-14 11:03:54</td>\n",
       "      <td>8</td>\n",
       "      <td>0</td>\n",
       "      <td>0</td>\n",
       "      <td>0.0</td>\n",
       "      <td>0.0</td>\n",
       "      <td>0.0</td>\n",
       "      <td>0.0</td>\n",
       "      <td>0.0</td>\n",
       "      <td>0.0</td>\n",
       "      <td>0</td>\n",
       "      <td>0</td>\n",
       "    </tr>\n",
       "  </tbody>\n",
       "</table>\n",
       "</div>"
      ],
      "text/plain": [
       "   updatedCanId            datetime  dlc  updatedByte0  updatedByte1  \\\n",
       "0           848 2016-11-14 11:03:54    8             5            40   \n",
       "1           704 2016-11-14 11:03:54    8            20             0   \n",
       "2          1072 2016-11-14 11:03:54    8             0             0   \n",
       "3          1201 2016-11-14 11:03:54    8             0             0   \n",
       "4           497 2016-11-14 11:03:54    8             0             0   \n",
       "\n",
       "   updatedByte2  updatedByte3  updatedByte4  updatedByte5  updatedByte6  \\\n",
       "0         132.0         102.0         109.0           0.0           0.0   \n",
       "1           0.0           0.0           0.0           0.0           0.0   \n",
       "2           0.0           0.0           0.0           0.0           0.0   \n",
       "3           0.0           0.0           0.0           0.0           0.0   \n",
       "4           0.0           0.0           0.0           0.0           0.0   \n",
       "\n",
       "   updatedByte7  updatedFlag  attackType  \n",
       "0         162.0            0           0  \n",
       "1           0.0            0           0  \n",
       "2           0.0            0           0  \n",
       "3           0.0            0           0  \n",
       "4           0.0            0           0  "
      ]
     },
     "execution_count": 210,
     "metadata": {},
     "output_type": "execute_result"
    }
   ],
   "source": [
    "attack_free_df.head()"
   ]
  },
  {
   "cell_type": "markdown",
   "metadata": {},
   "source": [
    "#### updatedCanId"
   ]
  },
  {
   "cell_type": "code",
   "execution_count": 211,
   "metadata": {},
   "outputs": [],
   "source": [
    "# plot_count_chart(dos_df,\"updatedCanId\")"
   ]
  },
  {
   "cell_type": "code",
   "execution_count": 212,
   "metadata": {},
   "outputs": [],
   "source": [
    "# plot_hist(fuzzy_df, \"updatedCanId\",100)"
   ]
  },
  {
   "cell_type": "code",
   "execution_count": 213,
   "metadata": {},
   "outputs": [
    {
     "data": {
      "text/plain": [
       "38"
      ]
     },
     "execution_count": 213,
     "metadata": {},
     "output_type": "execute_result"
    }
   ],
   "source": [
    "attack_free_df[\"updatedCanId\"].nunique()\n"
   ]
  },
  {
   "cell_type": "code",
   "execution_count": 214,
   "metadata": {},
   "outputs": [],
   "source": [
    "# plot_count_chart(attack_free_df,\"updatedCanId\")"
   ]
  },
  {
   "cell_type": "code",
   "execution_count": 215,
   "metadata": {},
   "outputs": [],
   "source": [
    "# plot_hist(attack_free_df, \"updatedCanId\",10)"
   ]
  },
  {
   "cell_type": "markdown",
   "metadata": {},
   "source": [
    "#### dlc"
   ]
  },
  {
   "cell_type": "code",
   "execution_count": 216,
   "metadata": {},
   "outputs": [],
   "source": [
    "# plot_pie_chart(dos_df,\"dlc\")"
   ]
  },
  {
   "cell_type": "code",
   "execution_count": 217,
   "metadata": {},
   "outputs": [],
   "source": [
    "# plot_pie_chart(fuzzy_df,\"dlc\")"
   ]
  },
  {
   "cell_type": "code",
   "execution_count": 218,
   "metadata": {},
   "outputs": [],
   "source": [
    "# plot_bar_chart_of_percentages(attack_free_df,\"dlc\")"
   ]
  },
  {
   "cell_type": "code",
   "execution_count": 219,
   "metadata": {},
   "outputs": [
    {
     "data": {
      "text/plain": [
       "dlc\n",
       "8    7234373\n",
       "5     104057\n",
       "2      75699\n",
       "6          3\n",
       "Name: count, dtype: int64"
      ]
     },
     "execution_count": 219,
     "metadata": {},
     "output_type": "execute_result"
    }
   ],
   "source": [
    "attack_free_df[\"dlc\"].value_counts()"
   ]
  },
  {
   "cell_type": "code",
   "execution_count": 220,
   "metadata": {},
   "outputs": [],
   "source": [
    "# plot_hist(attack_free_df, \"dlc\",3)"
   ]
  },
  {
   "cell_type": "markdown",
   "metadata": {},
   "source": [
    "#### updatedBytes"
   ]
  },
  {
   "cell_type": "code",
   "execution_count": 221,
   "metadata": {},
   "outputs": [
    {
     "data": {
      "text/plain": [
       "[array([0]),\n",
       " array([0]),\n",
       " array([0.]),\n",
       " array([0.]),\n",
       " array([0.]),\n",
       " array([0.]),\n",
       " array([0.]),\n",
       " array([0.])]"
      ]
     },
     "execution_count": 221,
     "metadata": {},
     "output_type": "execute_result"
    }
   ],
   "source": [
    "[dos_df[f\"updatedByte{i}\"].unique() for i in range(8)]"
   ]
  },
  {
   "cell_type": "code",
   "execution_count": 222,
   "metadata": {},
   "outputs": [
    {
     "data": {
      "text/plain": [
       "[256, 256, 256, 256, 256, 256, 256, 256]"
      ]
     },
     "execution_count": 222,
     "metadata": {},
     "output_type": "execute_result"
    }
   ],
   "source": [
    "[fuzzy_df[f\"updatedByte{i}\"].nunique() for i in range(8)]"
   ]
  },
  {
   "cell_type": "code",
   "execution_count": 223,
   "metadata": {},
   "outputs": [
    {
     "data": {
      "text/html": [
       "<div>\n",
       "<style scoped>\n",
       "    .dataframe tbody tr th:only-of-type {\n",
       "        vertical-align: middle;\n",
       "    }\n",
       "\n",
       "    .dataframe tbody tr th {\n",
       "        vertical-align: top;\n",
       "    }\n",
       "\n",
       "    .dataframe thead th {\n",
       "        text-align: right;\n",
       "    }\n",
       "</style>\n",
       "<table border=\"1\" class=\"dataframe\">\n",
       "  <thead>\n",
       "    <tr style=\"text-align: right;\">\n",
       "      <th></th>\n",
       "      <th>updatedByte0</th>\n",
       "      <th>updatedByte1</th>\n",
       "      <th>updatedByte2</th>\n",
       "      <th>updatedByte3</th>\n",
       "      <th>updatedByte4</th>\n",
       "      <th>updatedByte5</th>\n",
       "      <th>updatedByte6</th>\n",
       "      <th>updatedByte7</th>\n",
       "    </tr>\n",
       "  </thead>\n",
       "  <tbody>\n",
       "    <tr>\n",
       "      <th>updatedByte0</th>\n",
       "      <td>1.000000</td>\n",
       "      <td>0.000455</td>\n",
       "      <td>0.002689</td>\n",
       "      <td>-0.000088</td>\n",
       "      <td>0.001078</td>\n",
       "      <td>0.001206</td>\n",
       "      <td>-0.000723</td>\n",
       "      <td>0.001183</td>\n",
       "    </tr>\n",
       "    <tr>\n",
       "      <th>updatedByte1</th>\n",
       "      <td>0.000455</td>\n",
       "      <td>1.000000</td>\n",
       "      <td>-0.002500</td>\n",
       "      <td>-0.001729</td>\n",
       "      <td>0.000309</td>\n",
       "      <td>-0.000105</td>\n",
       "      <td>-0.000188</td>\n",
       "      <td>-0.002880</td>\n",
       "    </tr>\n",
       "    <tr>\n",
       "      <th>updatedByte2</th>\n",
       "      <td>0.002689</td>\n",
       "      <td>-0.002500</td>\n",
       "      <td>1.000000</td>\n",
       "      <td>-0.000476</td>\n",
       "      <td>0.000785</td>\n",
       "      <td>0.001151</td>\n",
       "      <td>-0.001414</td>\n",
       "      <td>0.001229</td>\n",
       "    </tr>\n",
       "    <tr>\n",
       "      <th>updatedByte3</th>\n",
       "      <td>-0.000088</td>\n",
       "      <td>-0.001729</td>\n",
       "      <td>-0.000476</td>\n",
       "      <td>1.000000</td>\n",
       "      <td>0.000964</td>\n",
       "      <td>-0.001577</td>\n",
       "      <td>-0.001520</td>\n",
       "      <td>-0.001691</td>\n",
       "    </tr>\n",
       "    <tr>\n",
       "      <th>updatedByte4</th>\n",
       "      <td>0.001078</td>\n",
       "      <td>0.000309</td>\n",
       "      <td>0.000785</td>\n",
       "      <td>0.000964</td>\n",
       "      <td>1.000000</td>\n",
       "      <td>0.000362</td>\n",
       "      <td>-0.000149</td>\n",
       "      <td>-0.000822</td>\n",
       "    </tr>\n",
       "    <tr>\n",
       "      <th>updatedByte5</th>\n",
       "      <td>0.001206</td>\n",
       "      <td>-0.000105</td>\n",
       "      <td>0.001151</td>\n",
       "      <td>-0.001577</td>\n",
       "      <td>0.000362</td>\n",
       "      <td>1.000000</td>\n",
       "      <td>-0.000459</td>\n",
       "      <td>-0.001601</td>\n",
       "    </tr>\n",
       "    <tr>\n",
       "      <th>updatedByte6</th>\n",
       "      <td>-0.000723</td>\n",
       "      <td>-0.000188</td>\n",
       "      <td>-0.001414</td>\n",
       "      <td>-0.001520</td>\n",
       "      <td>-0.000149</td>\n",
       "      <td>-0.000459</td>\n",
       "      <td>1.000000</td>\n",
       "      <td>-0.001957</td>\n",
       "    </tr>\n",
       "    <tr>\n",
       "      <th>updatedByte7</th>\n",
       "      <td>0.001183</td>\n",
       "      <td>-0.002880</td>\n",
       "      <td>0.001229</td>\n",
       "      <td>-0.001691</td>\n",
       "      <td>-0.000822</td>\n",
       "      <td>-0.001601</td>\n",
       "      <td>-0.001957</td>\n",
       "      <td>1.000000</td>\n",
       "    </tr>\n",
       "  </tbody>\n",
       "</table>\n",
       "</div>"
      ],
      "text/plain": [
       "              updatedByte0  updatedByte1  updatedByte2  updatedByte3  \\\n",
       "updatedByte0      1.000000      0.000455      0.002689     -0.000088   \n",
       "updatedByte1      0.000455      1.000000     -0.002500     -0.001729   \n",
       "updatedByte2      0.002689     -0.002500      1.000000     -0.000476   \n",
       "updatedByte3     -0.000088     -0.001729     -0.000476      1.000000   \n",
       "updatedByte4      0.001078      0.000309      0.000785      0.000964   \n",
       "updatedByte5      0.001206     -0.000105      0.001151     -0.001577   \n",
       "updatedByte6     -0.000723     -0.000188     -0.001414     -0.001520   \n",
       "updatedByte7      0.001183     -0.002880      0.001229     -0.001691   \n",
       "\n",
       "              updatedByte4  updatedByte5  updatedByte6  updatedByte7  \n",
       "updatedByte0      0.001078      0.001206     -0.000723      0.001183  \n",
       "updatedByte1      0.000309     -0.000105     -0.000188     -0.002880  \n",
       "updatedByte2      0.000785      0.001151     -0.001414      0.001229  \n",
       "updatedByte3      0.000964     -0.001577     -0.001520     -0.001691  \n",
       "updatedByte4      1.000000      0.000362     -0.000149     -0.000822  \n",
       "updatedByte5      0.000362      1.000000     -0.000459     -0.001601  \n",
       "updatedByte6     -0.000149     -0.000459      1.000000     -0.001957  \n",
       "updatedByte7     -0.000822     -0.001601     -0.001957      1.000000  "
      ]
     },
     "execution_count": 223,
     "metadata": {},
     "output_type": "execute_result"
    }
   ],
   "source": [
    "fuzzy_df[[f\"updatedByte{i}\" for i in range(8)]].corr()"
   ]
  },
  {
   "cell_type": "code",
   "execution_count": 224,
   "metadata": {},
   "outputs": [
    {
     "data": {
      "text/plain": [
       "[256, 256, 256, 256, 256, 256, 228, 256]"
      ]
     },
     "execution_count": 224,
     "metadata": {},
     "output_type": "execute_result"
    }
   ],
   "source": [
    "[attack_free_df[f\"updatedByte{i}\"].nunique() for i in range(8)]"
   ]
  },
  {
   "cell_type": "code",
   "execution_count": 225,
   "metadata": {},
   "outputs": [
    {
     "data": {
      "text/html": [
       "<div>\n",
       "<style scoped>\n",
       "    .dataframe tbody tr th:only-of-type {\n",
       "        vertical-align: middle;\n",
       "    }\n",
       "\n",
       "    .dataframe tbody tr th {\n",
       "        vertical-align: top;\n",
       "    }\n",
       "\n",
       "    .dataframe thead th {\n",
       "        text-align: right;\n",
       "    }\n",
       "</style>\n",
       "<table border=\"1\" class=\"dataframe\">\n",
       "  <thead>\n",
       "    <tr style=\"text-align: right;\">\n",
       "      <th></th>\n",
       "      <th>updatedByte0</th>\n",
       "      <th>updatedByte1</th>\n",
       "      <th>updatedByte2</th>\n",
       "      <th>updatedByte3</th>\n",
       "      <th>updatedByte4</th>\n",
       "      <th>updatedByte5</th>\n",
       "      <th>updatedByte6</th>\n",
       "      <th>updatedByte7</th>\n",
       "    </tr>\n",
       "  </thead>\n",
       "  <tbody>\n",
       "    <tr>\n",
       "      <th>updatedByte0</th>\n",
       "      <td>1.000000</td>\n",
       "      <td>0.219643</td>\n",
       "      <td>-0.168148</td>\n",
       "      <td>-0.189503</td>\n",
       "      <td>0.250136</td>\n",
       "      <td>0.086862</td>\n",
       "      <td>-0.140091</td>\n",
       "      <td>-0.221808</td>\n",
       "    </tr>\n",
       "    <tr>\n",
       "      <th>updatedByte1</th>\n",
       "      <td>0.219643</td>\n",
       "      <td>1.000000</td>\n",
       "      <td>0.179220</td>\n",
       "      <td>0.154030</td>\n",
       "      <td>-0.028530</td>\n",
       "      <td>0.171493</td>\n",
       "      <td>-0.253561</td>\n",
       "      <td>0.121092</td>\n",
       "    </tr>\n",
       "    <tr>\n",
       "      <th>updatedByte2</th>\n",
       "      <td>-0.168148</td>\n",
       "      <td>0.179220</td>\n",
       "      <td>1.000000</td>\n",
       "      <td>0.080260</td>\n",
       "      <td>0.261321</td>\n",
       "      <td>-0.136374</td>\n",
       "      <td>0.270401</td>\n",
       "      <td>0.083953</td>\n",
       "    </tr>\n",
       "    <tr>\n",
       "      <th>updatedByte3</th>\n",
       "      <td>-0.189503</td>\n",
       "      <td>0.154030</td>\n",
       "      <td>0.080260</td>\n",
       "      <td>1.000000</td>\n",
       "      <td>0.067028</td>\n",
       "      <td>0.564374</td>\n",
       "      <td>-0.042694</td>\n",
       "      <td>-0.042733</td>\n",
       "    </tr>\n",
       "    <tr>\n",
       "      <th>updatedByte4</th>\n",
       "      <td>0.250136</td>\n",
       "      <td>-0.028530</td>\n",
       "      <td>0.261321</td>\n",
       "      <td>0.067028</td>\n",
       "      <td>1.000000</td>\n",
       "      <td>0.315744</td>\n",
       "      <td>0.146553</td>\n",
       "      <td>-0.013186</td>\n",
       "    </tr>\n",
       "    <tr>\n",
       "      <th>updatedByte5</th>\n",
       "      <td>0.086862</td>\n",
       "      <td>0.171493</td>\n",
       "      <td>-0.136374</td>\n",
       "      <td>0.564374</td>\n",
       "      <td>0.315744</td>\n",
       "      <td>1.000000</td>\n",
       "      <td>0.003467</td>\n",
       "      <td>-0.127207</td>\n",
       "    </tr>\n",
       "    <tr>\n",
       "      <th>updatedByte6</th>\n",
       "      <td>-0.140091</td>\n",
       "      <td>-0.253561</td>\n",
       "      <td>0.270401</td>\n",
       "      <td>-0.042694</td>\n",
       "      <td>0.146553</td>\n",
       "      <td>0.003467</td>\n",
       "      <td>1.000000</td>\n",
       "      <td>-0.132757</td>\n",
       "    </tr>\n",
       "    <tr>\n",
       "      <th>updatedByte7</th>\n",
       "      <td>-0.221808</td>\n",
       "      <td>0.121092</td>\n",
       "      <td>0.083953</td>\n",
       "      <td>-0.042733</td>\n",
       "      <td>-0.013186</td>\n",
       "      <td>-0.127207</td>\n",
       "      <td>-0.132757</td>\n",
       "      <td>1.000000</td>\n",
       "    </tr>\n",
       "  </tbody>\n",
       "</table>\n",
       "</div>"
      ],
      "text/plain": [
       "              updatedByte0  updatedByte1  updatedByte2  updatedByte3  \\\n",
       "updatedByte0      1.000000      0.219643     -0.168148     -0.189503   \n",
       "updatedByte1      0.219643      1.000000      0.179220      0.154030   \n",
       "updatedByte2     -0.168148      0.179220      1.000000      0.080260   \n",
       "updatedByte3     -0.189503      0.154030      0.080260      1.000000   \n",
       "updatedByte4      0.250136     -0.028530      0.261321      0.067028   \n",
       "updatedByte5      0.086862      0.171493     -0.136374      0.564374   \n",
       "updatedByte6     -0.140091     -0.253561      0.270401     -0.042694   \n",
       "updatedByte7     -0.221808      0.121092      0.083953     -0.042733   \n",
       "\n",
       "              updatedByte4  updatedByte5  updatedByte6  updatedByte7  \n",
       "updatedByte0      0.250136      0.086862     -0.140091     -0.221808  \n",
       "updatedByte1     -0.028530      0.171493     -0.253561      0.121092  \n",
       "updatedByte2      0.261321     -0.136374      0.270401      0.083953  \n",
       "updatedByte3      0.067028      0.564374     -0.042694     -0.042733  \n",
       "updatedByte4      1.000000      0.315744      0.146553     -0.013186  \n",
       "updatedByte5      0.315744      1.000000      0.003467     -0.127207  \n",
       "updatedByte6      0.146553      0.003467      1.000000     -0.132757  \n",
       "updatedByte7     -0.013186     -0.127207     -0.132757      1.000000  "
      ]
     },
     "execution_count": 225,
     "metadata": {},
     "output_type": "execute_result"
    }
   ],
   "source": [
    "attack_free_df[[f\"updatedByte{i}\" for i in range(8)]].corr()"
   ]
  },
  {
   "cell_type": "markdown",
   "metadata": {},
   "source": [
    "#### updatedFlag"
   ]
  },
  {
   "cell_type": "code",
   "execution_count": 226,
   "metadata": {},
   "outputs": [
    {
     "data": {
      "image/png": "[encoded data removed]",
      "text/plain": [
       "<Figure size 640x480 with 1 Axes>"
      ]
     },
     "metadata": {},
     "output_type": "display_data"
    }
   ],
   "source": [
    "plot_pie_chart(dos_df,\"updatedFlag\")"
   ]
  },
  {
   "cell_type": "code",
   "execution_count": 227,
   "metadata": {},
   "outputs": [
    {
     "data": {
      "image/png": "[encoded data removed]",
      "text/plain": [
       "<Figure size 640x480 with 1 Axes>"
      ]
     },
     "metadata": {},
     "output_type": "display_data"
    }
   ],
   "source": [
    "plot_pie_chart(fuzzy_df,\"updatedFlag\")"
   ]
  },
  {
   "cell_type": "code",
   "execution_count": 228,
   "metadata": {},
   "outputs": [
    {
     "data": {
      "image/png": "[encoded data removed]",
      "text/plain": [
       "<Figure size 640x480 with 1 Axes>"
      ]
     },
     "metadata": {},
     "output_type": "display_data"
    }
   ],
   "source": [
    "plot_pie_chart(attack_free_df,\"updatedFlag\")"
   ]
  },
  {
   "cell_type": "markdown",
   "metadata": {},
   "source": [
    "### Insights about Univariate Analysis"
   ]
  },
  {
   "cell_type": "markdown",
   "metadata": {},
   "source": [
    "\n",
    "#### **Shape**\n",
    "- **DOS Dataset:** Shape is `(587,521, 6)`  \n",
    "- **Fuzzy Dataset:** Shape is `(491,847, 6)`  \n",
    "- **Attack-Free Dataset:** Shape is `(7,414,132, 6)`  \n",
    "\n",
    "#### **Updated CAN ID**\n",
    "- **DOS Dataset:** Contains only a single value: `0`.  \n",
    "- **Fuzzy Dataset:** \n",
    "  - Contains **2,048 unique IDs** ranging between `0` and `2,047`.  \n",
    "  - Observing the top 100 most used IDs reveals a **uniform distribution**.  \n",
    "- **Attack-Free Dataset:** \n",
    "  - Contains **38 unique IDs** with a **non-normal distribution**.  \n",
    "  - This dataset appears to be a **combination of multiple sources**, as it includes attack-free samples from the DOS, Fuzzy, and original attack-free datasets.  \n",
    "\n",
    "#### **DLC (Data Length Code)**\n",
    "- **DOS Dataset:** Limited to **8 as unique value**.  \n",
    "- **Fuzzy Dataset:** Limited to **8 as unique value**.  \n",
    "- **Attack-Free Dataset:** Includes values such as **2, 5, 6, and 8**, but values other than `8` are **extremely rare**. These may be removed during data cleaning for simplification.  \n",
    "#### **UpdatedByte0 to UpdatedByte7**\n",
    "- **DOS Dataset:** Contains only a single value: `0`.    \n",
    "- **Fuzzy Dataset:** Contains 256 unique values in each byte column. Correlation between byte columns does not represent meaningfull information, instead show some little noise. \n",
    "- **Attack-Free Dataset:** Contains 256 unique values in each byte column. Strong correlations occur rather than fuzzy dataset. Columns like updatedByte0, updatedByte4, and updatedByte2 show moderate positive correlations with one another\n",
    "\n",
    "\n",
    "#### **Updated Flag**\n",
    "- **DOS Dataset:** All values are labeled as `injected`.  \n",
    "- **Fuzzy Dataset:** All values are labeled as `injected`.  \n",
    "- **Attack-Free Dataset:** All values are labeled as `normal`.  \n"
   ]
  },
  {
   "cell_type": "markdown",
   "metadata": {},
   "source": [
    "## Bivariate Analysis"
   ]
  },
  {
   "cell_type": "code",
   "execution_count": 237,
   "metadata": {},
   "outputs": [],
   "source": [
    "dos_df_resampled = dos_df.resample('min',on='datetime').mean()\n",
    "fuzzy_df_resampled = fuzzy_df.resample('min',on='datetime').agg(lambda x: x.mode()[0])\n",
    "attack_free_no_concat_resampled = attack_free_df_no_concat.resample('min',on='datetime').agg(lambda x: x.mode()[0])"
   ]
  },
  {
   "cell_type": "markdown",
   "metadata": {},
   "source": [
    "####  Datetime-UpdatedCanId"
   ]
  },
  {
   "cell_type": "code",
   "execution_count": 238,
   "metadata": {},
   "outputs": [],
   "source": [
    "# plot_line_graph(dos_df_resampled,\"datetime\",\"updatedCanId\")"
   ]
  },
  {
   "cell_type": "markdown",
   "metadata": {},
   "source": [
    "- there is only 0 value while dos attack happens"
   ]
  },
  {
   "cell_type": "code",
   "execution_count": 266,
   "metadata": {},
   "outputs": [],
   "source": [
    "# plot_line_graph(fuzzy_df_resampled,\"datetime\",\"updatedCanId\")"
   ]
  },
  {
   "cell_type": "markdown",
   "metadata": {},
   "source": [
    "- can id values are random"
   ]
  },
  {
   "cell_type": "code",
   "execution_count": 240,
   "metadata": {},
   "outputs": [],
   "source": [
    "# plot_line_graph(attack_free_no_concat_resampled,\"datetime\",\"updatedCanId\")"
   ]
  },
  {
   "cell_type": "code",
   "execution_count": 232,
   "metadata": {},
   "outputs": [
    {
     "data": {
      "text/plain": [
       "Index(['updatedCanId', 'datetime', 'dlc', 'updatedByte0', 'updatedByte1',\n",
       "       'updatedByte2', 'updatedByte3', 'updatedByte4', 'updatedByte5',\n",
       "       'updatedByte6', 'updatedByte7', 'updatedFlag', 'attackType'],\n",
       "      dtype='object')"
      ]
     },
     "execution_count": 232,
     "metadata": {},
     "output_type": "execute_result"
    }
   ],
   "source": [
    "dos_df.columns"
   ]
  },
  {
   "cell_type": "markdown",
   "metadata": {},
   "source": [
    "#### Datetime-DLC"
   ]
  },
  {
   "cell_type": "code",
   "execution_count": 241,
   "metadata": {},
   "outputs": [],
   "source": [
    "# plot_line_graph(dos_df_resampled,\"datetime\",\"dlc\")"
   ]
  },
  {
   "cell_type": "code",
   "execution_count": 242,
   "metadata": {},
   "outputs": [],
   "source": [
    "# plot_line_graph(fuzzy_df_resampled,\"datetime\",\"dlc\")"
   ]
  },
  {
   "cell_type": "code",
   "execution_count": 250,
   "metadata": {},
   "outputs": [],
   "source": [
    "# plot_line_graph(attack_free_no_concat_resampled,\"datetime\",\"dlc\")"
   ]
  },
  {
   "cell_type": "markdown",
   "metadata": {},
   "source": [
    "- dos and fuzzy have only 8 as dlc value, whereas attack-free has some other values but neverthless 8 is most used."
   ]
  },
  {
   "cell_type": "markdown",
   "metadata": {},
   "source": [
    "#### Datetime-UpdatedBytes"
   ]
  },
  {
   "cell_type": "code",
   "execution_count": 260,
   "metadata": {},
   "outputs": [
    {
     "data": {
      "image/png": "[encoded data removed]",
      "text/plain": [
       "<Figure size 1200x600 with 1 Axes>"
      ]
     },
     "metadata": {},
     "output_type": "display_data"
    }
   ],
   "source": [
    "plot_line_graph(fuzzy_df_resampled,\"datetime\",\"updatedByte0\")"
   ]
  }
 ],
 "metadata": {
  "kernelspec": {
   "display_name": "naz-ids-dev",
   "language": "python",
   "name": "python3"
  },
  "language_info": {
   "codemirror_mode": {
    "name": "ipython",
    "version": 3
   },
   "file_extension": ".py",
   "mimetype": "text/x-python",
   "name": "python",
   "nbconvert_exporter": "python",
   "pygments_lexer": "ipython3",
   "version": "3.11.5"
  }
 },
 "nbformat": 4,
 "nbformat_minor": 2
}
