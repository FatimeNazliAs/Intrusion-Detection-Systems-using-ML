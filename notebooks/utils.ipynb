{
 "cells": [
  {
   "cell_type": "code",
   "execution_count": 1,
   "metadata": {},
   "outputs": [],
   "source": [
    "from omegaconf import OmegaConf\n",
    "import os\n",
    "import polars as pl\n",
    "import pandas as pd"
   ]
  },
  {
   "cell_type": "code",
   "execution_count": 2,
   "metadata": {},
   "outputs": [],
   "source": [
    "def load_data_paths(path_name):\n",
    "    notebooks_dir = os.getcwd()\n",
    "    base_dir = os.path.abspath(os.path.join(notebooks_dir, \"..\"))\n",
    "    config_path = os.path.join(base_dir, \"config.yaml\")\n",
    "    config = OmegaConf.load(config_path)\n",
    "    paths = config[path_name]\n",
    "    dos_df_path = os.path.join(base_dir,paths.dos_df).replace(\"\\\\\", \"/\")\n",
    "    fuzzy_df_path = os.path.join(base_dir, paths.fuzzy_df).replace(\"\\\\\", \"/\")\n",
    "    attack_free_df_path = os.path.join(base_dir, paths.attack_free_df).replace(\"\\\\\", \"/\")\n",
    "    return dos_df_path,fuzzy_df_path,attack_free_df_path"
   ]
  },
  {
   "cell_type": "code",
   "execution_count": 3,
   "metadata": {},
   "outputs": [],
   "source": [
    "def load_datasets_using_pl():\n",
    "    dos_df_path,fuzzy_df_path,attack_free_df_path=load_data_paths(\"out_paths\")\n",
    "    dos_df = pl.read_csv(dos_df_path)\n",
    "    fuzzy_df = pl.read_csv(fuzzy_df_path)\n",
    "    attack_free_df = pl.read_csv(attack_free_df_path)\n",
    "    return dos_df, fuzzy_df, attack_free_df"
   ]
  },
  {
   "cell_type": "code",
   "execution_count": 4,
   "metadata": {},
   "outputs": [],
   "source": [
    "def load_datasets_using_pd():\n",
    "    dos_df_path,fuzzy_df_path,attack_free_df_path=load_data_paths(\"out_paths\")\n",
    "    dos_df = pd.read_csv(dos_df_path)\n",
    "    fuzzy_df = pd.read_csv(fuzzy_df_path)\n",
    "    attack_free_df = pd.read_csv(attack_free_df_path)\n",
    "    return dos_df, fuzzy_df, attack_free_df"
   ]
  },
  {
   "cell_type": "code",
   "execution_count": null,
   "metadata": {},
   "outputs": [],
   "source": []
  }
 ],
 "metadata": {
  "kernelspec": {
   "display_name": "naz-ids-dev",
   "language": "python",
   "name": "python3"
  },
  "language_info": {
   "codemirror_mode": {
    "name": "ipython",
    "version": 3
   },
   "file_extension": ".py",
   "mimetype": "text/x-python",
   "name": "python",
   "nbconvert_exporter": "python",
   "pygments_lexer": "ipython3",
   "version": "3.11.5"
  }
 },
 "nbformat": 4,
 "nbformat_minor": 2
}
