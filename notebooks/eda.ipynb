{
 "cells": [
  {
   "cell_type": "code",
   "execution_count": 2,
   "metadata": {},
   "outputs": [],
   "source": [
    "import pandas as pd\n",
    "%run utils.ipynb"
   ]
  },
  {
   "cell_type": "code",
   "execution_count": 3,
   "metadata": {},
   "outputs": [],
   "source": [
    "# data_paths = load_data_paths(\"out_paths\")\n",
    "\n",
    "# dos_df_path = data_paths[\"dos_df\"]\n",
    "# fuzzy_df_path = data_paths[\"fuzzy_df\"]\n",
    "# attack_free_df_path = data_paths[\"attack_free_df\"]\n",
    "\n",
    "# dos_df = pd.read_csv(dos_df_path)\n",
    "# fuzzy_df = pd.read_csv(fuzzy_df_path)\n",
    "# attack_free_df = pd.read_csv(attack_free_df_path)\n",
    "dos_df,fuzzy_df,attack_free_df=load_data(\"out_paths\",lib=\"pd\")\n"
   ]
  },
  {
   "cell_type": "markdown",
   "metadata": {},
   "source": [
    "# Exploratory Data Analysis"
   ]
  },
  {
   "cell_type": "markdown",
   "metadata": {},
   "source": [
    "## Common Methods"
   ]
  },
  {
   "cell_type": "code",
   "execution_count": 4,
   "metadata": {},
   "outputs": [],
   "source": [
    "bytes_col_list=[col for col in dos_df.columns if col.startswith(\"byte\")]"
   ]
  },
  {
   "cell_type": "code",
   "execution_count": 5,
   "metadata": {},
   "outputs": [],
   "source": [
    "def show_shape_info_of_data(data):\n",
    "    print(\"Data Shape\")\n",
    "    print(\"*\" * 40)\n",
    "    print(f\"Rows: {data.shape[0]}, Columns: {data.shape[1]}\")\n",
    "    print(\"\\nInfo\")\n",
    "    print(\"*\" * 40)\n",
    "    info_dict={\n",
    "        \"Column\": data.columns,\n",
    "        \"Data Type\": data.dtypes,\n",
    "        \"Null Count\": data.isnull().sum(),\n",
    "        \"Unique Count\":data.nunique()}\n",
    "    info_df = pd.DataFrame(info_dict)\n",
    "    print(info_df.to_string(index=False))\n"
   ]
  },
  {
   "cell_type": "code",
   "execution_count": 6,
   "metadata": {},
   "outputs": [],
   "source": [
    "def concatenate_columns(cols, new_column_name,data):\n",
    "    \"\"\"\n",
    "    Merges multiple columns into a single column by concatenating their values.\n",
    "\n",
    "    Parameters\n",
    "    ----------\n",
    "    cols : list[str]\n",
    "        List of column names to be merged.\n",
    "    new_column_name : str\n",
    "        Name of the new column that will store the merged values.\n",
    "    data : pd.DataFrame\n",
    "        The DataFrame containing the columns to be merged.\n",
    "\n",
    "    Returns\n",
    "    -------\n",
    "    pd.DataFrame\n",
    "        Updated DataFrame with the new merged column.\n",
    "    \"\"\"\n",
    "    data[new_column_name] = \"\"\n",
    "    for col in cols:\n",
    "        data[new_column_name] += data[col]\n",
    "    return data\n"
   ]
  },
  {
   "cell_type": "code",
   "execution_count": 7,
   "metadata": {},
   "outputs": [],
   "source": [
    "def convert_timestamp_to_datetime(col_to_be_added_name,existing_col_name, data):\n",
    "    \"\"\"\n",
    "    Convert timestamp column to a datetime column .\n",
    "\n",
    "    Parameters\n",
    "    ----------\n",
    "    col_to_be_added_name : str\n",
    "        Name of the new column to store the converted datetime values.\n",
    "    existing_col_name : _type_\n",
    "        Name of existing column containing timestamps in seconds\n",
    "    data : pd.DataFrame\n",
    "        DataFrame containing the existing column.\n",
    "\n",
    "    Returns\n",
    "    -------\n",
    "    pd.DataFrame\n",
    "        DataFrame with the new datetime column added\n",
    "    \"\"\"\n",
    "\n",
    "    data[col_to_be_added_name] = pd.to_datetime(data[existing_col_name], unit='s')\n",
    "    return data"
   ]
  },
  {
   "cell_type": "code",
   "execution_count": 8,
   "metadata": {},
   "outputs": [],
   "source": [
    "def extract_datetime_components(existing_col_name,data):\n",
    "    \"\"\"\n",
    "    Extracts year, month, day, and hour from a datetime column and adds them as new columns.\n",
    "\n",
    "    Parameters\n",
    "    ----------\n",
    "    existing_col_name : str\n",
    "        The name of the column containing datetime values.\n",
    "    data : pd.DataFrame\n",
    "        The DataFrame containing the datetime column.\n",
    "\n",
    "    Returns\n",
    "    -------\n",
    "    pd.DataFrame\n",
    "        DataFrame with added columns: 'year', 'month', 'day', and 'hour'.\n",
    "    \"\"\"\n",
    "    data['year'] = data[existing_col_name].dt.year\n",
    "    data['month'] = data[existing_col_name].dt.month\n",
    "    data['day'] = data[existing_col_name].dt.day\n",
    "    data['hour']=data[existing_col_name].dt.hour\n",
    "\n",
    "    return data\n"
   ]
  },
  {
   "cell_type": "code",
   "execution_count": 9,
   "metadata": {},
   "outputs": [],
   "source": [
    "def print_start_end_timestamps(data,column_name):\n",
    "    \"\"\"\n",
    "    Prints the start and end timestamps from a specified column in a DataFrame.\n",
    "\n",
    "    Parameters\n",
    "    ----------\n",
    "    data : pd.DataFrame\n",
    "        The DataFrame containing the timestamp column.\n",
    "    column_name : str\n",
    "        The name of the column containing timestamp values.\n",
    "\n",
    "    Returns\n",
    "    -------\n",
    "    None\n",
    "        This function prints the start and end timestamps but does not return anything.\n",
    "    \"\"\"\n",
    "    print(\"Start Time: \",data[column_name].iloc[0])\n",
    "    print(\"End Time: \",data[column_name].iloc[-1])"
   ]
  },
  {
   "cell_type": "code",
   "execution_count": 10,
   "metadata": {},
   "outputs": [],
   "source": [
    "def convert_hex_to_int(value):\n",
    "    \"\"\"\n",
    "    Converts a hexadecimal string to an integer. If the value is already an integer, it is returned as is.\n",
    "\n",
    "    Parameters\n",
    "    ----------\n",
    "    value : str | int\n",
    "        The value to convert. If a string, it should represent a valid hexadecimal number.\n",
    "\n",
    "    Returns\n",
    "    -------\n",
    "    int\n",
    "        The converted integer value.\n",
    "\n",
    "    Raises\n",
    "    ------\n",
    "    ValueError\n",
    "        If the string is not a valid hexadecimal number.\n",
    "    \"\"\"\n",
    "    if isinstance(value, str):\n",
    "        try:\n",
    "            return int(value,16)\n",
    "        except ValueError:\n",
    "            raise ValueError(f\"Invalid hexadecimal value: {value}\")\n",
    "    return value  "
   ]
  },
  {
   "cell_type": "code",
   "execution_count": 11,
   "metadata": {},
   "outputs": [],
   "source": [
    "def convert_hex_bytes_to_int(data,bytes_col_list):\n",
    "    \"\"\"\n",
    "    Convert hexadecimal byte values in specified columns to integers.\n",
    "\n",
    "    Parameters\n",
    "    ----------\n",
    "    data : pandas.DataFrame\n",
    "        The DataFrame containing the columns to convert.\n",
    "    bytes_col_list : list\n",
    "        A list of column names containing hexadecimal values as strings.\n",
    "\n",
    "    Returns\n",
    "    -------\n",
    "    pandas.DataFrame\n",
    "        The modified DataFrame with specified columns converted to integers.\n",
    "    \"\"\"\n",
    "    for col in bytes_col_list:\n",
    "        if col in data.columns:\n",
    "            data[col] = data[col].apply(convert_hex_to_int)\n",
    "    return data\n",
    "    "
   ]
  },
  {
   "cell_type": "code",
   "execution_count": 12,
   "metadata": {},
   "outputs": [],
   "source": [
    "def print_unique_datetime_components (data):\n",
    "    \"\"\"\n",
    "    Prints the unique values of the 'day', 'month', 'year', and 'hour' columns in a DataFrame.\n",
    "\n",
    "    Parameters\n",
    "    ----------\n",
    "    data : pd.DataFrame\n",
    "        The DataFrame containing 'day', 'month', 'year', and 'hour' columns.\n",
    "\n",
    "    Returns\n",
    "    -------\n",
    "    None\n",
    "        This function prints unique values but does not return anything.\n",
    "    \"\"\"\n",
    "    for col in ['day','month','year','hour']:\n",
    "        print(col,data[col].unique())"
   ]
  },
  {
   "cell_type": "markdown",
   "metadata": {},
   "source": [
    "## DoS"
   ]
  },
  {
   "cell_type": "code",
   "execution_count": 13,
   "metadata": {},
   "outputs": [
    {
     "name": "stdout",
     "output_type": "stream",
     "text": [
      "Data Shape\n",
      "****************************************\n",
      "Rows: 3665770, Columns: 12\n",
      "\n",
      "Info\n",
      "****************************************\n",
      "      Column Data Type  Null Count  Unique Count\n",
      "   timestamp   float64           0       3665770\n",
      "      can_id    object           0            27\n",
      "         dlc     int64           0             2\n",
      "      byte_0    object           0           108\n",
      "      byte_1    object           0            71\n",
      "      byte_2    object       31188            75\n",
      "      byte_3    object       31188            26\n",
      "      byte_4    object       31188           190\n",
      "      byte_5    object       31188           256\n",
      "      byte_6    object       31188            75\n",
      "      byte_7    object       31188           256\n",
      "updated_flag    object           0             2\n"
     ]
    }
   ],
   "source": [
    "show_shape_info_of_data(dos_df)"
   ]
  },
  {
   "cell_type": "code",
   "execution_count": 14,
   "metadata": {},
   "outputs": [
    {
     "data": {
      "text/html": [
       "<div>\n",
       "<style scoped>\n",
       "    .dataframe tbody tr th:only-of-type {\n",
       "        vertical-align: middle;\n",
       "    }\n",
       "\n",
       "    .dataframe tbody tr th {\n",
       "        vertical-align: top;\n",
       "    }\n",
       "\n",
       "    .dataframe thead th {\n",
       "        text-align: right;\n",
       "    }\n",
       "</style>\n",
       "<table border=\"1\" class=\"dataframe\">\n",
       "  <thead>\n",
       "    <tr style=\"text-align: right;\">\n",
       "      <th></th>\n",
       "      <th>timestamp</th>\n",
       "      <th>can_id</th>\n",
       "      <th>dlc</th>\n",
       "      <th>byte_0</th>\n",
       "      <th>byte_1</th>\n",
       "      <th>byte_2</th>\n",
       "      <th>byte_3</th>\n",
       "      <th>byte_4</th>\n",
       "      <th>byte_5</th>\n",
       "      <th>byte_6</th>\n",
       "      <th>byte_7</th>\n",
       "      <th>updated_flag</th>\n",
       "    </tr>\n",
       "  </thead>\n",
       "  <tbody>\n",
       "    <tr>\n",
       "      <th>0</th>\n",
       "      <td>1.478198e+09</td>\n",
       "      <td>018f</td>\n",
       "      <td>8</td>\n",
       "      <td>fe</td>\n",
       "      <td>5b</td>\n",
       "      <td>00</td>\n",
       "      <td>00</td>\n",
       "      <td>00</td>\n",
       "      <td>3c</td>\n",
       "      <td>00</td>\n",
       "      <td>00</td>\n",
       "      <td>R</td>\n",
       "    </tr>\n",
       "    <tr>\n",
       "      <th>1</th>\n",
       "      <td>1.478198e+09</td>\n",
       "      <td>0260</td>\n",
       "      <td>8</td>\n",
       "      <td>19</td>\n",
       "      <td>21</td>\n",
       "      <td>22</td>\n",
       "      <td>30</td>\n",
       "      <td>08</td>\n",
       "      <td>8e</td>\n",
       "      <td>6d</td>\n",
       "      <td>3a</td>\n",
       "      <td>R</td>\n",
       "    </tr>\n",
       "    <tr>\n",
       "      <th>2</th>\n",
       "      <td>1.478198e+09</td>\n",
       "      <td>02a0</td>\n",
       "      <td>8</td>\n",
       "      <td>64</td>\n",
       "      <td>00</td>\n",
       "      <td>9a</td>\n",
       "      <td>1d</td>\n",
       "      <td>97</td>\n",
       "      <td>02</td>\n",
       "      <td>bd</td>\n",
       "      <td>00</td>\n",
       "      <td>R</td>\n",
       "    </tr>\n",
       "    <tr>\n",
       "      <th>3</th>\n",
       "      <td>1.478198e+09</td>\n",
       "      <td>0329</td>\n",
       "      <td>8</td>\n",
       "      <td>40</td>\n",
       "      <td>bb</td>\n",
       "      <td>7f</td>\n",
       "      <td>14</td>\n",
       "      <td>11</td>\n",
       "      <td>20</td>\n",
       "      <td>00</td>\n",
       "      <td>14</td>\n",
       "      <td>R</td>\n",
       "    </tr>\n",
       "    <tr>\n",
       "      <th>4</th>\n",
       "      <td>1.478198e+09</td>\n",
       "      <td>0545</td>\n",
       "      <td>8</td>\n",
       "      <td>d8</td>\n",
       "      <td>00</td>\n",
       "      <td>00</td>\n",
       "      <td>8a</td>\n",
       "      <td>00</td>\n",
       "      <td>00</td>\n",
       "      <td>00</td>\n",
       "      <td>00</td>\n",
       "      <td>R</td>\n",
       "    </tr>\n",
       "  </tbody>\n",
       "</table>\n",
       "</div>"
      ],
      "text/plain": [
       "      timestamp can_id  dlc byte_0 byte_1 byte_2 byte_3 byte_4 byte_5 byte_6  \\\n",
       "0  1.478198e+09   018f    8     fe     5b     00     00     00     3c     00   \n",
       "1  1.478198e+09   0260    8     19     21     22     30     08     8e     6d   \n",
       "2  1.478198e+09   02a0    8     64     00     9a     1d     97     02     bd   \n",
       "3  1.478198e+09   0329    8     40     bb     7f     14     11     20     00   \n",
       "4  1.478198e+09   0545    8     d8     00     00     8a     00     00     00   \n",
       "\n",
       "  byte_7 updated_flag  \n",
       "0     00            R  \n",
       "1     3a            R  \n",
       "2     00            R  \n",
       "3     14            R  \n",
       "4     00            R  "
      ]
     },
     "execution_count": 14,
     "metadata": {},
     "output_type": "execute_result"
    }
   ],
   "source": [
    "dos_df.head()"
   ]
  },
  {
   "cell_type": "code",
   "execution_count": 15,
   "metadata": {},
   "outputs": [],
   "source": [
    "dos_df=convert_timestamp_to_datetime(\"datetime\",\"timestamp\", dos_df)\n"
   ]
  },
  {
   "cell_type": "code",
   "execution_count": 16,
   "metadata": {},
   "outputs": [
    {
     "name": "stdout",
     "output_type": "stream",
     "text": [
      "Start Time:  2016-11-03 18:39:36.389636040\n",
      "End Time:  2016-11-03 19:26:49.058943987\n"
     ]
    }
   ],
   "source": [
    "print_start_end_timestamps(dos_df,\"datetime\")\n"
   ]
  },
  {
   "cell_type": "code",
   "execution_count": 17,
   "metadata": {},
   "outputs": [],
   "source": [
    "dos_df=extract_datetime_components(\"datetime\",dos_df)"
   ]
  },
  {
   "cell_type": "code",
   "execution_count": 18,
   "metadata": {},
   "outputs": [
    {
     "name": "stdout",
     "output_type": "stream",
     "text": [
      "day [3]\n",
      "month [11]\n",
      "year [2016]\n",
      "hour [18 19]\n"
     ]
    }
   ],
   "source": [
    "print_unique_datetime_components (dos_df)"
   ]
  },
  {
   "cell_type": "code",
   "execution_count": 19,
   "metadata": {},
   "outputs": [],
   "source": [
    "col=\"can_id\"\n",
    "dos_df[\"updated_can_id\"] = dos_df[col].apply(convert_hex_to_int)"
   ]
  },
  {
   "cell_type": "code",
   "execution_count": 20,
   "metadata": {},
   "outputs": [],
   "source": [
    "# dos_df[\"updated_can_id\"].value_counts()"
   ]
  },
  {
   "cell_type": "code",
   "execution_count": 21,
   "metadata": {},
   "outputs": [
    {
     "data": {
      "text/plain": [
       "dlc\n",
       "8    3634582\n",
       "2      31188\n",
       "Name: count, dtype: int64"
      ]
     },
     "execution_count": 21,
     "metadata": {},
     "output_type": "execute_result"
    }
   ],
   "source": [
    "col=\"dlc\"\n",
    "dos_df[col].value_counts()"
   ]
  },
  {
   "cell_type": "code",
   "execution_count": 22,
   "metadata": {},
   "outputs": [
    {
     "data": {
      "text/plain": [
       "66913"
      ]
     },
     "execution_count": 22,
     "metadata": {},
     "output_type": "execute_result"
    }
   ],
   "source": [
    "dos_df=concatenate_columns(bytes_col_list,\"merged_bytes\",dos_df)\n",
    "col=\"merged_bytes\"\n",
    "dos_df[col].nunique()"
   ]
  },
  {
   "cell_type": "code",
   "execution_count": 23,
   "metadata": {},
   "outputs": [
    {
     "data": {
      "text/html": [
       "<div>\n",
       "<style scoped>\n",
       "    .dataframe tbody tr th:only-of-type {\n",
       "        vertical-align: middle;\n",
       "    }\n",
       "\n",
       "    .dataframe tbody tr th {\n",
       "        vertical-align: top;\n",
       "    }\n",
       "\n",
       "    .dataframe thead th {\n",
       "        text-align: right;\n",
       "    }\n",
       "</style>\n",
       "<table border=\"1\" class=\"dataframe\">\n",
       "  <thead>\n",
       "    <tr style=\"text-align: right;\">\n",
       "      <th></th>\n",
       "      <th>byte_0</th>\n",
       "      <th>byte_1</th>\n",
       "      <th>byte_2</th>\n",
       "      <th>byte_3</th>\n",
       "      <th>byte_4</th>\n",
       "      <th>byte_5</th>\n",
       "      <th>byte_6</th>\n",
       "      <th>byte_7</th>\n",
       "    </tr>\n",
       "  </thead>\n",
       "  <tbody>\n",
       "    <tr>\n",
       "      <th>0</th>\n",
       "      <td>fe</td>\n",
       "      <td>5b</td>\n",
       "      <td>00</td>\n",
       "      <td>00</td>\n",
       "      <td>00</td>\n",
       "      <td>3c</td>\n",
       "      <td>00</td>\n",
       "      <td>00</td>\n",
       "    </tr>\n",
       "    <tr>\n",
       "      <th>1</th>\n",
       "      <td>19</td>\n",
       "      <td>21</td>\n",
       "      <td>22</td>\n",
       "      <td>30</td>\n",
       "      <td>08</td>\n",
       "      <td>8e</td>\n",
       "      <td>6d</td>\n",
       "      <td>3a</td>\n",
       "    </tr>\n",
       "    <tr>\n",
       "      <th>2</th>\n",
       "      <td>64</td>\n",
       "      <td>00</td>\n",
       "      <td>9a</td>\n",
       "      <td>1d</td>\n",
       "      <td>97</td>\n",
       "      <td>02</td>\n",
       "      <td>bd</td>\n",
       "      <td>00</td>\n",
       "    </tr>\n",
       "    <tr>\n",
       "      <th>3</th>\n",
       "      <td>40</td>\n",
       "      <td>bb</td>\n",
       "      <td>7f</td>\n",
       "      <td>14</td>\n",
       "      <td>11</td>\n",
       "      <td>20</td>\n",
       "      <td>00</td>\n",
       "      <td>14</td>\n",
       "    </tr>\n",
       "    <tr>\n",
       "      <th>4</th>\n",
       "      <td>d8</td>\n",
       "      <td>00</td>\n",
       "      <td>00</td>\n",
       "      <td>8a</td>\n",
       "      <td>00</td>\n",
       "      <td>00</td>\n",
       "      <td>00</td>\n",
       "      <td>00</td>\n",
       "    </tr>\n",
       "  </tbody>\n",
       "</table>\n",
       "</div>"
      ],
      "text/plain": [
       "  byte_0 byte_1 byte_2 byte_3 byte_4 byte_5 byte_6 byte_7\n",
       "0     fe     5b     00     00     00     3c     00     00\n",
       "1     19     21     22     30     08     8e     6d     3a\n",
       "2     64     00     9a     1d     97     02     bd     00\n",
       "3     40     bb     7f     14     11     20     00     14\n",
       "4     d8     00     00     8a     00     00     00     00"
      ]
     },
     "execution_count": 23,
     "metadata": {},
     "output_type": "execute_result"
    }
   ],
   "source": [
    "dos_df[bytes_col_list].head()"
   ]
  },
  {
   "cell_type": "code",
   "execution_count": 24,
   "metadata": {},
   "outputs": [],
   "source": [
    "dos_df=convert_hex_bytes_to_int(dos_df,bytes_col_list)"
   ]
  },
  {
   "cell_type": "code",
   "execution_count": 25,
   "metadata": {},
   "outputs": [
    {
     "data": {
      "text/html": [
       "<div>\n",
       "<style scoped>\n",
       "    .dataframe tbody tr th:only-of-type {\n",
       "        vertical-align: middle;\n",
       "    }\n",
       "\n",
       "    .dataframe tbody tr th {\n",
       "        vertical-align: top;\n",
       "    }\n",
       "\n",
       "    .dataframe thead th {\n",
       "        text-align: right;\n",
       "    }\n",
       "</style>\n",
       "<table border=\"1\" class=\"dataframe\">\n",
       "  <thead>\n",
       "    <tr style=\"text-align: right;\">\n",
       "      <th></th>\n",
       "      <th>byte_0</th>\n",
       "      <th>byte_1</th>\n",
       "      <th>byte_2</th>\n",
       "      <th>byte_3</th>\n",
       "      <th>byte_4</th>\n",
       "      <th>byte_5</th>\n",
       "      <th>byte_6</th>\n",
       "      <th>byte_7</th>\n",
       "    </tr>\n",
       "  </thead>\n",
       "  <tbody>\n",
       "    <tr>\n",
       "      <th>0</th>\n",
       "      <td>254</td>\n",
       "      <td>91</td>\n",
       "      <td>0.0</td>\n",
       "      <td>0.0</td>\n",
       "      <td>0.0</td>\n",
       "      <td>60.0</td>\n",
       "      <td>0.0</td>\n",
       "      <td>0.0</td>\n",
       "    </tr>\n",
       "    <tr>\n",
       "      <th>1</th>\n",
       "      <td>25</td>\n",
       "      <td>33</td>\n",
       "      <td>34.0</td>\n",
       "      <td>48.0</td>\n",
       "      <td>8.0</td>\n",
       "      <td>142.0</td>\n",
       "      <td>109.0</td>\n",
       "      <td>58.0</td>\n",
       "    </tr>\n",
       "    <tr>\n",
       "      <th>2</th>\n",
       "      <td>100</td>\n",
       "      <td>0</td>\n",
       "      <td>154.0</td>\n",
       "      <td>29.0</td>\n",
       "      <td>151.0</td>\n",
       "      <td>2.0</td>\n",
       "      <td>189.0</td>\n",
       "      <td>0.0</td>\n",
       "    </tr>\n",
       "    <tr>\n",
       "      <th>3</th>\n",
       "      <td>64</td>\n",
       "      <td>187</td>\n",
       "      <td>127.0</td>\n",
       "      <td>20.0</td>\n",
       "      <td>17.0</td>\n",
       "      <td>32.0</td>\n",
       "      <td>0.0</td>\n",
       "      <td>20.0</td>\n",
       "    </tr>\n",
       "    <tr>\n",
       "      <th>4</th>\n",
       "      <td>216</td>\n",
       "      <td>0</td>\n",
       "      <td>0.0</td>\n",
       "      <td>138.0</td>\n",
       "      <td>0.0</td>\n",
       "      <td>0.0</td>\n",
       "      <td>0.0</td>\n",
       "      <td>0.0</td>\n",
       "    </tr>\n",
       "  </tbody>\n",
       "</table>\n",
       "</div>"
      ],
      "text/plain": [
       "   byte_0  byte_1  byte_2  byte_3  byte_4  byte_5  byte_6  byte_7\n",
       "0     254      91     0.0     0.0     0.0    60.0     0.0     0.0\n",
       "1      25      33    34.0    48.0     8.0   142.0   109.0    58.0\n",
       "2     100       0   154.0    29.0   151.0     2.0   189.0     0.0\n",
       "3      64     187   127.0    20.0    17.0    32.0     0.0    20.0\n",
       "4     216       0     0.0   138.0     0.0     0.0     0.0     0.0"
      ]
     },
     "execution_count": 25,
     "metadata": {},
     "output_type": "execute_result"
    }
   ],
   "source": [
    "dos_df[bytes_col_list].head()"
   ]
  },
  {
   "cell_type": "code",
   "execution_count": 26,
   "metadata": {},
   "outputs": [
    {
     "data": {
      "text/plain": [
       "updated_flag\n",
       "R    3078249\n",
       "T     587521\n",
       "Name: count, dtype: int64"
      ]
     },
     "execution_count": 26,
     "metadata": {},
     "output_type": "execute_result"
    }
   ],
   "source": [
    "#T or R, T represents injected message while R represents normal message\n",
    "col=\"updated_flag\"\n",
    "dos_df[col].value_counts()"
   ]
  },
  {
   "cell_type": "markdown",
   "metadata": {},
   "source": [
    "### Insights about DoS Attack"
   ]
  },
  {
   "attachments": {
    "image.png": {
     "image/png": "[encoded data removed]"
    }
   },
   "cell_type": "markdown",
   "metadata": {},
   "source": [
    "![image.png](attachment:image.png)"
   ]
  },
  {
   "cell_type": "markdown",
   "metadata": {},
   "source": [
    "## Fuzzy"
   ]
  },
  {
   "cell_type": "code",
   "execution_count": 27,
   "metadata": {},
   "outputs": [
    {
     "name": "stdout",
     "output_type": "stream",
     "text": [
      "Data Shape\n",
      "****************************************\n",
      "Rows: 3838859, Columns: 12\n",
      "\n",
      "Info\n",
      "****************************************\n",
      "      Column Data Type  Null Count  Unique Count\n",
      "   timestamp   float64           0       3838859\n",
      "      can_id    object           0          2048\n",
      "         dlc     int64           0             4\n",
      "      byte_0    object           0           256\n",
      "      byte_1    object           0           256\n",
      "      byte_2    object       34382           256\n",
      "      byte_3    object       34382           256\n",
      "      byte_4    object       34382           256\n",
      "      byte_5    object       87833           256\n",
      "      byte_6    object       87836           256\n",
      "      byte_7    object       87836           256\n",
      "updated_flag    object           0             2\n"
     ]
    }
   ],
   "source": [
    "show_shape_info_of_data(fuzzy_df)"
   ]
  },
  {
   "cell_type": "code",
   "execution_count": 28,
   "metadata": {},
   "outputs": [],
   "source": [
    "fuzzy_df=convert_timestamp_to_datetime(\"datetime\",\"timestamp\", fuzzy_df)\n"
   ]
  },
  {
   "cell_type": "code",
   "execution_count": 29,
   "metadata": {},
   "outputs": [
    {
     "name": "stdout",
     "output_type": "stream",
     "text": [
      "Start Time:  2016-11-03 17:55:21.905735970\n",
      "End Time:  2016-11-03 19:26:49.058943987\n"
     ]
    }
   ],
   "source": [
    "print_start_end_timestamps(fuzzy_df,\"datetime\")"
   ]
  },
  {
   "cell_type": "code",
   "execution_count": 30,
   "metadata": {},
   "outputs": [],
   "source": [
    "fuzzy_df=extract_datetime_components(\"datetime\",fuzzy_df)"
   ]
  },
  {
   "cell_type": "code",
   "execution_count": 31,
   "metadata": {},
   "outputs": [
    {
     "name": "stdout",
     "output_type": "stream",
     "text": [
      "day [3]\n",
      "month [11]\n",
      "year [2016]\n",
      "hour [17 18 19]\n"
     ]
    }
   ],
   "source": [
    "print_unique_datetime_components (fuzzy_df)"
   ]
  },
  {
   "cell_type": "code",
   "execution_count": 32,
   "metadata": {},
   "outputs": [],
   "source": [
    "col=\"can_id\"\n",
    "fuzzy_df[\"updated_can_id\"] = fuzzy_df[col].apply(convert_hex_to_int)"
   ]
  },
  {
   "cell_type": "code",
   "execution_count": 33,
   "metadata": {},
   "outputs": [
    {
     "data": {
      "text/plain": [
       "updated_can_id\n",
       "790     182121\n",
       "2       180011\n",
       "399     179802\n",
       "704     179637\n",
       "1087    179538\n",
       "848     178687\n",
       "339     178188\n",
       "304     178149\n",
       "608     178049\n",
       "880     177691\n",
       "672     177174\n",
       "305     176116\n",
       "809     175761\n",
       "1088    175479\n",
       "320     175211\n",
       "1349    173707\n",
       "1072     92917\n",
       "1201     90109\n",
       "497      89766\n",
       "1264     88946\n",
       "688      53477\n",
       "1520     34617\n",
       "160      18266\n",
       "161      17930\n",
       "1680     17880\n",
       "1440      1988\n",
       "1442      1932\n",
       "1706       458\n",
       "1999       446\n",
       "802        294\n",
       "Name: count, dtype: int64"
      ]
     },
     "execution_count": 33,
     "metadata": {},
     "output_type": "execute_result"
    }
   ],
   "source": [
    "col=\"updated_can_id\"\n",
    "fuzzy_df[col].value_counts()[:30]"
   ]
  },
  {
   "cell_type": "code",
   "execution_count": 34,
   "metadata": {},
   "outputs": [
    {
     "data": {
      "text/plain": [
       "dlc\n",
       "8    3751023\n",
       "5      53451\n",
       "2      34382\n",
       "6          3\n",
       "Name: count, dtype: int64"
      ]
     },
     "execution_count": 34,
     "metadata": {},
     "output_type": "execute_result"
    }
   ],
   "source": [
    "col=\"dlc\"\n",
    "fuzzy_df[col].value_counts()"
   ]
  },
  {
   "cell_type": "code",
   "execution_count": 35,
   "metadata": {},
   "outputs": [],
   "source": [
    "fuzzy_df=concatenate_columns(bytes_col_list,\"merged_bytes\",fuzzy_df)"
   ]
  },
  {
   "cell_type": "code",
   "execution_count": 36,
   "metadata": {},
   "outputs": [
    {
     "data": {
      "text/plain": [
       "560012"
      ]
     },
     "execution_count": 36,
     "metadata": {},
     "output_type": "execute_result"
    }
   ],
   "source": [
    "col=\"merged_bytes\"\n",
    "fuzzy_df[col].nunique()"
   ]
  },
  {
   "cell_type": "code",
   "execution_count": 37,
   "metadata": {},
   "outputs": [],
   "source": [
    "fuzzy_df=convert_hex_bytes_to_int(fuzzy_df,bytes_col_list)"
   ]
  },
  {
   "cell_type": "code",
   "execution_count": 38,
   "metadata": {},
   "outputs": [
    {
     "data": {
      "text/html": [
       "<div>\n",
       "<style scoped>\n",
       "    .dataframe tbody tr th:only-of-type {\n",
       "        vertical-align: middle;\n",
       "    }\n",
       "\n",
       "    .dataframe tbody tr th {\n",
       "        vertical-align: top;\n",
       "    }\n",
       "\n",
       "    .dataframe thead th {\n",
       "        text-align: right;\n",
       "    }\n",
       "</style>\n",
       "<table border=\"1\" class=\"dataframe\">\n",
       "  <thead>\n",
       "    <tr style=\"text-align: right;\">\n",
       "      <th></th>\n",
       "      <th>byte_0</th>\n",
       "      <th>byte_1</th>\n",
       "      <th>byte_2</th>\n",
       "      <th>byte_3</th>\n",
       "      <th>byte_4</th>\n",
       "      <th>byte_5</th>\n",
       "      <th>byte_6</th>\n",
       "      <th>byte_7</th>\n",
       "    </tr>\n",
       "  </thead>\n",
       "  <tbody>\n",
       "    <tr>\n",
       "      <th>0</th>\n",
       "      <td>255</td>\n",
       "      <td>127</td>\n",
       "      <td>0.0</td>\n",
       "      <td>5.0</td>\n",
       "      <td>73.0</td>\n",
       "      <td>NaN</td>\n",
       "      <td>NaN</td>\n",
       "      <td>NaN</td>\n",
       "    </tr>\n",
       "    <tr>\n",
       "      <th>1</th>\n",
       "      <td>0</td>\n",
       "      <td>0</td>\n",
       "      <td>0.0</td>\n",
       "      <td>0.0</td>\n",
       "      <td>0.0</td>\n",
       "      <td>1.0</td>\n",
       "      <td>7.0</td>\n",
       "      <td>21.0</td>\n",
       "    </tr>\n",
       "    <tr>\n",
       "      <th>2</th>\n",
       "      <td>0</td>\n",
       "      <td>33</td>\n",
       "      <td>16.0</td>\n",
       "      <td>255.0</td>\n",
       "      <td>0.0</td>\n",
       "      <td>255.0</td>\n",
       "      <td>0.0</td>\n",
       "      <td>0.0</td>\n",
       "    </tr>\n",
       "    <tr>\n",
       "      <th>3</th>\n",
       "      <td>25</td>\n",
       "      <td>128</td>\n",
       "      <td>0.0</td>\n",
       "      <td>255.0</td>\n",
       "      <td>254.0</td>\n",
       "      <td>127.0</td>\n",
       "      <td>7.0</td>\n",
       "      <td>96.0</td>\n",
       "    </tr>\n",
       "    <tr>\n",
       "      <th>4</th>\n",
       "      <td>23</td>\n",
       "      <td>128</td>\n",
       "      <td>0.0</td>\n",
       "      <td>0.0</td>\n",
       "      <td>101.0</td>\n",
       "      <td>127.0</td>\n",
       "      <td>7.0</td>\n",
       "      <td>159.0</td>\n",
       "    </tr>\n",
       "  </tbody>\n",
       "</table>\n",
       "</div>"
      ],
      "text/plain": [
       "   byte_0  byte_1  byte_2  byte_3  byte_4  byte_5  byte_6  byte_7\n",
       "0     255     127     0.0     5.0    73.0     NaN     NaN     NaN\n",
       "1       0       0     0.0     0.0     0.0     1.0     7.0    21.0\n",
       "2       0      33    16.0   255.0     0.0   255.0     0.0     0.0\n",
       "3      25     128     0.0   255.0   254.0   127.0     7.0    96.0\n",
       "4      23     128     0.0     0.0   101.0   127.0     7.0   159.0"
      ]
     },
     "execution_count": 38,
     "metadata": {},
     "output_type": "execute_result"
    }
   ],
   "source": [
    "fuzzy_df[bytes_col_list].head()"
   ]
  },
  {
   "cell_type": "code",
   "execution_count": 39,
   "metadata": {},
   "outputs": [
    {
     "data": {
      "text/plain": [
       "updated_flag\n",
       "R    3347012\n",
       "T     491847\n",
       "Name: count, dtype: int64"
      ]
     },
     "execution_count": 39,
     "metadata": {},
     "output_type": "execute_result"
    }
   ],
   "source": [
    "fuzzy_df[\"updated_flag\"].value_counts()"
   ]
  },
  {
   "cell_type": "markdown",
   "metadata": {},
   "source": [
    "### Insights about Fuzzy Attack"
   ]
  },
  {
   "attachments": {
    "image.png": {
     "image/png": "[encoded data removed]"
    }
   },
   "cell_type": "markdown",
   "metadata": {},
   "source": [
    "![image.png](attachment:image.png)"
   ]
  },
  {
   "cell_type": "markdown",
   "metadata": {},
   "source": [
    "## Attack Free"
   ]
  },
  {
   "cell_type": "code",
   "execution_count": 40,
   "metadata": {},
   "outputs": [
    {
     "name": "stdout",
     "output_type": "stream",
     "text": [
      "Data Shape\n",
      "****************************************\n",
      "Rows: 988871, Columns: 12\n",
      "\n",
      "Info\n",
      "****************************************\n",
      "    Column Data Type  Null Count  Unique Count\n",
      " timestamp   float64           0        988871\n",
      "    can_id    object           0            27\n",
      "frame_type     int64           0             1\n",
      "       dlc     int64           0             3\n",
      "    byte_0    object           0           256\n",
      "    byte_1    object           0           256\n",
      "    byte_2    object       10129           256\n",
      "    byte_3    object       10129           256\n",
      "    byte_4    object       10129           256\n",
      "    byte_5    object       60735           256\n",
      "    byte_6    object       60735           227\n",
      "    byte_7    object       60735           256\n"
     ]
    }
   ],
   "source": [
    "show_shape_info_of_data(attack_free_df)"
   ]
  },
  {
   "cell_type": "code",
   "execution_count": 41,
   "metadata": {},
   "outputs": [],
   "source": [
    "col=\"timestamp\"\n",
    "attack_free_df=convert_timestamp_to_datetime(\"datetime\",\"timestamp\", attack_free_df)\n"
   ]
  },
  {
   "cell_type": "code",
   "execution_count": 42,
   "metadata": {},
   "outputs": [
    {
     "name": "stdout",
     "output_type": "stream",
     "text": [
      "Start Time:  2016-11-14 11:03:54.850202084\n",
      "End Time:  2016-11-14 11:12:21.286772966\n"
     ]
    }
   ],
   "source": [
    "print_start_end_timestamps(attack_free_df,\"datetime\")"
   ]
  },
  {
   "cell_type": "code",
   "execution_count": 43,
   "metadata": {},
   "outputs": [],
   "source": [
    "attack_free_df=extract_datetime_components(\"datetime\",attack_free_df)"
   ]
  },
  {
   "cell_type": "code",
   "execution_count": 44,
   "metadata": {},
   "outputs": [
    {
     "name": "stdout",
     "output_type": "stream",
     "text": [
      "day [14]\n",
      "month [11]\n",
      "year [2016]\n",
      "hour [11]\n"
     ]
    }
   ],
   "source": [
    "print_unique_datetime_components(attack_free_df)\n"
   ]
  },
  {
   "cell_type": "code",
   "execution_count": 45,
   "metadata": {},
   "outputs": [],
   "source": [
    "col=\"can_id\"\n",
    "attack_free_df[\"updated_can_id\"] = attack_free_df[col].apply(convert_hex_to_int)\n"
   ]
  },
  {
   "cell_type": "code",
   "execution_count": 46,
   "metadata": {},
   "outputs": [],
   "source": [
    "# attack_free_df[\"updated_can_id\"].value_counts()"
   ]
  },
  {
   "cell_type": "code",
   "execution_count": 47,
   "metadata": {},
   "outputs": [
    {
     "name": "stdout",
     "output_type": "stream",
     "text": [
      "only in dos {np.int64(0)}\n",
      "only in attack free {np.int64(688)}\n"
     ]
    }
   ],
   "source": [
    "attack_free_can_id_set=set(attack_free_df[\"updated_can_id\"].unique())\n",
    "dos_can_id_set=set(dos_df[\"updated_can_id\"].unique())\n",
    "\n",
    "print(\"only in dos\",dos_can_id_set-attack_free_can_id_set)\n",
    "print(\"only in attack free\",attack_free_can_id_set-dos_can_id_set)"
   ]
  },
  {
   "cell_type": "code",
   "execution_count": 48,
   "metadata": {},
   "outputs": [
    {
     "data": {
      "text/plain": [
       "array([0])"
      ]
     },
     "execution_count": 48,
     "metadata": {},
     "output_type": "execute_result"
    }
   ],
   "source": [
    "col=\"frame_type\"\n",
    "attack_free_df[col].unique()"
   ]
  },
  {
   "cell_type": "code",
   "execution_count": 49,
   "metadata": {},
   "outputs": [
    {
     "data": {
      "text/plain": [
       "dlc\n",
       "8    928136\n",
       "5     50606\n",
       "2     10129\n",
       "Name: count, dtype: int64"
      ]
     },
     "execution_count": 49,
     "metadata": {},
     "output_type": "execute_result"
    }
   ],
   "source": [
    "col=\"dlc\"\n",
    "attack_free_df[col].value_counts()"
   ]
  },
  {
   "cell_type": "code",
   "execution_count": 50,
   "metadata": {},
   "outputs": [],
   "source": [
    "bytes_col_list=[col for col in attack_free_df.columns if col.startswith(\"byte\")]\n",
    "attack_free_df=concatenate_columns(bytes_col_list,\"merged_bytes\",attack_free_df)"
   ]
  },
  {
   "cell_type": "code",
   "execution_count": 51,
   "metadata": {},
   "outputs": [
    {
     "data": {
      "text/plain": [
       "275180"
      ]
     },
     "execution_count": 51,
     "metadata": {},
     "output_type": "execute_result"
    }
   ],
   "source": [
    "col=\"merged_bytes\"\n",
    "attack_free_df[col].nunique()"
   ]
  },
  {
   "cell_type": "code",
   "execution_count": 52,
   "metadata": {},
   "outputs": [],
   "source": [
    "attack_free_df=convert_hex_bytes_to_int(attack_free_df,bytes_col_list)"
   ]
  },
  {
   "cell_type": "code",
   "execution_count": 53,
   "metadata": {},
   "outputs": [
    {
     "data": {
      "text/html": [
       "<div>\n",
       "<style scoped>\n",
       "    .dataframe tbody tr th:only-of-type {\n",
       "        vertical-align: middle;\n",
       "    }\n",
       "\n",
       "    .dataframe tbody tr th {\n",
       "        vertical-align: top;\n",
       "    }\n",
       "\n",
       "    .dataframe thead th {\n",
       "        text-align: right;\n",
       "    }\n",
       "</style>\n",
       "<table border=\"1\" class=\"dataframe\">\n",
       "  <thead>\n",
       "    <tr style=\"text-align: right;\">\n",
       "      <th></th>\n",
       "      <th>byte_0</th>\n",
       "      <th>byte_1</th>\n",
       "      <th>byte_2</th>\n",
       "      <th>byte_3</th>\n",
       "      <th>byte_4</th>\n",
       "      <th>byte_5</th>\n",
       "      <th>byte_6</th>\n",
       "      <th>byte_7</th>\n",
       "    </tr>\n",
       "  </thead>\n",
       "  <tbody>\n",
       "    <tr>\n",
       "      <th>0</th>\n",
       "      <td>5</td>\n",
       "      <td>40</td>\n",
       "      <td>132.0</td>\n",
       "      <td>102.0</td>\n",
       "      <td>109.0</td>\n",
       "      <td>0.0</td>\n",
       "      <td>0.0</td>\n",
       "      <td>162.0</td>\n",
       "    </tr>\n",
       "    <tr>\n",
       "      <th>1</th>\n",
       "      <td>20</td>\n",
       "      <td>0</td>\n",
       "      <td>0.0</td>\n",
       "      <td>0.0</td>\n",
       "      <td>0.0</td>\n",
       "      <td>0.0</td>\n",
       "      <td>0.0</td>\n",
       "      <td>0.0</td>\n",
       "    </tr>\n",
       "    <tr>\n",
       "      <th>2</th>\n",
       "      <td>0</td>\n",
       "      <td>0</td>\n",
       "      <td>0.0</td>\n",
       "      <td>0.0</td>\n",
       "      <td>0.0</td>\n",
       "      <td>0.0</td>\n",
       "      <td>0.0</td>\n",
       "      <td>0.0</td>\n",
       "    </tr>\n",
       "    <tr>\n",
       "      <th>3</th>\n",
       "      <td>0</td>\n",
       "      <td>0</td>\n",
       "      <td>0.0</td>\n",
       "      <td>0.0</td>\n",
       "      <td>0.0</td>\n",
       "      <td>0.0</td>\n",
       "      <td>0.0</td>\n",
       "      <td>0.0</td>\n",
       "    </tr>\n",
       "    <tr>\n",
       "      <th>4</th>\n",
       "      <td>0</td>\n",
       "      <td>0</td>\n",
       "      <td>0.0</td>\n",
       "      <td>0.0</td>\n",
       "      <td>0.0</td>\n",
       "      <td>0.0</td>\n",
       "      <td>0.0</td>\n",
       "      <td>0.0</td>\n",
       "    </tr>\n",
       "  </tbody>\n",
       "</table>\n",
       "</div>"
      ],
      "text/plain": [
       "   byte_0  byte_1  byte_2  byte_3  byte_4  byte_5  byte_6  byte_7\n",
       "0       5      40   132.0   102.0   109.0     0.0     0.0   162.0\n",
       "1      20       0     0.0     0.0     0.0     0.0     0.0     0.0\n",
       "2       0       0     0.0     0.0     0.0     0.0     0.0     0.0\n",
       "3       0       0     0.0     0.0     0.0     0.0     0.0     0.0\n",
       "4       0       0     0.0     0.0     0.0     0.0     0.0     0.0"
      ]
     },
     "execution_count": 53,
     "metadata": {},
     "output_type": "execute_result"
    }
   ],
   "source": [
    "attack_free_df[bytes_col_list].head()"
   ]
  },
  {
   "cell_type": "markdown",
   "metadata": {},
   "source": [
    "### Insights about Attack Free\n",
    "\n",
    "\n",
    "    \n",
    "\n"
   ]
  },
  {
   "attachments": {
    "image.png": {
     "image/png": "[encoded data removed]"
    }
   },
   "cell_type": "markdown",
   "metadata": {},
   "source": [
    "![image.png](attachment:image.png)"
   ]
  },
  {
   "cell_type": "markdown",
   "metadata": {},
   "source": [
    "## Import data again"
   ]
  },
  {
   "cell_type": "code",
   "execution_count": 54,
   "metadata": {},
   "outputs": [],
   "source": [
    "dos_df,fuzzy_df,attack_free_df=load_data(\"out_paths\",lib=\"pd\")\n"
   ]
  },
  {
   "cell_type": "markdown",
   "metadata": {},
   "source": [
    "## Only Dos DF and its' Attack Free DF"
   ]
  },
  {
   "cell_type": "markdown",
   "metadata": {},
   "source": [
    "- In dos attack df, there is both attack free and dos df. We may divide them and analyze separetly."
   ]
  },
  {
   "cell_type": "markdown",
   "metadata": {},
   "source": [
    "### Only Dos DF"
   ]
  },
  {
   "cell_type": "code",
   "execution_count": 55,
   "metadata": {},
   "outputs": [],
   "source": [
    "only_dos_df=dos_df[dos_df[\"updated_flag\"]=='T']"
   ]
  },
  {
   "cell_type": "code",
   "execution_count": 56,
   "metadata": {},
   "outputs": [
    {
     "name": "stdout",
     "output_type": "stream",
     "text": [
      "Data Shape\n",
      "****************************************\n",
      "Rows: 587521, Columns: 12\n",
      "\n",
      "Info\n",
      "****************************************\n",
      "      Column Data Type  Null Count  Unique Count\n",
      "   timestamp   float64           0        587521\n",
      "      can_id    object           0             1\n",
      "         dlc     int64           0             1\n",
      "      byte_0    object           0             1\n",
      "      byte_1    object           0             1\n",
      "      byte_2    object           0             1\n",
      "      byte_3    object           0             1\n",
      "      byte_4    object           0             1\n",
      "      byte_5    object           0             1\n",
      "      byte_6    object           0             1\n",
      "      byte_7    object           0             1\n",
      "updated_flag    object           0             1\n"
     ]
    }
   ],
   "source": [
    "show_shape_info_of_data(only_dos_df)"
   ]
  },
  {
   "cell_type": "code",
   "execution_count": 57,
   "metadata": {},
   "outputs": [
    {
     "name": "stdout",
     "output_type": "stream",
     "text": [
      "Start Time:  2016-11-03 18:39:37.185137033\n",
      "End Time:  2016-11-03 19:17:31.438389063\n"
     ]
    },
    {
     "name": "stderr",
     "output_type": "stream",
     "text": [
      "C:\\Users\\Naz\\AppData\\Local\\Temp\\ipykernel_6524\\3682863131.py:20: SettingWithCopyWarning: \n",
      "A value is trying to be set on a copy of a slice from a DataFrame.\n",
      "Try using .loc[row_indexer,col_indexer] = value instead\n",
      "\n",
      "See the caveats in the documentation: https://pandas.pydata.org/pandas-docs/stable/user_guide/indexing.html#returning-a-view-versus-a-copy\n",
      "  data[col_to_be_added_name] = pd.to_datetime(data[existing_col_name], unit='s')\n"
     ]
    }
   ],
   "source": [
    "only_dos_df=convert_timestamp_to_datetime(\"datetime\",\"timestamp\", only_dos_df)\n",
    "print_start_end_timestamps(only_dos_df,\"datetime\")"
   ]
  },
  {
   "cell_type": "code",
   "execution_count": 58,
   "metadata": {},
   "outputs": [
    {
     "name": "stderr",
     "output_type": "stream",
     "text": [
      "C:\\Users\\Naz\\AppData\\Local\\Temp\\ipykernel_6524\\1313870916.py:2: SettingWithCopyWarning: \n",
      "A value is trying to be set on a copy of a slice from a DataFrame.\n",
      "Try using .loc[row_indexer,col_indexer] = value instead\n",
      "\n",
      "See the caveats in the documentation: https://pandas.pydata.org/pandas-docs/stable/user_guide/indexing.html#returning-a-view-versus-a-copy\n",
      "  only_dos_df[\"updated_can_id\"] = only_dos_df[col].apply(convert_hex_to_int)\n"
     ]
    },
    {
     "data": {
      "text/plain": [
       "array([0])"
      ]
     },
     "execution_count": 58,
     "metadata": {},
     "output_type": "execute_result"
    }
   ],
   "source": [
    "col=\"can_id\"\n",
    "only_dos_df[\"updated_can_id\"] = only_dos_df[col].apply(convert_hex_to_int)\n",
    "only_dos_df[\"updated_can_id\"].unique()"
   ]
  },
  {
   "cell_type": "code",
   "execution_count": 59,
   "metadata": {},
   "outputs": [
    {
     "data": {
      "text/plain": [
       "array([8])"
      ]
     },
     "execution_count": 59,
     "metadata": {},
     "output_type": "execute_result"
    }
   ],
   "source": [
    "col=\"dlc\"\n",
    "only_dos_df[col].unique()"
   ]
  },
  {
   "cell_type": "code",
   "execution_count": 60,
   "metadata": {},
   "outputs": [
    {
     "name": "stdout",
     "output_type": "stream",
     "text": [
      "['00']\n",
      "['00']\n",
      "['00']\n",
      "['00']\n",
      "['00']\n",
      "['00']\n",
      "['00']\n",
      "['00']\n"
     ]
    },
    {
     "data": {
      "text/plain": [
       "[None, None, None, None, None, None, None, None]"
      ]
     },
     "execution_count": 60,
     "metadata": {},
     "output_type": "execute_result"
    }
   ],
   "source": [
    "[print(only_dos_df[byte].unique()) for byte in bytes_col_list]"
   ]
  },
  {
   "attachments": {
    "image.png": {
     "image/png": "[encoded data removed]"
    }
   },
   "cell_type": "markdown",
   "metadata": {},
   "source": [
    "![image.png](attachment:image.png)"
   ]
  },
  {
   "cell_type": "markdown",
   "metadata": {},
   "source": [
    "### Only Attack Free DF inside Dos DF"
   ]
  },
  {
   "cell_type": "code",
   "execution_count": 61,
   "metadata": {},
   "outputs": [],
   "source": [
    "attack_free_df_inside_dos_df=dos_df[dos_df[\"updated_flag\"]=='R']\n"
   ]
  },
  {
   "cell_type": "code",
   "execution_count": 62,
   "metadata": {},
   "outputs": [
    {
     "name": "stdout",
     "output_type": "stream",
     "text": [
      "Data Shape\n",
      "****************************************\n",
      "Rows: 3078249, Columns: 12\n",
      "\n",
      "Info\n",
      "****************************************\n",
      "      Column Data Type  Null Count  Unique Count\n",
      "   timestamp   float64           0       3078249\n",
      "      can_id    object           0            26\n",
      "         dlc     int64           0             2\n",
      "      byte_0    object           0           108\n",
      "      byte_1    object           0            71\n",
      "      byte_2    object       31188            75\n",
      "      byte_3    object       31188            26\n",
      "      byte_4    object       31188           190\n",
      "      byte_5    object       31188           256\n",
      "      byte_6    object       31188            75\n",
      "      byte_7    object       31188           256\n",
      "updated_flag    object           0             1\n"
     ]
    }
   ],
   "source": [
    "show_shape_info_of_data(attack_free_df_inside_dos_df)"
   ]
  },
  {
   "cell_type": "code",
   "execution_count": 63,
   "metadata": {},
   "outputs": [
    {
     "name": "stdout",
     "output_type": "stream",
     "text": [
      "Start Time:  2016-11-03 18:39:36.389636040\n",
      "End Time:  2016-11-03 19:26:49.058943987\n"
     ]
    },
    {
     "name": "stderr",
     "output_type": "stream",
     "text": [
      "C:\\Users\\Naz\\AppData\\Local\\Temp\\ipykernel_6524\\3682863131.py:20: SettingWithCopyWarning: \n",
      "A value is trying to be set on a copy of a slice from a DataFrame.\n",
      "Try using .loc[row_indexer,col_indexer] = value instead\n",
      "\n",
      "See the caveats in the documentation: https://pandas.pydata.org/pandas-docs/stable/user_guide/indexing.html#returning-a-view-versus-a-copy\n",
      "  data[col_to_be_added_name] = pd.to_datetime(data[existing_col_name], unit='s')\n"
     ]
    }
   ],
   "source": [
    "attack_free_df_inside_dos_df=convert_timestamp_to_datetime(\"datetime\",\"timestamp\", attack_free_df_inside_dos_df)\n",
    "\n",
    "print_start_end_timestamps(attack_free_df_inside_dos_df,\"datetime\")"
   ]
  },
  {
   "cell_type": "code",
   "execution_count": 64,
   "metadata": {},
   "outputs": [
    {
     "data": {
      "text/plain": [
       "dlc\n",
       "8    3047061\n",
       "2      31188\n",
       "Name: count, dtype: int64"
      ]
     },
     "execution_count": 64,
     "metadata": {},
     "output_type": "execute_result"
    }
   ],
   "source": [
    "col=\"dlc\"\n",
    "attack_free_df_inside_dos_df[col].value_counts()"
   ]
  },
  {
   "cell_type": "code",
   "execution_count": 65,
   "metadata": {},
   "outputs": [
    {
     "name": "stderr",
     "output_type": "stream",
     "text": [
      "C:\\Users\\Naz\\AppData\\Local\\Temp\\ipykernel_6524\\108286545.py:2: SettingWithCopyWarning: \n",
      "A value is trying to be set on a copy of a slice from a DataFrame.\n",
      "Try using .loc[row_indexer,col_indexer] = value instead\n",
      "\n",
      "See the caveats in the documentation: https://pandas.pydata.org/pandas-docs/stable/user_guide/indexing.html#returning-a-view-versus-a-copy\n",
      "  attack_free_df_inside_dos_df[\"updated_can_id\"] = attack_free_df_inside_dos_df[col].apply(convert_hex_to_int)\n"
     ]
    }
   ],
   "source": [
    "col=\"can_id\"\n",
    "attack_free_df_inside_dos_df[\"updated_can_id\"] = attack_free_df_inside_dos_df[col].apply(convert_hex_to_int)"
   ]
  },
  {
   "cell_type": "code",
   "execution_count": 66,
   "metadata": {},
   "outputs": [],
   "source": [
    "#attack_free_df_inside_dos_df[\"updated_can_id\"].value_counts()"
   ]
  },
  {
   "cell_type": "code",
   "execution_count": 67,
   "metadata": {},
   "outputs": [
    {
     "name": "stderr",
     "output_type": "stream",
     "text": [
      "C:\\Users\\Naz\\AppData\\Local\\Temp\\ipykernel_6524\\3573853339.py:19: SettingWithCopyWarning: \n",
      "A value is trying to be set on a copy of a slice from a DataFrame.\n",
      "Try using .loc[row_indexer,col_indexer] = value instead\n",
      "\n",
      "See the caveats in the documentation: https://pandas.pydata.org/pandas-docs/stable/user_guide/indexing.html#returning-a-view-versus-a-copy\n",
      "  data[col] = data[col].apply(convert_hex_to_int)\n"
     ]
    }
   ],
   "source": [
    "attack_free_df_inside_dos_df=convert_hex_bytes_to_int(attack_free_df_inside_dos_df,bytes_col_list)"
   ]
  },
  {
   "cell_type": "code",
   "execution_count": 68,
   "metadata": {},
   "outputs": [
    {
     "data": {
      "text/html": [
       "<div>\n",
       "<style scoped>\n",
       "    .dataframe tbody tr th:only-of-type {\n",
       "        vertical-align: middle;\n",
       "    }\n",
       "\n",
       "    .dataframe tbody tr th {\n",
       "        vertical-align: top;\n",
       "    }\n",
       "\n",
       "    .dataframe thead th {\n",
       "        text-align: right;\n",
       "    }\n",
       "</style>\n",
       "<table border=\"1\" class=\"dataframe\">\n",
       "  <thead>\n",
       "    <tr style=\"text-align: right;\">\n",
       "      <th></th>\n",
       "      <th>byte_0</th>\n",
       "      <th>byte_1</th>\n",
       "      <th>byte_2</th>\n",
       "      <th>byte_3</th>\n",
       "      <th>byte_4</th>\n",
       "      <th>byte_5</th>\n",
       "      <th>byte_6</th>\n",
       "      <th>byte_7</th>\n",
       "    </tr>\n",
       "  </thead>\n",
       "  <tbody>\n",
       "    <tr>\n",
       "      <th>0</th>\n",
       "      <td>254</td>\n",
       "      <td>91</td>\n",
       "      <td>0.0</td>\n",
       "      <td>0.0</td>\n",
       "      <td>0.0</td>\n",
       "      <td>60.0</td>\n",
       "      <td>0.0</td>\n",
       "      <td>0.0</td>\n",
       "    </tr>\n",
       "    <tr>\n",
       "      <th>1</th>\n",
       "      <td>25</td>\n",
       "      <td>33</td>\n",
       "      <td>34.0</td>\n",
       "      <td>48.0</td>\n",
       "      <td>8.0</td>\n",
       "      <td>142.0</td>\n",
       "      <td>109.0</td>\n",
       "      <td>58.0</td>\n",
       "    </tr>\n",
       "    <tr>\n",
       "      <th>2</th>\n",
       "      <td>100</td>\n",
       "      <td>0</td>\n",
       "      <td>154.0</td>\n",
       "      <td>29.0</td>\n",
       "      <td>151.0</td>\n",
       "      <td>2.0</td>\n",
       "      <td>189.0</td>\n",
       "      <td>0.0</td>\n",
       "    </tr>\n",
       "    <tr>\n",
       "      <th>3</th>\n",
       "      <td>64</td>\n",
       "      <td>187</td>\n",
       "      <td>127.0</td>\n",
       "      <td>20.0</td>\n",
       "      <td>17.0</td>\n",
       "      <td>32.0</td>\n",
       "      <td>0.0</td>\n",
       "      <td>20.0</td>\n",
       "    </tr>\n",
       "    <tr>\n",
       "      <th>4</th>\n",
       "      <td>216</td>\n",
       "      <td>0</td>\n",
       "      <td>0.0</td>\n",
       "      <td>138.0</td>\n",
       "      <td>0.0</td>\n",
       "      <td>0.0</td>\n",
       "      <td>0.0</td>\n",
       "      <td>0.0</td>\n",
       "    </tr>\n",
       "  </tbody>\n",
       "</table>\n",
       "</div>"
      ],
      "text/plain": [
       "   byte_0  byte_1  byte_2  byte_3  byte_4  byte_5  byte_6  byte_7\n",
       "0     254      91     0.0     0.0     0.0    60.0     0.0     0.0\n",
       "1      25      33    34.0    48.0     8.0   142.0   109.0    58.0\n",
       "2     100       0   154.0    29.0   151.0     2.0   189.0     0.0\n",
       "3      64     187   127.0    20.0    17.0    32.0     0.0    20.0\n",
       "4     216       0     0.0   138.0     0.0     0.0     0.0     0.0"
      ]
     },
     "execution_count": 68,
     "metadata": {},
     "output_type": "execute_result"
    }
   ],
   "source": [
    "attack_free_df_inside_dos_df[bytes_col_list].head()"
   ]
  },
  {
   "attachments": {
    "image.png": {
     "image/png": "[encoded data removed]"
    }
   },
   "cell_type": "markdown",
   "metadata": {},
   "source": [
    "![image.png](attachment:image.png)"
   ]
  },
  {
   "cell_type": "markdown",
   "metadata": {},
   "source": [
    "## Only Fuzzy df and it's Attack Free df"
   ]
  },
  {
   "cell_type": "code",
   "execution_count": 69,
   "metadata": {},
   "outputs": [],
   "source": [
    "only_fuzzy_df=fuzzy_df[fuzzy_df[\"updated_flag\"]=='T']"
   ]
  },
  {
   "cell_type": "markdown",
   "metadata": {},
   "source": [
    "### Only Fuzzy DF"
   ]
  },
  {
   "cell_type": "code",
   "execution_count": 70,
   "metadata": {},
   "outputs": [
    {
     "name": "stdout",
     "output_type": "stream",
     "text": [
      "Data Shape\n",
      "****************************************\n",
      "Rows: 491847, Columns: 12\n",
      "\n",
      "Info\n",
      "****************************************\n",
      "      Column Data Type  Null Count  Unique Count\n",
      "   timestamp   float64           0        491847\n",
      "      can_id    object           0          2048\n",
      "         dlc     int64           0             1\n",
      "      byte_0    object           0           256\n",
      "      byte_1    object           0           256\n",
      "      byte_2    object           0           256\n",
      "      byte_3    object           0           256\n",
      "      byte_4    object           0           256\n",
      "      byte_5    object           0           256\n",
      "      byte_6    object           0           256\n",
      "      byte_7    object           0           256\n",
      "updated_flag    object           0             1\n"
     ]
    }
   ],
   "source": [
    "show_shape_info_of_data(only_fuzzy_df)"
   ]
  },
  {
   "cell_type": "code",
   "execution_count": 71,
   "metadata": {},
   "outputs": [
    {
     "name": "stdout",
     "output_type": "stream",
     "text": [
      "Start Time:  2016-11-03 17:55:22.775131941\n",
      "End Time:  2016-11-03 18:36:17.328352928\n"
     ]
    },
    {
     "name": "stderr",
     "output_type": "stream",
     "text": [
      "C:\\Users\\Naz\\AppData\\Local\\Temp\\ipykernel_6524\\3682863131.py:20: SettingWithCopyWarning: \n",
      "A value is trying to be set on a copy of a slice from a DataFrame.\n",
      "Try using .loc[row_indexer,col_indexer] = value instead\n",
      "\n",
      "See the caveats in the documentation: https://pandas.pydata.org/pandas-docs/stable/user_guide/indexing.html#returning-a-view-versus-a-copy\n",
      "  data[col_to_be_added_name] = pd.to_datetime(data[existing_col_name], unit='s')\n"
     ]
    }
   ],
   "source": [
    "only_fuzzy_df=convert_timestamp_to_datetime(\"datetime\",\"timestamp\", only_fuzzy_df)\n",
    "print_start_end_timestamps(only_fuzzy_df,\"datetime\")"
   ]
  },
  {
   "cell_type": "code",
   "execution_count": 72,
   "metadata": {},
   "outputs": [
    {
     "name": "stderr",
     "output_type": "stream",
     "text": [
      "C:\\Users\\Naz\\AppData\\Local\\Temp\\ipykernel_6524\\1695648100.py:2: SettingWithCopyWarning: \n",
      "A value is trying to be set on a copy of a slice from a DataFrame.\n",
      "Try using .loc[row_indexer,col_indexer] = value instead\n",
      "\n",
      "See the caveats in the documentation: https://pandas.pydata.org/pandas-docs/stable/user_guide/indexing.html#returning-a-view-versus-a-copy\n",
      "  only_fuzzy_df[\"updated_can_id\"] = only_fuzzy_df[col].apply(convert_hex_to_int)\n"
     ]
    }
   ],
   "source": [
    "col=\"can_id\"\n",
    "only_fuzzy_df[\"updated_can_id\"] = only_fuzzy_df[col].apply(convert_hex_to_int)"
   ]
  },
  {
   "cell_type": "code",
   "execution_count": 73,
   "metadata": {},
   "outputs": [],
   "source": [
    "#only_fuzzy_df[\"updated_can_id\"].value_counts()[:30]"
   ]
  },
  {
   "cell_type": "code",
   "execution_count": 74,
   "metadata": {},
   "outputs": [
    {
     "data": {
      "text/plain": [
       "array([8])"
      ]
     },
     "execution_count": 74,
     "metadata": {},
     "output_type": "execute_result"
    }
   ],
   "source": [
    "col=\"dlc\"\n",
    "only_fuzzy_df[col].unique()"
   ]
  },
  {
   "cell_type": "markdown",
   "metadata": {},
   "source": [
    "### Only Attack Free DF inside Fuzzy Df"
   ]
  },
  {
   "cell_type": "code",
   "execution_count": 75,
   "metadata": {},
   "outputs": [],
   "source": [
    "attack_free_df_inside_fuzzy_df=fuzzy_df[fuzzy_df[\"updated_flag\"]=='R']\n"
   ]
  },
  {
   "cell_type": "code",
   "execution_count": 76,
   "metadata": {},
   "outputs": [
    {
     "name": "stdout",
     "output_type": "stream",
     "text": [
      "Data Shape\n",
      "****************************************\n",
      "Rows: 3347012, Columns: 12\n",
      "\n",
      "Info\n",
      "****************************************\n",
      "      Column Data Type  Null Count  Unique Count\n",
      "   timestamp   float64           0       3347012\n",
      "      can_id    object           0            38\n",
      "         dlc     int64           0             4\n",
      "      byte_0    object           0           113\n",
      "      byte_1    object           0           116\n",
      "      byte_2    object       34382           115\n",
      "      byte_3    object       34382            35\n",
      "      byte_4    object       34382           216\n",
      "      byte_5    object       87833           256\n",
      "      byte_6    object       87836           103\n",
      "      byte_7    object       87836           256\n",
      "updated_flag    object           0             1\n"
     ]
    }
   ],
   "source": [
    "show_shape_info_of_data(attack_free_df_inside_fuzzy_df)"
   ]
  },
  {
   "cell_type": "code",
   "execution_count": 77,
   "metadata": {},
   "outputs": [
    {
     "name": "stdout",
     "output_type": "stream",
     "text": [
      "Start Time:  2016-11-03 17:55:21.905735970\n",
      "End Time:  2016-11-03 19:26:49.058943987\n"
     ]
    },
    {
     "name": "stderr",
     "output_type": "stream",
     "text": [
      "C:\\Users\\Naz\\AppData\\Local\\Temp\\ipykernel_6524\\3682863131.py:20: SettingWithCopyWarning: \n",
      "A value is trying to be set on a copy of a slice from a DataFrame.\n",
      "Try using .loc[row_indexer,col_indexer] = value instead\n",
      "\n",
      "See the caveats in the documentation: https://pandas.pydata.org/pandas-docs/stable/user_guide/indexing.html#returning-a-view-versus-a-copy\n",
      "  data[col_to_be_added_name] = pd.to_datetime(data[existing_col_name], unit='s')\n"
     ]
    }
   ],
   "source": [
    "attack_free_df_inside_fuzzy_df=convert_timestamp_to_datetime(\"datetime\",\"timestamp\", attack_free_df_inside_fuzzy_df)\n",
    "\n",
    "print_start_end_timestamps(attack_free_df_inside_fuzzy_df,\"datetime\")"
   ]
  },
  {
   "cell_type": "code",
   "execution_count": 78,
   "metadata": {},
   "outputs": [
    {
     "data": {
      "text/plain": [
       "dlc\n",
       "8    3259176\n",
       "5      53451\n",
       "2      34382\n",
       "6          3\n",
       "Name: count, dtype: int64"
      ]
     },
     "execution_count": 78,
     "metadata": {},
     "output_type": "execute_result"
    }
   ],
   "source": [
    "col=\"dlc\"\n",
    "attack_free_df_inside_fuzzy_df[col].value_counts()"
   ]
  },
  {
   "cell_type": "code",
   "execution_count": 79,
   "metadata": {},
   "outputs": [
    {
     "name": "stderr",
     "output_type": "stream",
     "text": [
      "C:\\Users\\Naz\\AppData\\Local\\Temp\\ipykernel_6524\\1317950146.py:2: SettingWithCopyWarning: \n",
      "A value is trying to be set on a copy of a slice from a DataFrame.\n",
      "Try using .loc[row_indexer,col_indexer] = value instead\n",
      "\n",
      "See the caveats in the documentation: https://pandas.pydata.org/pandas-docs/stable/user_guide/indexing.html#returning-a-view-versus-a-copy\n",
      "  attack_free_df_inside_fuzzy_df[\"updated_can_id\"] = attack_free_df_inside_fuzzy_df[col].apply(convert_hex_to_int)\n"
     ]
    }
   ],
   "source": [
    "col=\"can_id\"\n",
    "attack_free_df_inside_fuzzy_df[\"updated_can_id\"] = attack_free_df_inside_fuzzy_df[col].apply(convert_hex_to_int)"
   ]
  },
  {
   "cell_type": "code",
   "execution_count": 80,
   "metadata": {},
   "outputs": [
    {
     "data": {
      "text/plain": [
       "updated_can_id\n",
       "790     181898\n",
       "2       179770\n",
       "399     179536\n",
       "704     179383\n",
       "1087    179288\n",
       "848     178441\n",
       "304     177930\n",
       "339     177913\n",
       "608     177800\n",
       "880     177421\n",
       "672     176924\n",
       "305     175844\n",
       "809     175487\n",
       "1088    175236\n",
       "320     174936\n",
       "1349    173455\n",
       "1072     92692\n",
       "1201     89872\n",
       "497      89529\n",
       "1264     88700\n",
       "Name: count, dtype: int64"
      ]
     },
     "execution_count": 80,
     "metadata": {},
     "output_type": "execute_result"
    }
   ],
   "source": [
    "attack_free_df_inside_fuzzy_df[\"updated_can_id\"].value_counts()[:20]"
   ]
  },
  {
   "cell_type": "code",
   "execution_count": 81,
   "metadata": {},
   "outputs": [
    {
     "data": {
      "text/plain": [
       "updated_can_id\n",
       "688     53248\n",
       "1520    34382\n",
       "160     18035\n",
       "161     17676\n",
       "1680    17624\n",
       "1440     1739\n",
       "1442     1709\n",
       "1999      217\n",
       "1706      203\n",
       "2009       30\n",
       "2025       23\n",
       "2024       19\n",
       "2010       16\n",
       "2014       15\n",
       "1544        7\n",
       "1819        5\n",
       "1697        5\n",
       "261         4\n",
       "Name: count, dtype: int64"
      ]
     },
     "execution_count": 81,
     "metadata": {},
     "output_type": "execute_result"
    }
   ],
   "source": [
    "attack_free_df_inside_fuzzy_df[\"updated_can_id\"].value_counts()[20:]"
   ]
  }
 ],
 "metadata": {
  "kernelspec": {
   "display_name": "naz-ids-dev",
   "language": "python",
   "name": "python3"
  },
  "language_info": {
   "codemirror_mode": {
    "name": "ipython",
    "version": 3
   },
   "file_extension": ".py",
   "mimetype": "text/x-python",
   "name": "python",
   "nbconvert_exporter": "python",
   "pygments_lexer": "ipython3",
   "version": "3.11.5"
  }
 },
 "nbformat": 4,
 "nbformat_minor": 2
}
