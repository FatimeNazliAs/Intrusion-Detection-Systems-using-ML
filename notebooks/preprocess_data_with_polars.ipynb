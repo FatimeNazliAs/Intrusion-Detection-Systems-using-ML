{
 "cells": [
  {
   "cell_type": "markdown",
   "metadata": {},
   "source": [
    "## Import data and libraries"
   ]
  },
  {
   "cell_type": "code",
   "execution_count": 1,
   "metadata": {},
   "outputs": [],
   "source": [
    "import polars as pl\n",
    "import datetime as dt\n",
    "%run utils.ipynb"
   ]
  },
  {
   "cell_type": "code",
   "execution_count": 2,
   "metadata": {},
   "outputs": [],
   "source": [
    "\n",
    "dfs_dict=load_data(\"out_paths\",backup=\"polars\")"
   ]
  },
  {
   "cell_type": "code",
   "execution_count": 3,
   "metadata": {},
   "outputs": [],
   "source": [
    "dos_df=dfs_dict[\"dos_df\"]\n",
    "fuzzy_df=dfs_dict[\"fuzzy_df\"]\n",
    "attack_free_df=dfs_dict[\"attack_free_df\"]\n",
    "dfs = [dos_df, fuzzy_df, attack_free_df]"
   ]
  },
  {
   "cell_type": "markdown",
   "metadata": {},
   "source": [
    "## Data Preprocesssing"
   ]
  },
  {
   "cell_type": "markdown",
   "metadata": {},
   "source": [
    "#### Column Names"
   ]
  },
  {
   "cell_type": "code",
   "execution_count": 4,
   "metadata": {},
   "outputs": [],
   "source": [
    "existing_timestamp_column_name = \"timestamp\"\n",
    "existing_can_id_column_name = \"can_id\"\n",
    "existing_dlc_column_name=\"dlc\"\n",
    "\n",
    "\n",
    "new_timestamp_column_name = \"datetime\"\n",
    "new_can_id_column_name = \"can_id\"\n",
    "new_message_column_name=\"message\""
   ]
  },
  {
   "cell_type": "markdown",
   "metadata": {},
   "source": [
    "### Convert Data Types"
   ]
  },
  {
   "cell_type": "code",
   "execution_count": 5,
   "metadata": {},
   "outputs": [],
   "source": [
    "def validate_column_in_dataframe(df, column_name):\n",
    "    \"\"\"\n",
    "    Checks column exist or not in given df.\n",
    "\n",
    "    Parameters\n",
    "    ----------\n",
    "    df :pl.DataFrame\n",
    "        Input DataFrame.\n",
    "    column_name : str\n",
    "        Column name that will be checked.\n",
    "\n",
    "    Raises\n",
    "    ------\n",
    "    ValueError\n",
    "       If the specified column does not exist in the DataFrame.\n",
    "    \"\"\"\n",
    "\n",
    "    if column_name not in df.columns:\n",
    "        raise ValueError(f\"Column '{column_name}' not found in DataFrame.\")"
   ]
  },
  {
   "cell_type": "markdown",
   "metadata": {},
   "source": [
    "#### Timestamp"
   ]
  },
  {
   "cell_type": "code",
   "execution_count": 6,
   "metadata": {},
   "outputs": [],
   "source": [
    "def convert_timestamp_to_datetime(df, new_column_name, existing_column_name):\n",
    "    \"\"\"\n",
    "    Convert float timestamp column into datetime and add as new column.\n",
    "\n",
    "    Parameters\n",
    "    ----------\n",
    "    data : pl.DataFrame\n",
    "        Input DataFrame containing the timestamp column.\n",
    "    new_column_name : str\n",
    "        Name of new column to be added.\n",
    "    existing_column_name : str\n",
    "        Name of the existing column containing timestamps.\n",
    "\n",
    "    Returns\n",
    "    -------\n",
    "    pl.DataFrame\n",
    "        DataFrame with newly added datetime column.\n",
    "\n",
    "    Raises\n",
    "    ------\n",
    "    ValueError\n",
    "        If the existing column is not found in the DataFrame.\n",
    "    \"\"\"\n",
    "\n",
    "    validate_column_in_dataframe(df, existing_column_name)\n",
    "\n",
    "    return df.with_columns(\n",
    "        pl.from_epoch(pl.col(existing_column_name), time_unit=\"s\").alias(\n",
    "            new_column_name\n",
    "        )\n",
    "    )"
   ]
  },
  {
   "cell_type": "code",
   "execution_count": 7,
   "metadata": {},
   "outputs": [],
   "source": [
    "def convert_multiple_dfs_timestamp_to_datetime(\n",
    "    dfs, new_column_name, existing_column_name\n",
    "):\n",
    "    \"\"\"\n",
    "    Convert multiple dfs' timestamp column into datetime column.\n",
    "\n",
    "    Parameters\n",
    "    ----------\n",
    "    dfs : list\n",
    "        List of DataFrame.\n",
    "    new_column_name : str\n",
    "        Name of new column to be added\n",
    "    existing_column_name : str\n",
    "        Name of the existing column containing timestamps.\n",
    "\n",
    "    Returns\n",
    "    -------\n",
    "    list\n",
    "        List of updated DataFrame.\n",
    "    \"\"\"\n",
    "    return [\n",
    "        convert_timestamp_to_datetime(df, new_column_name, \n",
    "                                      existing_column_name)\n",
    "        for df in dfs\n",
    "    ]"
   ]
  },
  {
   "cell_type": "code",
   "execution_count": 8,
   "metadata": {},
   "outputs": [],
   "source": [
    "converted_timestamp_dfs = convert_multiple_dfs_timestamp_to_datetime(\n",
    "    dfs, new_timestamp_column_name, existing_timestamp_column_name\n",
    ")\n",
    "dos_df, fuzzy_df, attack_free_df = converted_timestamp_dfs"
   ]
  },
  {
   "cell_type": "markdown",
   "metadata": {},
   "source": [
    "#### can_id"
   ]
  },
  {
   "cell_type": "code",
   "execution_count": 9,
   "metadata": {},
   "outputs": [],
   "source": [
    "def convert_hex_column_to_int(df,new_column_name,existing_column_name):\n",
    "    \"\"\"\n",
    "    Convert hex that it's dtype is str into int column.\n",
    "\n",
    "    Parameters\n",
    "    ----------\n",
    "    df : pl.DataFrame\n",
    "        Input DataFrame containing the hex column.\n",
    "    new_column_name : str\n",
    "        Name of new column to be added.\n",
    "    existing_column_name : str\n",
    "        Name of the existing column containing hex.\n",
    "\n",
    "    Returns\n",
    "    -------\n",
    "    pl.DataFrame\n",
    "        DataFrame with newly added hex int column.\n",
    "\n",
    "    Raises\n",
    "    ------\n",
    "    ValueError\n",
    "        If the existing column is not found in the DataFrame.\n",
    "    \"\"\"\n",
    "\n",
    "    validate_column_in_dataframe(df, existing_column_name)\n",
    "\n",
    "    return df.with_columns(pl.col(existing_column_name).str.to_integer(base=16, strict=True).alias(new_column_name))"
   ]
  },
  {
   "cell_type": "code",
   "execution_count": 10,
   "metadata": {},
   "outputs": [],
   "source": [
    "def convert_multiple_dfs_str_hex_can_id_to_int(dfs, new_column_name, existing_column_name):\n",
    "    \"\"\"\n",
    "    Convert multiple dfs' str hex column into int hex column.\n",
    "\n",
    "    Parameters\n",
    "    ----------\n",
    "    dfs : list\n",
    "        List of DataFrame.\n",
    "    new_column_name : str\n",
    "        Name of new column to be added\n",
    "    existing_column_name : str\n",
    "        Name of the existing column containing hex.\n",
    "\n",
    "    Returns\n",
    "    -------\n",
    "    list\n",
    "        List of updated DataFrame.\n",
    "    \"\"\"\n",
    "    return [\n",
    "        convert_hex_column_to_int(df,new_column_name,existing_column_name)\n",
    "        for df in dfs\n",
    "    ]\n"
   ]
  },
  {
   "cell_type": "code",
   "execution_count": 11,
   "metadata": {},
   "outputs": [],
   "source": [
    "converted_can_id_dfs = convert_multiple_dfs_str_hex_can_id_to_int(\n",
    "    converted_timestamp_dfs, new_can_id_column_name, existing_can_id_column_name\n",
    ")\n",
    "dos_df, fuzzy_df, attack_free_df = converted_can_id_dfs"
   ]
  },
  {
   "cell_type": "markdown",
   "metadata": {},
   "source": [
    "#### Bytes"
   ]
  },
  {
   "cell_type": "code",
   "execution_count": 12,
   "metadata": {},
   "outputs": [],
   "source": [
    "def convert_bytes_to_int(df,existing_byte_column_names,new_byte_column_names):\n",
    "    \"\"\"\n",
    "    Convert byte columns in hexadecimal format to integer columns.\n",
    "\n",
    "    Parameters\n",
    "    ----------\n",
    "    df : pl.DataFrame\n",
    "        The input DataFrame containing the byte columns.\n",
    "    existing_byte_column_names : list of str\n",
    "        List of names of the existing byte columns in hexadecimal format.\n",
    "    new_byte_column_names : list of str\n",
    "        List of names for the new columns to store the converted integer values.\n",
    "\n",
    "    Returns\n",
    "    -------\n",
    "    pl.DataFrame\n",
    "        A DataFrame with the newly added integer columns corresponding to the byte columns.\n",
    "\n",
    "    Raises\n",
    "    ------\n",
    "    ValueError\n",
    "        If the lengths of `existing_byte_column_names` and `new_byte_column_names` do not match.\n",
    "    \"\"\"\n",
    "    \n",
    "    if len(existing_byte_column_names) != len(new_byte_column_names):\n",
    "            raise ValueError(\"The lengths of existing_column_names and new_column_names must match.\")\n",
    "\n",
    "    column_names_dict = dict(zip(existing_byte_column_names, new_byte_column_names))\n",
    "    for existing_byte_column_name, new_byte_column_name in column_names_dict.items():\n",
    "        df = df.with_columns(pl.col(existing_byte_column_name).str.to_integer(base=16, strict=True).alias(new_byte_column_name))\n",
    "    return df\n",
    "    \n",
    "    \n"
   ]
  },
  {
   "cell_type": "code",
   "execution_count": 13,
   "metadata": {},
   "outputs": [],
   "source": [
    "dfs=[dos_df, fuzzy_df, attack_free_df]\n",
    "max_dlc_number=max([df[existing_dlc_column_name].max() for df in dfs])\n",
    "existing_byte_column_names=[f\"byte_{i}\"for i in range(max_dlc_number)]\n",
    "new_byte_column_names=[f\"byte_{i}\"for i in range(max_dlc_number)]"
   ]
  },
  {
   "cell_type": "code",
   "execution_count": 14,
   "metadata": {},
   "outputs": [],
   "source": [
    "def convert_multiple_dfs_bytes_to_int(dfs,existing_column_names,new_column_names):\n",
    "    \"\"\"\n",
    "    Convert byte columns in hexadecimal format to integer columns for multiple DataFrames.\n",
    "\n",
    "    This function applies the `convert_bytes_to_int` function to a list of DataFrames, \n",
    "    transforming specified byte columns in hexadecimal format into integer columns.\n",
    "\n",
    "    Parameters\n",
    "    ----------\n",
    "    dfs : list of pl.DataFrame\n",
    "        A list of DataFrames, each containing the byte columns to be converted.\n",
    "    existing_column_names : list of str\n",
    "        List of names of the existing byte columns in each DataFrame.\n",
    "    new_column_names : list of str\n",
    "        List of names for the new columns to store the converted integer values in each DataFrame.\n",
    "\n",
    "    Returns\n",
    "    -------\n",
    "    list of pl.DataFrame\n",
    "        A list of DataFrames with the newly added integer columns corresponding to the byte columns.\n",
    "\n",
    "    Raises\n",
    "    ------\n",
    "    ValueError\n",
    "        If the lengths of `existing_column_names` and `new_column_names` do not match.\n",
    "    \"\"\"\n",
    "    return [\n",
    "        convert_bytes_to_int(df,existing_column_names,new_column_names)\n",
    "        for df in dfs\n",
    "    ]"
   ]
  },
  {
   "cell_type": "code",
   "execution_count": 15,
   "metadata": {},
   "outputs": [],
   "source": [
    "converted_bytes_dfs =  convert_multiple_dfs_bytes_to_int(\n",
    "    [dos_df,fuzzy_df,attack_free_df], existing_byte_column_names, new_byte_column_names\n",
    ")\n",
    "dos_df, fuzzy_df, attack_free_df = converted_bytes_dfs"
   ]
  },
  {
   "cell_type": "code",
   "execution_count": 16,
   "metadata": {},
   "outputs": [
    {
     "data": {
      "text/html": [
       "<div><style>\n",
       ".dataframe > thead > tr,\n",
       ".dataframe > tbody > tr {\n",
       "  text-align: right;\n",
       "  white-space: pre-wrap;\n",
       "}\n",
       "</style>\n",
       "<small>shape: (5, 13)</small><table border=\"1\" class=\"dataframe\"><thead><tr><th>timestamp</th><th>can_id</th><th>dlc</th><th>byte_0</th><th>byte_1</th><th>byte_2</th><th>byte_3</th><th>byte_4</th><th>byte_5</th><th>byte_6</th><th>byte_7</th><th>updated_flag</th><th>datetime</th></tr><tr><td>f64</td><td>i64</td><td>i64</td><td>i64</td><td>i64</td><td>i64</td><td>i64</td><td>i64</td><td>i64</td><td>i64</td><td>i64</td><td>str</td><td>datetime[μs]</td></tr></thead><tbody><tr><td>1.4782e9</td><td>399</td><td>8</td><td>254</td><td>91</td><td>0</td><td>0</td><td>0</td><td>60</td><td>0</td><td>0</td><td>&quot;R&quot;</td><td>2016-11-03 18:39:36</td></tr><tr><td>1.4782e9</td><td>608</td><td>8</td><td>25</td><td>33</td><td>34</td><td>48</td><td>8</td><td>142</td><td>109</td><td>58</td><td>&quot;R&quot;</td><td>2016-11-03 18:39:36</td></tr><tr><td>1.4782e9</td><td>672</td><td>8</td><td>100</td><td>0</td><td>154</td><td>29</td><td>151</td><td>2</td><td>189</td><td>0</td><td>&quot;R&quot;</td><td>2016-11-03 18:39:36</td></tr><tr><td>1.4782e9</td><td>809</td><td>8</td><td>64</td><td>187</td><td>127</td><td>20</td><td>17</td><td>32</td><td>0</td><td>20</td><td>&quot;R&quot;</td><td>2016-11-03 18:39:36</td></tr><tr><td>1.4782e9</td><td>1349</td><td>8</td><td>216</td><td>0</td><td>0</td><td>138</td><td>0</td><td>0</td><td>0</td><td>0</td><td>&quot;R&quot;</td><td>2016-11-03 18:39:36</td></tr></tbody></table></div>"
      ],
      "text/plain": [
       "shape: (5, 13)\n",
       "┌───────────┬────────┬─────┬────────┬───┬────────┬────────┬──────────────┬─────────────────────┐\n",
       "│ timestamp ┆ can_id ┆ dlc ┆ byte_0 ┆ … ┆ byte_6 ┆ byte_7 ┆ updated_flag ┆ datetime            │\n",
       "│ ---       ┆ ---    ┆ --- ┆ ---    ┆   ┆ ---    ┆ ---    ┆ ---          ┆ ---                 │\n",
       "│ f64       ┆ i64    ┆ i64 ┆ i64    ┆   ┆ i64    ┆ i64    ┆ str          ┆ datetime[μs]        │\n",
       "╞═══════════╪════════╪═════╪════════╪═══╪════════╪════════╪══════════════╪═════════════════════╡\n",
       "│ 1.4782e9  ┆ 399    ┆ 8   ┆ 254    ┆ … ┆ 0      ┆ 0      ┆ R            ┆ 2016-11-03 18:39:36 │\n",
       "│ 1.4782e9  ┆ 608    ┆ 8   ┆ 25     ┆ … ┆ 109    ┆ 58     ┆ R            ┆ 2016-11-03 18:39:36 │\n",
       "│ 1.4782e9  ┆ 672    ┆ 8   ┆ 100    ┆ … ┆ 189    ┆ 0      ┆ R            ┆ 2016-11-03 18:39:36 │\n",
       "│ 1.4782e9  ┆ 809    ┆ 8   ┆ 64     ┆ … ┆ 0      ┆ 20     ┆ R            ┆ 2016-11-03 18:39:36 │\n",
       "│ 1.4782e9  ┆ 1349   ┆ 8   ┆ 216    ┆ … ┆ 0      ┆ 0      ┆ R            ┆ 2016-11-03 18:39:36 │\n",
       "└───────────┴────────┴─────┴────────┴───┴────────┴────────┴──────────────┴─────────────────────┘"
      ]
     },
     "execution_count": 16,
     "metadata": {},
     "output_type": "execute_result"
    }
   ],
   "source": [
    "dos_df.head()"
   ]
  },
  {
   "cell_type": "markdown",
   "metadata": {},
   "source": [
    "### Add New Features"
   ]
  },
  {
   "cell_type": "markdown",
   "metadata": {},
   "source": [
    "#### Bytes to Message"
   ]
  },
  {
   "cell_type": "code",
   "execution_count": 17,
   "metadata": {},
   "outputs": [],
   "source": [
    "def merge_byte_columns(df,existing_column_name,new_column_name):\n",
    "    \"\"\"\n",
    "    Combine byte0...byte7 columns that represent message parts to one column which directly name is message.\n",
    "\n",
    "    Parameters\n",
    "    ----------\n",
    "    df : pl.DataFrame\n",
    "        Input DataFrame containing the byte columns.\n",
    "    new_column_name : str\n",
    "        Name of new column to be added.\n",
    "    existing_column_name : str\n",
    "        Name of the existing column containing dlc.\n",
    "    Returns\n",
    "    -------\n",
    "    pl.DataFrame\n",
    "        DataFrame with newly added message str column.\n",
    "    \"\"\"\n",
    "\n",
    "    return df.with_columns(\n",
    "        pl.concat_str([f\"byte_{i}\"for i in range(df[existing_column_name].max())],ignore_nulls=True).\n",
    "        alias(new_column_name))\n"
   ]
  },
  {
   "cell_type": "code",
   "execution_count": 18,
   "metadata": {},
   "outputs": [],
   "source": [
    "def merge_multiple_dfs_bytes_to_message_column(dfs,existing_column_name,new_column_name):\n",
    "    \"\"\"\n",
    "    Combine byte columns from multiple DataFrames into a new message column.\n",
    "   \n",
    "    Parameters\n",
    "    ----------\n",
    "    dfs : list\n",
    "        List of DataFrame.\n",
    "    new_column_name : str\n",
    "        Name of new column to be added \n",
    "    existing_column_name : str\n",
    "        Name of the existing column containing dlc.\n",
    "\n",
    "    Returns\n",
    "    -------\n",
    "    list\n",
    "        List of updated DataFrame.\n",
    "    \"\"\"\n",
    "    return [\n",
    "        merge_byte_columns(df,existing_column_name,new_column_name)\n",
    "        for df in dfs\n",
    "    ]\n"
   ]
  },
  {
   "cell_type": "code",
   "execution_count": 19,
   "metadata": {},
   "outputs": [],
   "source": [
    "# added_message_dfs = merge_multiple_dfs_bytes_to_message_column(\n",
    "#     converted_bytes_dfs, existing_dlc_column_name,new_message_column_name\n",
    "# )\n",
    "# dos_df, fuzzy_df, attack_free_df = added_message_dfs"
   ]
  },
  {
   "cell_type": "markdown",
   "metadata": {},
   "source": [
    "#### updated_flag to Attack_Free"
   ]
  },
  {
   "cell_type": "code",
   "execution_count": 20,
   "metadata": {},
   "outputs": [],
   "source": [
    "def add_updated_flag_column_to_attack_free(df):\n",
    "    \"\"\"\n",
    "    Adds an 'updated_flag' column to the attack-free DataFrame, assigning 'R'(representing a normal message) to all rows.\n",
    "\n",
    "    Parameters\n",
    "    ----------\n",
    "    df : pl.DataFrame\n",
    "        The input DataFrame to which the 'updated_flag' column will be added.\n",
    "\n",
    "    Returns\n",
    "    -------\n",
    "    pl.DataFrame\n",
    "        DataFrame with newly added updated_flag str column.\n",
    "    \"\"\"\n",
    "    updated_flag=pl.Series('updated_flag',[\"R\"]*len(df))\n",
    "    return df.with_columns(updated_flag)\n"
   ]
  },
  {
   "cell_type": "code",
   "execution_count": 21,
   "metadata": {},
   "outputs": [
    {
     "data": {
      "text/html": [
       "<div><style>\n",
       ".dataframe > thead > tr,\n",
       ".dataframe > tbody > tr {\n",
       "  text-align: right;\n",
       "  white-space: pre-wrap;\n",
       "}\n",
       "</style>\n",
       "<small>shape: (5, 14)</small><table border=\"1\" class=\"dataframe\"><thead><tr><th>timestamp</th><th>can_id</th><th>frame_type</th><th>dlc</th><th>byte_0</th><th>byte_1</th><th>byte_2</th><th>byte_3</th><th>byte_4</th><th>byte_5</th><th>byte_6</th><th>byte_7</th><th>datetime</th><th>updated_flag</th></tr><tr><td>f64</td><td>i64</td><td>i64</td><td>i64</td><td>i64</td><td>i64</td><td>i64</td><td>i64</td><td>i64</td><td>i64</td><td>i64</td><td>i64</td><td>datetime[μs]</td><td>str</td></tr></thead><tbody><tr><td>1.4791e9</td><td>848</td><td>0</td><td>8</td><td>5</td><td>40</td><td>132</td><td>102</td><td>109</td><td>0</td><td>0</td><td>162</td><td>2016-11-14 11:03:54</td><td>&quot;R&quot;</td></tr><tr><td>1.4791e9</td><td>704</td><td>0</td><td>8</td><td>20</td><td>0</td><td>0</td><td>0</td><td>0</td><td>0</td><td>0</td><td>0</td><td>2016-11-14 11:03:54</td><td>&quot;R&quot;</td></tr><tr><td>1.4791e9</td><td>1072</td><td>0</td><td>8</td><td>0</td><td>0</td><td>0</td><td>0</td><td>0</td><td>0</td><td>0</td><td>0</td><td>2016-11-14 11:03:54</td><td>&quot;R&quot;</td></tr><tr><td>1.4791e9</td><td>1201</td><td>0</td><td>8</td><td>0</td><td>0</td><td>0</td><td>0</td><td>0</td><td>0</td><td>0</td><td>0</td><td>2016-11-14 11:03:54</td><td>&quot;R&quot;</td></tr><tr><td>1.4791e9</td><td>497</td><td>0</td><td>8</td><td>0</td><td>0</td><td>0</td><td>0</td><td>0</td><td>0</td><td>0</td><td>0</td><td>2016-11-14 11:03:54</td><td>&quot;R&quot;</td></tr></tbody></table></div>"
      ],
      "text/plain": [
       "shape: (5, 14)\n",
       "┌───────────┬────────┬────────────┬─────┬───┬────────┬────────┬─────────────────────┬──────────────┐\n",
       "│ timestamp ┆ can_id ┆ frame_type ┆ dlc ┆ … ┆ byte_6 ┆ byte_7 ┆ datetime            ┆ updated_flag │\n",
       "│ ---       ┆ ---    ┆ ---        ┆ --- ┆   ┆ ---    ┆ ---    ┆ ---                 ┆ ---          │\n",
       "│ f64       ┆ i64    ┆ i64        ┆ i64 ┆   ┆ i64    ┆ i64    ┆ datetime[μs]        ┆ str          │\n",
       "╞═══════════╪════════╪════════════╪═════╪═══╪════════╪════════╪═════════════════════╪══════════════╡\n",
       "│ 1.4791e9  ┆ 848    ┆ 0          ┆ 8   ┆ … ┆ 0      ┆ 162    ┆ 2016-11-14 11:03:54 ┆ R            │\n",
       "│ 1.4791e9  ┆ 704    ┆ 0          ┆ 8   ┆ … ┆ 0      ┆ 0      ┆ 2016-11-14 11:03:54 ┆ R            │\n",
       "│ 1.4791e9  ┆ 1072   ┆ 0          ┆ 8   ┆ … ┆ 0      ┆ 0      ┆ 2016-11-14 11:03:54 ┆ R            │\n",
       "│ 1.4791e9  ┆ 1201   ┆ 0          ┆ 8   ┆ … ┆ 0      ┆ 0      ┆ 2016-11-14 11:03:54 ┆ R            │\n",
       "│ 1.4791e9  ┆ 497    ┆ 0          ┆ 8   ┆ … ┆ 0      ┆ 0      ┆ 2016-11-14 11:03:54 ┆ R            │\n",
       "└───────────┴────────┴────────────┴─────┴───┴────────┴────────┴─────────────────────┴──────────────┘"
      ]
     },
     "execution_count": 21,
     "metadata": {},
     "output_type": "execute_result"
    }
   ],
   "source": [
    "attack_free_df=add_updated_flag_column_to_attack_free(attack_free_df)\n",
    "attack_free_df.head()"
   ]
  },
  {
   "cell_type": "markdown",
   "metadata": {},
   "source": [
    "### Delete Some Features"
   ]
  },
  {
   "cell_type": "markdown",
   "metadata": {},
   "source": [
    "#### frame_type in Attack-Free"
   ]
  },
  {
   "cell_type": "code",
   "execution_count": 22,
   "metadata": {},
   "outputs": [
    {
     "data": {
      "text/html": [
       "<div><style>\n",
       ".dataframe > thead > tr,\n",
       ".dataframe > tbody > tr {\n",
       "  text-align: right;\n",
       "  white-space: pre-wrap;\n",
       "}\n",
       "</style>\n",
       "<small>shape: (1,)</small><table border=\"1\" class=\"dataframe\"><thead><tr><th>frame_type</th></tr><tr><td>i64</td></tr></thead><tbody><tr><td>0</td></tr></tbody></table></div>"
      ],
      "text/plain": [
       "shape: (1,)\n",
       "Series: 'frame_type' [i64]\n",
       "[\n",
       "\t0\n",
       "]"
      ]
     },
     "execution_count": 22,
     "metadata": {},
     "output_type": "execute_result"
    }
   ],
   "source": [
    "attack_free_df[\"frame_type\"].unique()"
   ]
  },
  {
   "attachments": {
    "image.png": {
     "image/png": "[encoded data removed]"
    }
   },
   "cell_type": "markdown",
   "metadata": {},
   "source": [
    " ![image.png](attachment:image.png)"
   ]
  },
  {
   "cell_type": "markdown",
   "metadata": {},
   "source": [
    "- During the conversion of `attack_free.txt` to a CSV file, I noticed an unnamed column, initially assumed it could represent the frame type and added it as such. \n",
    "- However, since its values are all `0` and its purpose is unclear, we decided to remove it from the DataFrame to avoid unnecessary clutter.\n",
    "- You can see an example of this column in the above image."
   ]
  },
  {
   "cell_type": "code",
   "execution_count": 23,
   "metadata": {},
   "outputs": [],
   "source": [
    "\n",
    "def get_byte_column_names(dfs, dlc_column):\n",
    "    max_dlc_value = max([df[dlc_column].max() for df in dfs])\n",
    "    return [f\"byte_{i}\" for i in range(max_dlc_value)]\n"
   ]
  },
  {
   "cell_type": "code",
   "execution_count": 24,
   "metadata": {},
   "outputs": [],
   "source": [
    "def drop_columns(df,columns_to_delete):\n",
    "    \"\"\"\n",
    "    Drop multiple columns from DataFrame\n",
    "    \n",
    "    Parameters\n",
    "    ----------\n",
    "    df : pl.DataFrame\n",
    "        The input DataFrame to which the columns_to_delete will be deleted.\n",
    "\n",
    "    Returns\n",
    "    -------\n",
    "    pl.DataFrame\n",
    "        DataFrame with newly deleted columns.\n",
    "    \"\"\"\n",
    "    return df.drop(columns_to_delete)\n",
    "\n"
   ]
  },
  {
   "cell_type": "code",
   "execution_count": 25,
   "metadata": {},
   "outputs": [],
   "source": [
    "attack_free_df=drop_columns(attack_free_df,[\"frame_type\"])"
   ]
  },
  {
   "cell_type": "code",
   "execution_count": 26,
   "metadata": {},
   "outputs": [
    {
     "name": "stdout",
     "output_type": "stream",
     "text": [
      "['timestamp', 'can_id', 'dlc', 'byte_0', 'byte_1', 'byte_2', 'byte_3', 'byte_4', 'byte_5', 'byte_6', 'byte_7', 'updated_flag', 'datetime']\n",
      "['timestamp', 'can_id', 'dlc', 'byte_0', 'byte_1', 'byte_2', 'byte_3', 'byte_4', 'byte_5', 'byte_6', 'byte_7', 'updated_flag', 'datetime']\n",
      "['timestamp', 'can_id', 'dlc', 'byte_0', 'byte_1', 'byte_2', 'byte_3', 'byte_4', 'byte_5', 'byte_6', 'byte_7', 'datetime', 'updated_flag']\n"
     ]
    }
   ],
   "source": [
    "print(dos_df.columns)\n",
    "print(fuzzy_df.columns)\n",
    "print(attack_free_df.columns)"
   ]
  },
  {
   "cell_type": "markdown",
   "metadata": {},
   "source": [
    "### Swap Features"
   ]
  },
  {
   "cell_type": "code",
   "execution_count": 27,
   "metadata": {},
   "outputs": [],
   "source": [
    "def swap_features_in_specific_order(dfs,specific_order):\n",
    "    \"\"\"\n",
    "    Reorders the features (columns) of each DataFrame in the input list to match a specific order.\n",
    "\n",
    "    Parameters\n",
    "    ----------\n",
    "    dfs : list of pl.DataFrame\n",
    "        A list of DataFrame objects whose columns need to be reordered.\n",
    "    specific_order : list of str\n",
    "        A list specifying the desired column order\n",
    "\n",
    "    Returns\n",
    "    -------\n",
    "    list\n",
    "        A list of DataFrames, each with columns reordered to match the `specific_order`.\n",
    "    \"\"\"\n",
    "    return [\n",
    "    df.select(specific_order)\n",
    "    for df in dfs\n",
    "    ]"
   ]
  },
  {
   "cell_type": "code",
   "execution_count": 28,
   "metadata": {},
   "outputs": [],
   "source": [
    "specific_order = (\n",
    "        [\"can_id\", \"timestamp\", \"datetime\", \"dlc\"]\n",
    "        + [f\"byte_{i}\" for i in range(max_dlc_number)]\n",
    "        + [\"updated_flag\"]\n",
    "    )\n",
    "dos_df,fuzzy_df,attack_free_df=swap_features_in_specific_order([dos_df,fuzzy_df,attack_free_df],specific_order)"
   ]
  },
  {
   "cell_type": "code",
   "execution_count": 29,
   "metadata": {},
   "outputs": [
    {
     "name": "stdout",
     "output_type": "stream",
     "text": [
      "['can_id', 'timestamp', 'datetime', 'dlc', 'byte_0', 'byte_1', 'byte_2', 'byte_3', 'byte_4', 'byte_5', 'byte_6', 'byte_7', 'updated_flag']\n",
      "['can_id', 'timestamp', 'datetime', 'dlc', 'byte_0', 'byte_1', 'byte_2', 'byte_3', 'byte_4', 'byte_5', 'byte_6', 'byte_7', 'updated_flag']\n",
      "['can_id', 'timestamp', 'datetime', 'dlc', 'byte_0', 'byte_1', 'byte_2', 'byte_3', 'byte_4', 'byte_5', 'byte_6', 'byte_7', 'updated_flag']\n"
     ]
    }
   ],
   "source": [
    "print(dos_df.columns)\n",
    "print(fuzzy_df.columns)\n",
    "print(attack_free_df.columns)"
   ]
  },
  {
   "cell_type": "markdown",
   "metadata": {},
   "source": [
    "### Encode Some Features"
   ]
  },
  {
   "cell_type": "markdown",
   "metadata": {},
   "source": [
    "#### Flag"
   ]
  },
  {
   "cell_type": "code",
   "execution_count": 30,
   "metadata": {},
   "outputs": [],
   "source": [
    "def encode_updated_flag_column(df, existing_flag_column_name):\n",
    "    \"\"\"\n",
    "    Encode the updated flag column where 'R' represents normal messages (0) \n",
    "    and 'T' represents injected messages (1).\n",
    "\n",
    "    Parameters\n",
    "    ----------\n",
    "    df : pl.DataFrame\n",
    "        The input DataFrame.\n",
    "    existing_flag_column_name : str\n",
    "        Name of the column to be encoded.\n",
    "\n",
    "    Returns\n",
    "    -------\n",
    "    pl.DataFrame\n",
    "        DataFrame with the encoded flag column.\n",
    "    \"\"\"\n",
    "    return df.with_columns(\n",
    "        #r=normal,t=injected\n",
    "        pl.when(pl.col(existing_flag_column_name) == 'R')\n",
    "        .then(0)\n",
    "        .when(pl.col(existing_flag_column_name) == 'T')\n",
    "        .then(1)\n",
    "        .otherwise(-1)  # Fallback for unexpected values\n",
    "        .alias(existing_flag_column_name)\n",
    "    )\n",
    "\n"
   ]
  },
  {
   "cell_type": "code",
   "execution_count": 31,
   "metadata": {},
   "outputs": [],
   "source": [
    "def encode_multiple_dfs_updated_flag_column(dfs,existing_column_name):\n",
    "    \"\"\"\n",
    "    Encode the updated flag column in multiple DataFrames.\n",
    "\n",
    "    This function applies the `encode_updated_flag_column` method to a list of DataFrames, \n",
    "    encoding the specified column where 'R' represents normal messages (0) and 'T' \n",
    "    represents injected messages (1).\n",
    "\n",
    "    Parameters\n",
    "    ----------\n",
    "    dfs : list of pl.DataFrame\n",
    "        A list of input DataFrames containing the column to be encoded.\n",
    "    existing_column_name : str\n",
    "        The name of the column to encode in each DataFrame.\n",
    "\n",
    "    Returns\n",
    "    -------\n",
    "    list of pl.DataFrame\n",
    "        A list of DataFrames with the specified column encoded.\n",
    "    \"\"\"\n",
    "    return [\n",
    "    encode_updated_flag_column(df, existing_column_name)\n",
    "    for df in dfs\n",
    "    ]"
   ]
  },
  {
   "cell_type": "code",
   "execution_count": 32,
   "metadata": {},
   "outputs": [],
   "source": [
    "dos_df,fuzzy_df,attack_free_df=encode_multiple_dfs_updated_flag_column([dos_df,fuzzy_df,attack_free_df],\"updated_flag\")"
   ]
  },
  {
   "cell_type": "code",
   "execution_count": 33,
   "metadata": {},
   "outputs": [
    {
     "data": {
      "text/html": [
       "<div><style>\n",
       ".dataframe > thead > tr,\n",
       ".dataframe > tbody > tr {\n",
       "  text-align: right;\n",
       "  white-space: pre-wrap;\n",
       "}\n",
       "</style>\n",
       "<small>shape: (5, 13)</small><table border=\"1\" class=\"dataframe\"><thead><tr><th>can_id</th><th>timestamp</th><th>datetime</th><th>dlc</th><th>byte_0</th><th>byte_1</th><th>byte_2</th><th>byte_3</th><th>byte_4</th><th>byte_5</th><th>byte_6</th><th>byte_7</th><th>updated_flag</th></tr><tr><td>i64</td><td>f64</td><td>datetime[μs]</td><td>i64</td><td>i64</td><td>i64</td><td>i64</td><td>i64</td><td>i64</td><td>i64</td><td>i64</td><td>i64</td><td>i32</td></tr></thead><tbody><tr><td>399</td><td>1.4782e9</td><td>2016-11-03 18:39:36</td><td>8</td><td>254</td><td>91</td><td>0</td><td>0</td><td>0</td><td>60</td><td>0</td><td>0</td><td>0</td></tr><tr><td>608</td><td>1.4782e9</td><td>2016-11-03 18:39:36</td><td>8</td><td>25</td><td>33</td><td>34</td><td>48</td><td>8</td><td>142</td><td>109</td><td>58</td><td>0</td></tr><tr><td>672</td><td>1.4782e9</td><td>2016-11-03 18:39:36</td><td>8</td><td>100</td><td>0</td><td>154</td><td>29</td><td>151</td><td>2</td><td>189</td><td>0</td><td>0</td></tr><tr><td>809</td><td>1.4782e9</td><td>2016-11-03 18:39:36</td><td>8</td><td>64</td><td>187</td><td>127</td><td>20</td><td>17</td><td>32</td><td>0</td><td>20</td><td>0</td></tr><tr><td>1349</td><td>1.4782e9</td><td>2016-11-03 18:39:36</td><td>8</td><td>216</td><td>0</td><td>0</td><td>138</td><td>0</td><td>0</td><td>0</td><td>0</td><td>0</td></tr></tbody></table></div>"
      ],
      "text/plain": [
       "shape: (5, 13)\n",
       "┌────────┬───────────┬─────────────────────┬─────┬───┬────────┬────────┬────────┬──────────────┐\n",
       "│ can_id ┆ timestamp ┆ datetime            ┆ dlc ┆ … ┆ byte_5 ┆ byte_6 ┆ byte_7 ┆ updated_flag │\n",
       "│ ---    ┆ ---       ┆ ---                 ┆ --- ┆   ┆ ---    ┆ ---    ┆ ---    ┆ ---          │\n",
       "│ i64    ┆ f64       ┆ datetime[μs]        ┆ i64 ┆   ┆ i64    ┆ i64    ┆ i64    ┆ i32          │\n",
       "╞════════╪═══════════╪═════════════════════╪═════╪═══╪════════╪════════╪════════╪══════════════╡\n",
       "│ 399    ┆ 1.4782e9  ┆ 2016-11-03 18:39:36 ┆ 8   ┆ … ┆ 60     ┆ 0      ┆ 0      ┆ 0            │\n",
       "│ 608    ┆ 1.4782e9  ┆ 2016-11-03 18:39:36 ┆ 8   ┆ … ┆ 142    ┆ 109    ┆ 58     ┆ 0            │\n",
       "│ 672    ┆ 1.4782e9  ┆ 2016-11-03 18:39:36 ┆ 8   ┆ … ┆ 2      ┆ 189    ┆ 0      ┆ 0            │\n",
       "│ 809    ┆ 1.4782e9  ┆ 2016-11-03 18:39:36 ┆ 8   ┆ … ┆ 32     ┆ 0      ┆ 20     ┆ 0            │\n",
       "│ 1349   ┆ 1.4782e9  ┆ 2016-11-03 18:39:36 ┆ 8   ┆ … ┆ 0      ┆ 0      ┆ 0      ┆ 0            │\n",
       "└────────┴───────────┴─────────────────────┴─────┴───┴────────┴────────┴────────┴──────────────┘"
      ]
     },
     "execution_count": 33,
     "metadata": {},
     "output_type": "execute_result"
    }
   ],
   "source": [
    "dos_df.head()"
   ]
  },
  {
   "cell_type": "code",
   "execution_count": 34,
   "metadata": {},
   "outputs": [
    {
     "data": {
      "text/html": [
       "<div><style>\n",
       ".dataframe > thead > tr,\n",
       ".dataframe > tbody > tr {\n",
       "  text-align: right;\n",
       "  white-space: pre-wrap;\n",
       "}\n",
       "</style>\n",
       "<small>shape: (5, 13)</small><table border=\"1\" class=\"dataframe\"><thead><tr><th>can_id</th><th>timestamp</th><th>datetime</th><th>dlc</th><th>byte_0</th><th>byte_1</th><th>byte_2</th><th>byte_3</th><th>byte_4</th><th>byte_5</th><th>byte_6</th><th>byte_7</th><th>updated_flag</th></tr><tr><td>i64</td><td>f64</td><td>datetime[μs]</td><td>i64</td><td>i64</td><td>i64</td><td>i64</td><td>i64</td><td>i64</td><td>i64</td><td>i64</td><td>i64</td><td>i32</td></tr></thead><tbody><tr><td>688</td><td>1.4782e9</td><td>2016-11-03 17:55:21</td><td>5</td><td>255</td><td>127</td><td>0</td><td>5</td><td>73</td><td>null</td><td>null</td><td>null</td><td>0</td></tr><tr><td>2</td><td>1.4782e9</td><td>2016-11-03 17:55:21</td><td>8</td><td>0</td><td>0</td><td>0</td><td>0</td><td>0</td><td>1</td><td>7</td><td>21</td><td>0</td></tr><tr><td>339</td><td>1.4782e9</td><td>2016-11-03 17:55:21</td><td>8</td><td>0</td><td>33</td><td>16</td><td>255</td><td>0</td><td>255</td><td>0</td><td>0</td><td>0</td></tr><tr><td>304</td><td>1.4782e9</td><td>2016-11-03 17:55:21</td><td>8</td><td>25</td><td>128</td><td>0</td><td>255</td><td>254</td><td>127</td><td>7</td><td>96</td><td>0</td></tr><tr><td>305</td><td>1.4782e9</td><td>2016-11-03 17:55:21</td><td>8</td><td>23</td><td>128</td><td>0</td><td>0</td><td>101</td><td>127</td><td>7</td><td>159</td><td>0</td></tr></tbody></table></div>"
      ],
      "text/plain": [
       "shape: (5, 13)\n",
       "┌────────┬───────────┬─────────────────────┬─────┬───┬────────┬────────┬────────┬──────────────┐\n",
       "│ can_id ┆ timestamp ┆ datetime            ┆ dlc ┆ … ┆ byte_5 ┆ byte_6 ┆ byte_7 ┆ updated_flag │\n",
       "│ ---    ┆ ---       ┆ ---                 ┆ --- ┆   ┆ ---    ┆ ---    ┆ ---    ┆ ---          │\n",
       "│ i64    ┆ f64       ┆ datetime[μs]        ┆ i64 ┆   ┆ i64    ┆ i64    ┆ i64    ┆ i32          │\n",
       "╞════════╪═══════════╪═════════════════════╪═════╪═══╪════════╪════════╪════════╪══════════════╡\n",
       "│ 688    ┆ 1.4782e9  ┆ 2016-11-03 17:55:21 ┆ 5   ┆ … ┆ null   ┆ null   ┆ null   ┆ 0            │\n",
       "│ 2      ┆ 1.4782e9  ┆ 2016-11-03 17:55:21 ┆ 8   ┆ … ┆ 1      ┆ 7      ┆ 21     ┆ 0            │\n",
       "│ 339    ┆ 1.4782e9  ┆ 2016-11-03 17:55:21 ┆ 8   ┆ … ┆ 255    ┆ 0      ┆ 0      ┆ 0            │\n",
       "│ 304    ┆ 1.4782e9  ┆ 2016-11-03 17:55:21 ┆ 8   ┆ … ┆ 127    ┆ 7      ┆ 96     ┆ 0            │\n",
       "│ 305    ┆ 1.4782e9  ┆ 2016-11-03 17:55:21 ┆ 8   ┆ … ┆ 127    ┆ 7      ┆ 159    ┆ 0            │\n",
       "└────────┴───────────┴─────────────────────┴─────┴───┴────────┴────────┴────────┴──────────────┘"
      ]
     },
     "execution_count": 34,
     "metadata": {},
     "output_type": "execute_result"
    }
   ],
   "source": [
    "fuzzy_df.head()"
   ]
  },
  {
   "cell_type": "code",
   "execution_count": 35,
   "metadata": {},
   "outputs": [
    {
     "data": {
      "text/html": [
       "<div><style>\n",
       ".dataframe > thead > tr,\n",
       ".dataframe > tbody > tr {\n",
       "  text-align: right;\n",
       "  white-space: pre-wrap;\n",
       "}\n",
       "</style>\n",
       "<small>shape: (5, 13)</small><table border=\"1\" class=\"dataframe\"><thead><tr><th>can_id</th><th>timestamp</th><th>datetime</th><th>dlc</th><th>byte_0</th><th>byte_1</th><th>byte_2</th><th>byte_3</th><th>byte_4</th><th>byte_5</th><th>byte_6</th><th>byte_7</th><th>updated_flag</th></tr><tr><td>i64</td><td>f64</td><td>datetime[μs]</td><td>i64</td><td>i64</td><td>i64</td><td>i64</td><td>i64</td><td>i64</td><td>i64</td><td>i64</td><td>i64</td><td>i32</td></tr></thead><tbody><tr><td>848</td><td>1.4791e9</td><td>2016-11-14 11:03:54</td><td>8</td><td>5</td><td>40</td><td>132</td><td>102</td><td>109</td><td>0</td><td>0</td><td>162</td><td>0</td></tr><tr><td>704</td><td>1.4791e9</td><td>2016-11-14 11:03:54</td><td>8</td><td>20</td><td>0</td><td>0</td><td>0</td><td>0</td><td>0</td><td>0</td><td>0</td><td>0</td></tr><tr><td>1072</td><td>1.4791e9</td><td>2016-11-14 11:03:54</td><td>8</td><td>0</td><td>0</td><td>0</td><td>0</td><td>0</td><td>0</td><td>0</td><td>0</td><td>0</td></tr><tr><td>1201</td><td>1.4791e9</td><td>2016-11-14 11:03:54</td><td>8</td><td>0</td><td>0</td><td>0</td><td>0</td><td>0</td><td>0</td><td>0</td><td>0</td><td>0</td></tr><tr><td>497</td><td>1.4791e9</td><td>2016-11-14 11:03:54</td><td>8</td><td>0</td><td>0</td><td>0</td><td>0</td><td>0</td><td>0</td><td>0</td><td>0</td><td>0</td></tr></tbody></table></div>"
      ],
      "text/plain": [
       "shape: (5, 13)\n",
       "┌────────┬───────────┬─────────────────────┬─────┬───┬────────┬────────┬────────┬──────────────┐\n",
       "│ can_id ┆ timestamp ┆ datetime            ┆ dlc ┆ … ┆ byte_5 ┆ byte_6 ┆ byte_7 ┆ updated_flag │\n",
       "│ ---    ┆ ---       ┆ ---                 ┆ --- ┆   ┆ ---    ┆ ---    ┆ ---    ┆ ---          │\n",
       "│ i64    ┆ f64       ┆ datetime[μs]        ┆ i64 ┆   ┆ i64    ┆ i64    ┆ i64    ┆ i32          │\n",
       "╞════════╪═══════════╪═════════════════════╪═════╪═══╪════════╪════════╪════════╪══════════════╡\n",
       "│ 848    ┆ 1.4791e9  ┆ 2016-11-14 11:03:54 ┆ 8   ┆ … ┆ 0      ┆ 0      ┆ 162    ┆ 0            │\n",
       "│ 704    ┆ 1.4791e9  ┆ 2016-11-14 11:03:54 ┆ 8   ┆ … ┆ 0      ┆ 0      ┆ 0      ┆ 0            │\n",
       "│ 1072   ┆ 1.4791e9  ┆ 2016-11-14 11:03:54 ┆ 8   ┆ … ┆ 0      ┆ 0      ┆ 0      ┆ 0            │\n",
       "│ 1201   ┆ 1.4791e9  ┆ 2016-11-14 11:03:54 ┆ 8   ┆ … ┆ 0      ┆ 0      ┆ 0      ┆ 0            │\n",
       "│ 497    ┆ 1.4791e9  ┆ 2016-11-14 11:03:54 ┆ 8   ┆ … ┆ 0      ┆ 0      ┆ 0      ┆ 0            │\n",
       "└────────┴───────────┴─────────────────────┴─────┴───┴────────┴────────┴────────┴──────────────┘"
      ]
     },
     "execution_count": 35,
     "metadata": {},
     "output_type": "execute_result"
    }
   ],
   "source": [
    "attack_free_df.head()"
   ]
  },
  {
   "cell_type": "markdown",
   "metadata": {},
   "source": [
    "#### Datetime"
   ]
  },
  {
   "cell_type": "code",
   "execution_count": 36,
   "metadata": {},
   "outputs": [
    {
     "data": {
      "text/plain": [
       "Datetime(time_unit='us', time_zone=None)"
      ]
     },
     "execution_count": 36,
     "metadata": {},
     "output_type": "execute_result"
    }
   ],
   "source": [
    "dos_df[\"datetime\"].dtype"
   ]
  }
 ],
 "metadata": {
  "kernelspec": {
   "display_name": "naz-ids-dev",
   "language": "python",
   "name": "python3"
  },
  "language_info": {
   "codemirror_mode": {
    "name": "ipython",
    "version": 3
   },
   "file_extension": ".py",
   "mimetype": "text/x-python",
   "name": "python",
   "nbconvert_exporter": "python",
   "pygments_lexer": "ipython3",
   "version": "3.11.5"
  }
 },
 "nbformat": 4,
 "nbformat_minor": 2
}
