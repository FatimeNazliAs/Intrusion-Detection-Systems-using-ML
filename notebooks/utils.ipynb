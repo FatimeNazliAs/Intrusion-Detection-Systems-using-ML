{
 "cells": [
  {
   "cell_type": "code",
   "execution_count": 13,
   "metadata": {},
   "outputs": [],
   "source": [
    "from omegaconf import OmegaConf\n",
    "import os\n",
    "import polars as pl\n",
    "import pandas as pd\n",
    "from omegaconf import OmegaConf\n"
   ]
  },
  {
   "cell_type": "code",
   "execution_count": 15,
   "metadata": {},
   "outputs": [],
   "source": [
    "def load_data_paths(path_type):\n",
    "    \"\"\"Load dataset paths from config.yaml based on the given path type.\n",
    "\n",
    "    Parameters\n",
    "    ----------\n",
    "    path_type : str\n",
    "        Either 'in_paths' for input files or 'out_paths' for output files.\n",
    "\n",
    "    Returns\n",
    "    -------\n",
    "    dict\n",
    "        a dictionary where each key is dataset name, each value is its full file path.\n",
    "    Raises\n",
    "    ------\n",
    "    ValueError\n",
    "        If 'path_type' is not found in the config file.\n",
    "    \"\"\"\n",
    "    current_path=os.getcwd()\n",
    "    dir=os.path.abspath(os.path.join(current_path, os.pardir))\n",
    "    config_path = os.path.join(dir, \"config.yaml\")\n",
    "    config = OmegaConf.load(config_path)\n",
    "    if path_type not in config:\n",
    "        raise ValueError(\n",
    "            f\"Invalid path_type '{path_type}'. Choose 'in_paths' or 'out_paths'.\"\n",
    "        )\n",
    "\n",
    "    paths_dict = config[path_type]\n",
    "    data_paths_dict = {\n",
    "        key: os.path.join(dir, value).replace(\"\\\\\", \"/\")\n",
    "        for key, value in paths_dict.items()\n",
    "    }\n",
    "    return data_paths_dict\n"
   ]
  },
  {
   "cell_type": "code",
   "execution_count": 18,
   "metadata": {},
   "outputs": [
    {
     "data": {
      "text/plain": [
       "{'dos_df': 'c:/Users/Naz/Documents/GitHub/Newky/IDS/Intrusion-Detection-Systems-using-ML/output/dos_df.csv',\n",
       " 'fuzzy_df': 'c:/Users/Naz/Documents/GitHub/Newky/IDS/Intrusion-Detection-Systems-using-ML/output/fuzzy_df.csv',\n",
       " 'attack_free_df': 'c:/Users/Naz/Documents/GitHub/Newky/IDS/Intrusion-Detection-Systems-using-ML/output/attack_free_df.csv'}"
      ]
     },
     "execution_count": 18,
     "metadata": {},
     "output_type": "execute_result"
    }
   ],
   "source": [
    "load_data_paths(\"out_paths\")"
   ]
  },
  {
   "cell_type": "code",
   "execution_count": null,
   "metadata": {},
   "outputs": [],
   "source": []
  }
 ],
 "metadata": {
  "kernelspec": {
   "display_name": "naz-ids-dev",
   "language": "python",
   "name": "python3"
  },
  "language_info": {
   "codemirror_mode": {
    "name": "ipython",
    "version": 3
   },
   "file_extension": ".py",
   "mimetype": "text/x-python",
   "name": "python",
   "nbconvert_exporter": "python",
   "pygments_lexer": "ipython3",
   "version": "3.11.5"
  }
 },
 "nbformat": 4,
 "nbformat_minor": 2
}
