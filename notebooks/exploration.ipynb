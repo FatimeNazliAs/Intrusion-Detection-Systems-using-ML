{
 "cells": [
  {
   "cell_type": "code",
   "execution_count": 99,
   "metadata": {},
   "outputs": [],
   "source": [
    "from datetime import datetime\n",
    "import pandas as pd"
   ]
  },
  {
   "cell_type": "code",
   "execution_count": 100,
   "metadata": {},
   "outputs": [],
   "source": [
    "dos_df_path = \"C:/Users/Naz/Documents/GitHub/Newky/IDS/Intrusion-Detection-Systems-using-ML/output/dos_df.csv\"\n",
    "fuzzy_df_path = \"C:/Users/Naz/Documents/GitHub/Newky/IDS/Intrusion-Detection-Systems-using-ML/output/fuzzy_df.csv\"\n",
    "attack_free_df_path = \"C:/Users/Naz/Documents/GitHub/Newky/IDS/Intrusion-Detection-Systems-using-ML/output/attack_free_df.csv\"\n",
    "\n",
    "dos_df=pd.read_csv(dos_df_path)\n",
    "fuzzy_df=pd.read_csv(fuzzy_df_path)\n",
    "attack_free_df=pd.read_csv(attack_free_df_path)"
   ]
  },
  {
   "cell_type": "markdown",
   "metadata": {},
   "source": [
    "# Exploratory Data Analysis"
   ]
  },
  {
   "cell_type": "markdown",
   "metadata": {},
   "source": [
    "## Common Methods"
   ]
  },
  {
   "cell_type": "code",
   "execution_count": 101,
   "metadata": {},
   "outputs": [],
   "source": [
    "def show_shape_info_of_data(data):\n",
    "    print(\"Data Shape\")\n",
    "    print(\"*\" * 40)\n",
    "    print(f\"Rows: {data.shape[0]}, Columns: {data.shape[1]}\")\n",
    "    print(\"\\nInfo\")\n",
    "    print(\"*\" * 40)\n",
    "    info_dict={\n",
    "        \"Column\": data.columns,\n",
    "        \"Data Type\": data.dtypes,\n",
    "        \"Null Count\": data.isnull().sum(),\n",
    "        \"Unique Count\":data.nunique()}\n",
    "    info_df = pd.DataFrame(info_dict)\n",
    "    print(info_df.to_string(index=False))\n"
   ]
  },
  {
   "cell_type": "code",
   "execution_count": 102,
   "metadata": {},
   "outputs": [],
   "source": [
    "def merge_bytes_into_one_column(cols,new_column_name,data):\n",
    "    data[new_column_name] = \"\"\n",
    "    for col in cols:\n",
    "        data[new_column_name]+=data[col]\n",
    "    return data\n"
   ]
  },
  {
   "cell_type": "code",
   "execution_count": 103,
   "metadata": {},
   "outputs": [],
   "source": [
    "def convert_timestamp_to_datetime(col_to_be_added_name,existing_col_name, data):\n",
    "    data[col_to_be_added_name] = pd.to_datetime(data[existing_col_name], unit='s')\n",
    "    return data"
   ]
  },
  {
   "cell_type": "code",
   "execution_count": 104,
   "metadata": {},
   "outputs": [],
   "source": [
    "def divide_datetime_into_hour_day_month_year(existing_col_name,data):\n",
    "    data['year'] = data[existing_col_name].dt.year\n",
    "    data['month'] = data[existing_col_name].dt.month\n",
    "    data['day'] = data[existing_col_name].dt.day\n",
    "    data['hour']=data[existing_col_name].dt.hour\n",
    "\n",
    "    return data\n"
   ]
  },
  {
   "cell_type": "code",
   "execution_count": 105,
   "metadata": {},
   "outputs": [],
   "source": [
    "def convert_hex_to_int(value):\n",
    "    if isinstance(value, str):\n",
    "        return int(value, 16)\n",
    "    return value  "
   ]
  },
  {
   "cell_type": "code",
   "execution_count": 106,
   "metadata": {},
   "outputs": [],
   "source": [
    "def show_unique_hour_day_month_year_of_timestamp(data):\n",
    "    for d in ['day','month','year','hour']:\n",
    "        print(d,data[d].unique())"
   ]
  },
  {
   "cell_type": "markdown",
   "metadata": {},
   "source": [
    "## DoS"
   ]
  },
  {
   "cell_type": "code",
   "execution_count": 107,
   "metadata": {},
   "outputs": [
    {
     "name": "stdout",
     "output_type": "stream",
     "text": [
      "Data Shape\n",
      "****************************************\n",
      "Rows: 3665770, Columns: 12\n",
      "\n",
      "Info\n",
      "****************************************\n",
      "   Column Data Type  Null Count  Unique Count\n",
      "timestamp   float64           0       3665770\n",
      "    canid    object           0            27\n",
      "      dlc     int64           0             2\n",
      "    byte0    object           0           108\n",
      "    byte1    object           0            71\n",
      "    byte2    object           0            76\n",
      "    byte3    object       31188            26\n",
      "    byte4    object       31188           190\n",
      "    byte5    object       31188           256\n",
      "    byte6    object       31188            75\n",
      "    byte7    object       31188           256\n",
      "     flag    object       31188             2\n"
     ]
    }
   ],
   "source": [
    "dos_df_copy=dos_df\n",
    "show_shape_info_of_data(dos_df)"
   ]
  },
  {
   "cell_type": "code",
   "execution_count": 108,
   "metadata": {},
   "outputs": [],
   "source": [
    "dos_df_copy=convert_timestamp_to_datetime(\"datetime\",\"timestamp\", dos_df_copy)\n",
    "dos_df_copy=divide_datetime_into_hour_day_month_year(\"datetime\",dos_df_copy)"
   ]
  },
  {
   "cell_type": "code",
   "execution_count": 109,
   "metadata": {},
   "outputs": [
    {
     "name": "stdout",
     "output_type": "stream",
     "text": [
      "day [3]\n",
      "month [11]\n",
      "year [2016]\n",
      "hour [18 19]\n"
     ]
    }
   ],
   "source": [
    "show_unique_hour_day_month_year_of_timestamp(dos_df_copy)\n"
   ]
  },
  {
   "cell_type": "code",
   "execution_count": 110,
   "metadata": {},
   "outputs": [
    {
     "data": {
      "text/plain": [
       "hour\n",
       "19    2271240\n",
       "18    1394530\n",
       "Name: count, dtype: int64"
      ]
     },
     "execution_count": 110,
     "metadata": {},
     "output_type": "execute_result"
    }
   ],
   "source": [
    "dos_df_copy[\"hour\"].value_counts()"
   ]
  },
  {
   "cell_type": "code",
   "execution_count": 111,
   "metadata": {},
   "outputs": [],
   "source": [
    "col=\"canid\"\n",
    "dos_df_copy[\"canid_int\"] = dos_df_copy[col].apply(convert_hex_to_int)"
   ]
  },
  {
   "cell_type": "code",
   "execution_count": 112,
   "metadata": {},
   "outputs": [],
   "source": [
    "#dos_df_copy[\"canid_int\"].value_counts()"
   ]
  },
  {
   "cell_type": "code",
   "execution_count": 113,
   "metadata": {},
   "outputs": [
    {
     "data": {
      "text/plain": [
       "array([8, 2])"
      ]
     },
     "execution_count": 113,
     "metadata": {},
     "output_type": "execute_result"
    }
   ],
   "source": [
    "col=\"dlc\"\n",
    "dos_df_copy[col].unique()"
   ]
  },
  {
   "cell_type": "code",
   "execution_count": 114,
   "metadata": {},
   "outputs": [
    {
     "data": {
      "text/plain": [
       "flag\n",
       "R    3047061\n",
       "T     587521\n",
       "Name: count, dtype: int64"
      ]
     },
     "execution_count": 114,
     "metadata": {},
     "output_type": "execute_result"
    }
   ],
   "source": [
    "col=\"flag\"\n",
    "dos_df_copy[col].value_counts()"
   ]
  },
  {
   "cell_type": "code",
   "execution_count": 115,
   "metadata": {},
   "outputs": [],
   "source": [
    "bytes_col_list=[col for col in dos_df_copy.columns if col.startswith(\"byte\")]\n",
    "dos_df_copy=merge_bytes_into_one_column(bytes_col_list,\"merged_bytes\",dos_df_copy)"
   ]
  },
  {
   "cell_type": "code",
   "execution_count": 116,
   "metadata": {},
   "outputs": [
    {
     "data": {
      "text/plain": [
       "66913"
      ]
     },
     "execution_count": 116,
     "metadata": {},
     "output_type": "execute_result"
    }
   ],
   "source": [
    "col=\"merged_bytes\"\n",
    "dos_df_copy[col].nunique()"
   ]
  },
  {
   "cell_type": "code",
   "execution_count": 117,
   "metadata": {},
   "outputs": [],
   "source": [
    "#dos_df_copy.head()"
   ]
  },
  {
   "cell_type": "markdown",
   "metadata": {},
   "source": [
    "### Insights about DoS Attack\n",
    "\n",
    "- Data was collected in November 3, 2016 and in two hours.\n",
    "- CAN ID\n",
    "    - Most rows are with id 0. It can be DoS attack.\n",
    "    - Data with 160 and 161 are smallest number after O. When we think about DoS attack logic, they can also be considered as attack. \n",
    "    - **But the problem is 160 and 161 id exist so rare.**\n",
    "- DLC\n",
    "    - It shows length of data field in bytes.\n",
    "    - It is either 2 or 8.\n",
    "- Byte0 ... Byte7\n",
    "    - it shows data field in eight columns in bytes.\n",
    "    - First three byte have no null count. Last 5 byte have more than 30k null count. \n",
    "    - When you merge 8 columns into one columns, you can seee 66K unique data field.\n",
    "    - **The problem is we have either 2 byte or 8 byte data. How can 5 byte null be possible?**\n",
    "- Flag\n",
    "    - It can be T or R\n",
    "        - T-> injected message\n",
    "        - R-> normal message\n",
    "    - Normal message is nearly five times bigger than injected message.\n"
   ]
  },
  {
   "cell_type": "markdown",
   "metadata": {},
   "source": [
    "## Fuzzy"
   ]
  },
  {
   "cell_type": "code",
   "execution_count": 118,
   "metadata": {},
   "outputs": [
    {
     "name": "stdout",
     "output_type": "stream",
     "text": [
      "Data Shape\n",
      "****************************************\n",
      "Rows: 3838859, Columns: 12\n",
      "\n",
      "Info\n",
      "****************************************\n",
      "   Column Data Type  Null Count  Unique Count\n",
      "timestamp   float64           0       3838859\n",
      "    canid    object           0          2048\n",
      "      dlc     int64           0             4\n",
      "    byte0    object           0           256\n",
      "    byte1    object           0           256\n",
      "    byte2    object           0           257\n",
      "    byte3    object       34382           256\n",
      "    byte4    object       34382           256\n",
      "    byte5    object       34382           257\n",
      "    byte6    object       87833           257\n",
      "    byte7    object       87836           256\n",
      "     flag    object       87836             2\n"
     ]
    }
   ],
   "source": [
    "fuzzy_df_copy=fuzzy_df\n",
    "show_shape_info_of_data(fuzzy_df_copy)"
   ]
  },
  {
   "cell_type": "code",
   "execution_count": 119,
   "metadata": {},
   "outputs": [],
   "source": [
    "fuzzy_df_copy=convert_timestamp_to_datetime(\"datetime\",\"timestamp\", fuzzy_df_copy)\n",
    "fuzzy_df_copy=divide_datetime_into_hour_day_month_year(\"datetime\",fuzzy_df_copy)"
   ]
  },
  {
   "cell_type": "code",
   "execution_count": 120,
   "metadata": {},
   "outputs": [
    {
     "name": "stdout",
     "output_type": "stream",
     "text": [
      "day [3]\n",
      "month [11]\n",
      "year [2016]\n",
      "hour [17 18 19]\n"
     ]
    }
   ],
   "source": [
    "show_unique_hour_day_month_year_of_timestamp(fuzzy_df_copy)"
   ]
  },
  {
   "cell_type": "code",
   "execution_count": 121,
   "metadata": {},
   "outputs": [],
   "source": [
    "col=\"canid\"\n",
    "fuzzy_df_copy[\"canid_int\"] = fuzzy_df_copy[col].apply(convert_hex_to_int)"
   ]
  },
  {
   "cell_type": "code",
   "execution_count": 122,
   "metadata": {},
   "outputs": [],
   "source": [
    "col=\"canid_int\"\n",
    "#fuzzy_df_copy[col].value_counts()[:20]"
   ]
  },
  {
   "cell_type": "code",
   "execution_count": 123,
   "metadata": {},
   "outputs": [
    {
     "data": {
      "text/plain": [
       "array([5, 8, 2, 6])"
      ]
     },
     "execution_count": 123,
     "metadata": {},
     "output_type": "execute_result"
    }
   ],
   "source": [
    "col=\"dlc\"\n",
    "fuzzy_df_copy[col].unique()"
   ]
  },
  {
   "cell_type": "code",
   "execution_count": 124,
   "metadata": {},
   "outputs": [],
   "source": [
    "fuzzy_df_copy=merge_bytes_into_one_column(bytes_col_list,\"merged_bytes\",fuzzy_df_copy)"
   ]
  },
  {
   "cell_type": "code",
   "execution_count": 125,
   "metadata": {},
   "outputs": [
    {
     "data": {
      "text/plain": [
       "560012"
      ]
     },
     "execution_count": 125,
     "metadata": {},
     "output_type": "execute_result"
    }
   ],
   "source": [
    "col=\"merged_bytes\"\n",
    "fuzzy_df_copy[col].nunique()"
   ]
  },
  {
   "cell_type": "code",
   "execution_count": 126,
   "metadata": {},
   "outputs": [
    {
     "data": {
      "text/html": [
       "<div>\n",
       "<style scoped>\n",
       "    .dataframe tbody tr th:only-of-type {\n",
       "        vertical-align: middle;\n",
       "    }\n",
       "\n",
       "    .dataframe tbody tr th {\n",
       "        vertical-align: top;\n",
       "    }\n",
       "\n",
       "    .dataframe thead th {\n",
       "        text-align: right;\n",
       "    }\n",
       "</style>\n",
       "<table border=\"1\" class=\"dataframe\">\n",
       "  <thead>\n",
       "    <tr style=\"text-align: right;\">\n",
       "      <th></th>\n",
       "      <th>timestamp</th>\n",
       "      <th>canid</th>\n",
       "      <th>dlc</th>\n",
       "      <th>byte0</th>\n",
       "      <th>byte1</th>\n",
       "      <th>byte2</th>\n",
       "      <th>byte3</th>\n",
       "      <th>byte4</th>\n",
       "      <th>byte5</th>\n",
       "      <th>byte6</th>\n",
       "      <th>byte7</th>\n",
       "      <th>flag</th>\n",
       "      <th>datetime</th>\n",
       "      <th>year</th>\n",
       "      <th>month</th>\n",
       "      <th>day</th>\n",
       "      <th>hour</th>\n",
       "      <th>canid_int</th>\n",
       "      <th>merged_bytes</th>\n",
       "    </tr>\n",
       "  </thead>\n",
       "  <tbody>\n",
       "    <tr>\n",
       "      <th>0</th>\n",
       "      <td>1.478196e+09</td>\n",
       "      <td>02b0</td>\n",
       "      <td>5</td>\n",
       "      <td>ff</td>\n",
       "      <td>7f</td>\n",
       "      <td>00</td>\n",
       "      <td>05</td>\n",
       "      <td>49</td>\n",
       "      <td>R</td>\n",
       "      <td>NaN</td>\n",
       "      <td>NaN</td>\n",
       "      <td>NaN</td>\n",
       "      <td>2016-11-03 17:55:21.905735970</td>\n",
       "      <td>2016</td>\n",
       "      <td>11</td>\n",
       "      <td>3</td>\n",
       "      <td>17</td>\n",
       "      <td>688</td>\n",
       "      <td>NaN</td>\n",
       "    </tr>\n",
       "    <tr>\n",
       "      <th>1</th>\n",
       "      <td>1.478196e+09</td>\n",
       "      <td>0002</td>\n",
       "      <td>8</td>\n",
       "      <td>00</td>\n",
       "      <td>00</td>\n",
       "      <td>00</td>\n",
       "      <td>00</td>\n",
       "      <td>00</td>\n",
       "      <td>01</td>\n",
       "      <td>07</td>\n",
       "      <td>15</td>\n",
       "      <td>R</td>\n",
       "      <td>2016-11-03 17:55:21.908437014</td>\n",
       "      <td>2016</td>\n",
       "      <td>11</td>\n",
       "      <td>3</td>\n",
       "      <td>17</td>\n",
       "      <td>2</td>\n",
       "      <td>0000000000010715</td>\n",
       "    </tr>\n",
       "    <tr>\n",
       "      <th>2</th>\n",
       "      <td>1.478196e+09</td>\n",
       "      <td>0153</td>\n",
       "      <td>8</td>\n",
       "      <td>00</td>\n",
       "      <td>21</td>\n",
       "      <td>10</td>\n",
       "      <td>ff</td>\n",
       "      <td>00</td>\n",
       "      <td>ff</td>\n",
       "      <td>00</td>\n",
       "      <td>00</td>\n",
       "      <td>R</td>\n",
       "      <td>2016-11-03 17:55:21.908675909</td>\n",
       "      <td>2016</td>\n",
       "      <td>11</td>\n",
       "      <td>3</td>\n",
       "      <td>17</td>\n",
       "      <td>339</td>\n",
       "      <td>002110ff00ff0000</td>\n",
       "    </tr>\n",
       "    <tr>\n",
       "      <th>3</th>\n",
       "      <td>1.478196e+09</td>\n",
       "      <td>0130</td>\n",
       "      <td>8</td>\n",
       "      <td>19</td>\n",
       "      <td>80</td>\n",
       "      <td>00</td>\n",
       "      <td>ff</td>\n",
       "      <td>fe</td>\n",
       "      <td>7f</td>\n",
       "      <td>07</td>\n",
       "      <td>60</td>\n",
       "      <td>R</td>\n",
       "      <td>2016-11-03 17:55:21.909414053</td>\n",
       "      <td>2016</td>\n",
       "      <td>11</td>\n",
       "      <td>3</td>\n",
       "      <td>17</td>\n",
       "      <td>304</td>\n",
       "      <td>198000fffe7f0760</td>\n",
       "    </tr>\n",
       "    <tr>\n",
       "      <th>4</th>\n",
       "      <td>1.478196e+09</td>\n",
       "      <td>0131</td>\n",
       "      <td>8</td>\n",
       "      <td>17</td>\n",
       "      <td>80</td>\n",
       "      <td>00</td>\n",
       "      <td>00</td>\n",
       "      <td>65</td>\n",
       "      <td>7f</td>\n",
       "      <td>07</td>\n",
       "      <td>9f</td>\n",
       "      <td>R</td>\n",
       "      <td>2016-11-03 17:55:21.909660101</td>\n",
       "      <td>2016</td>\n",
       "      <td>11</td>\n",
       "      <td>3</td>\n",
       "      <td>17</td>\n",
       "      <td>305</td>\n",
       "      <td>17800000657f079f</td>\n",
       "    </tr>\n",
       "  </tbody>\n",
       "</table>\n",
       "</div>"
      ],
      "text/plain": [
       "      timestamp canid  dlc byte0 byte1 byte2 byte3 byte4 byte5 byte6 byte7  \\\n",
       "0  1.478196e+09  02b0    5    ff    7f    00    05    49     R   NaN   NaN   \n",
       "1  1.478196e+09  0002    8    00    00    00    00    00    01    07    15   \n",
       "2  1.478196e+09  0153    8    00    21    10    ff    00    ff    00    00   \n",
       "3  1.478196e+09  0130    8    19    80    00    ff    fe    7f    07    60   \n",
       "4  1.478196e+09  0131    8    17    80    00    00    65    7f    07    9f   \n",
       "\n",
       "  flag                      datetime  year  month  day  hour  canid_int  \\\n",
       "0  NaN 2016-11-03 17:55:21.905735970  2016     11    3    17        688   \n",
       "1    R 2016-11-03 17:55:21.908437014  2016     11    3    17          2   \n",
       "2    R 2016-11-03 17:55:21.908675909  2016     11    3    17        339   \n",
       "3    R 2016-11-03 17:55:21.909414053  2016     11    3    17        304   \n",
       "4    R 2016-11-03 17:55:21.909660101  2016     11    3    17        305   \n",
       "\n",
       "       merged_bytes  \n",
       "0               NaN  \n",
       "1  0000000000010715  \n",
       "2  002110ff00ff0000  \n",
       "3  198000fffe7f0760  \n",
       "4  17800000657f079f  "
      ]
     },
     "execution_count": 126,
     "metadata": {},
     "output_type": "execute_result"
    }
   ],
   "source": [
    "fuzzy_df_copy.head()"
   ]
  },
  {
   "cell_type": "markdown",
   "metadata": {},
   "source": [
    "### Insights about Fuzzy Attack\n",
    "- All data was collected November 3, 2016 and in 3 hours. it is same as DoS Attack.\n",
    "- There can be groupings as well.\n",
    "- In attack free data, dlc can be 2 or 8. In fuzzy attack it can be 2,5,6,and 8. 5 and 6 can be quickly find as malicious.\n",
    "- When we merge bytes columns, fuzzy attack have 560k unique data. Four unique dlc may create this huge unique data number\n",
    "- "
   ]
  },
  {
   "cell_type": "markdown",
   "metadata": {},
   "source": [
    "## Attack Free"
   ]
  },
  {
   "cell_type": "code",
   "execution_count": 127,
   "metadata": {},
   "outputs": [
    {
     "name": "stdout",
     "output_type": "stream",
     "text": [
      "Data Shape\n",
      "****************************************\n",
      "Rows: 988871, Columns: 12\n",
      "\n",
      "Info\n",
      "****************************************\n",
      "    Column Data Type  Null Count  Unique Count\n",
      " timestamp   float64           0        988871\n",
      "     canid    object           0            27\n",
      "frame_type     int64           0             1\n",
      "       dlc     int64           0             3\n",
      "     byte0    object           0           256\n",
      "     byte1    object           0           256\n",
      "     byte2    object       10129           256\n",
      "     byte3    object       10129           256\n",
      "     byte4    object       10129           256\n",
      "     byte5    object       60735           256\n",
      "     byte6    object       60735           227\n",
      "     byte7    object       60735           256\n"
     ]
    }
   ],
   "source": [
    "attack_free_df_copy=attack_free_df\n",
    "\n",
    "show_shape_info_of_data(attack_free_df_copy)"
   ]
  },
  {
   "cell_type": "code",
   "execution_count": 128,
   "metadata": {},
   "outputs": [],
   "source": [
    "col=\"timestamp\"\n",
    "attack_free_df_copy=convert_timestamp_to_datetime(\"datetime\",\"timestamp\", attack_free_df_copy)\n",
    "attack_free_df_copy=divide_datetime_into_hour_day_month_year(\"datetime\",attack_free_df_copy)"
   ]
  },
  {
   "cell_type": "code",
   "execution_count": 129,
   "metadata": {},
   "outputs": [
    {
     "name": "stdout",
     "output_type": "stream",
     "text": [
      "day [14]\n",
      "month [11]\n",
      "year [2016]\n",
      "hour [11]\n"
     ]
    }
   ],
   "source": [
    "show_unique_hour_day_month_year_of_timestamp(attack_free_df_copy)\n"
   ]
  },
  {
   "cell_type": "code",
   "execution_count": 130,
   "metadata": {},
   "outputs": [],
   "source": [
    "col=\"canid\"\n",
    "attack_free_df_copy[\"canid_int\"] = attack_free_df_copy[col].apply(convert_hex_to_int)\n"
   ]
  },
  {
   "cell_type": "code",
   "execution_count": 131,
   "metadata": {},
   "outputs": [],
   "source": [
    "#attack_free_df_copy[\"canid_int\"].value_counts()"
   ]
  },
  {
   "cell_type": "code",
   "execution_count": 132,
   "metadata": {},
   "outputs": [
    {
     "name": "stdout",
     "output_type": "stream",
     "text": [
      "only in dos {np.int64(0)}\n",
      "only in attack free {np.int64(688)}\n"
     ]
    }
   ],
   "source": [
    "attack_free_canid_set=set(attack_free_df_copy[\"canid_int\"].unique())\n",
    "dos_canid_set=set(dos_df_copy[\"canid_int\"].unique())\n",
    "\n",
    "print(\"only in dos\",dos_canid_set-attack_free_canid_set)\n",
    "print(\"only in attack free\",attack_free_canid_set-dos_canid_set)"
   ]
  },
  {
   "cell_type": "code",
   "execution_count": 133,
   "metadata": {},
   "outputs": [
    {
     "data": {
      "text/plain": [
       "array([0])"
      ]
     },
     "execution_count": 133,
     "metadata": {},
     "output_type": "execute_result"
    }
   ],
   "source": [
    "col=\"frame_type\"\n",
    "attack_free_df_copy[col].unique()"
   ]
  },
  {
   "cell_type": "code",
   "execution_count": 134,
   "metadata": {},
   "outputs": [
    {
     "data": {
      "text/plain": [
       "array([8, 5, 2])"
      ]
     },
     "execution_count": 134,
     "metadata": {},
     "output_type": "execute_result"
    }
   ],
   "source": [
    "col=\"dlc\"\n",
    "attack_free_df_copy[col].unique()"
   ]
  },
  {
   "cell_type": "code",
   "execution_count": 135,
   "metadata": {},
   "outputs": [],
   "source": [
    "bytes_col_list=[col for col in attack_free_df_copy.columns if col.startswith(\"byte\")]\n",
    "attack_free_df_copy=merge_bytes_into_one_column(bytes_col_list,\"merged_bytes\",attack_free_df_copy)"
   ]
  },
  {
   "cell_type": "code",
   "execution_count": 136,
   "metadata": {},
   "outputs": [
    {
     "data": {
      "text/plain": [
       "['byte0', 'byte1', 'byte2', 'byte3', 'byte4', 'byte5', 'byte6', 'byte7']"
      ]
     },
     "execution_count": 136,
     "metadata": {},
     "output_type": "execute_result"
    }
   ],
   "source": [
    "bytes_col_list"
   ]
  },
  {
   "cell_type": "code",
   "execution_count": 137,
   "metadata": {},
   "outputs": [],
   "source": [
    "#attack_free_df_copy.head()"
   ]
  },
  {
   "cell_type": "code",
   "execution_count": 138,
   "metadata": {},
   "outputs": [
    {
     "data": {
      "text/plain": [
       "275180"
      ]
     },
     "execution_count": 138,
     "metadata": {},
     "output_type": "execute_result"
    }
   ],
   "source": [
    "col=\"merged_bytes\"\n",
    "attack_free_df_copy[col].nunique()"
   ]
  },
  {
   "cell_type": "markdown",
   "metadata": {},
   "source": [
    "### Insights about Attack Free\n",
    "- Total rows in attack free dataset is nearly one third of dos and fuzzy attack.\n",
    "- Attack Free data was collected November 14, 2016 and in one hour.\n",
    "- Can Id\n",
    "    - There can be grouping of ids such as some ids occur 50k, some 25k, some 5k.\n",
    "- Frame Type\n",
    "    - I named 000 as frame_type but not sure whether it is frame_type or not because it can be rtr that show it is standart can frame or extended can frame.\n",
    "    - Assume it is really frame type. It is value only is 000 and data frame not a remote frame.\n",
    "- DLC\n",
    "    - it can be 2,5 or 8. It probably shows diverse data.\n",
    "- Byte0 ... Btye7\n",
    "    - When you merge 8 columns into one columns, you can seee 275k unique data field.\n",
    "    \n",
    "\n"
   ]
  },
  {
   "cell_type": "markdown",
   "metadata": {},
   "source": [
    "## General Insights"
   ]
  },
  {
   "cell_type": "markdown",
   "metadata": {},
   "source": [
    "- Can Id\n",
    "    - DoS and Attack Free datasets have similar can id's except dos only has 0 and attack free only has 688.\n",
    "    - Dos and Attack Free have 27 unique ids whereas, Fuzzy attack have 2048 unique ids.\n",
    "- Bytes\n",
    "    - Dos have 66k unique and Attack Free have 275k unique data field and Fuzzy attack have 560k.\n"
   ]
  }
 ],
 "metadata": {
  "kernelspec": {
   "display_name": "naz-ids-dev",
   "language": "python",
   "name": "python3"
  },
  "language_info": {
   "codemirror_mode": {
    "name": "ipython",
    "version": 3
   },
   "file_extension": ".py",
   "mimetype": "text/x-python",
   "name": "python",
   "nbconvert_exporter": "python",
   "pygments_lexer": "ipython3",
   "version": "3.11.5"
  }
 },
 "nbformat": 4,
 "nbformat_minor": 2
}
